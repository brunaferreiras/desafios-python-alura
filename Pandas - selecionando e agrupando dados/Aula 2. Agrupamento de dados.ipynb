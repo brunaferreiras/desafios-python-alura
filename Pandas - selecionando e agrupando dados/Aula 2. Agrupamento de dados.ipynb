{
 "cells": [
  {
   "cell_type": "markdown",
   "id": "c7ea0d56",
   "metadata": {},
   "source": [
    "#### <font color=#a3b899> Desafio referente à Aula 2. \"Agrupamento de dados\" do curso **\"Pandas selecionando e agrupando dados\"**, da *Alura*."
   ]
  },
  {
   "cell_type": "markdown",
   "id": "98164315",
   "metadata": {},
   "source": [
    "Chegou o momento de praticar! Vamos aplicar os conceitos aprendidos durante a aula a partir de algumas atividades. Solucione os problemas propostos através de códigos utilizando a base de dados disponibilizada no curso."
   ]
  },
  {
   "cell_type": "code",
   "execution_count": null,
   "id": "8366ffaa",
   "metadata": {},
   "outputs": [],
   "source": [
    "# Importa a biblioteca Pandas\n",
    "import pandas as pd"
   ]
  },
  {
   "cell_type": "code",
   "execution_count": null,
   "id": "b5cc964c",
   "metadata": {},
   "outputs": [],
   "source": [
    "# Carrega os dados para o DataFrame\n",
    "dados = pd.read_excel('1-SEEG10_GERAL-BR_UF_20.xlsx', sheet_name= 'GEE Estados')"
   ]
  },
  {
   "cell_type": "code",
   "execution_count": null,
   "id": "bea94dab",
   "metadata": {},
   "outputs": [],
   "source": [
    "# Seleciona e armazena as colunas a serem mantidas\n",
    "colunas_info = list(dados.loc[:,'Nível 1 - Setor':'Produto'].columns)"
   ]
  },
  {
   "cell_type": "code",
   "execution_count": null,
   "id": "e980b13c",
   "metadata": {},
   "outputs": [],
   "source": [
    "# Seleciona e armazena as colunas a serem alteradas\n",
    "colunas_emissao = list(dados.loc[:,1970:2021].columns)"
   ]
  },
  {
   "cell_type": "code",
   "execution_count": null,
   "id": "fd418a20",
   "metadata": {},
   "outputs": [],
   "source": [
    "# Remodela o DataFrame para o formato long\n",
    "dados_long = dados.melt(id_vars = colunas_info, value_vars = colunas_emissao, var_name = 'Ano' , value_name = 'Emissão')"
   ]
  },
  {
   "cell_type": "markdown",
   "id": "ff226674",
   "metadata": {},
   "source": [
    "<font color=#f8d3c5>**1.** </font> Faça um agrupamento de dados com base na coluna `\"Nível 1 - Setor\"` para visualizar o dicionário contendo as chaves de grupos formados e a lista de índices de cada grupo."
   ]
  },
  {
   "cell_type": "code",
   "execution_count": null,
   "id": "24a0b37b",
   "metadata": {},
   "outputs": [],
   "source": [
    "# Agrupa pela coluna \"Nível 1 - Setor\"\n",
    "dados_long.groupby('Nível 1 - Setor').groups"
   ]
  },
  {
   "cell_type": "markdown",
   "id": "b68a523e",
   "metadata": {},
   "source": [
    "<font color=#f8d3c5>**2.** </font> Faça um agrupamento de dados com base na coluna `\"Nível 1 - Setor\"` e localize os dados do grupo \"Agropecuária\"."
   ]
  },
  {
   "cell_type": "code",
   "execution_count": null,
   "id": "89e51eec",
   "metadata": {},
   "outputs": [],
   "source": [
    "# Seleciona apenas o grupo \"Agropecuária\" na coluna \"Nível 1 - Setor\"\n",
    "dados_long.groupby('Nível 1 - Setor').get_group('Agropecuária')"
   ]
  },
  {
   "cell_type": "markdown",
   "id": "79f19b56",
   "metadata": {},
   "source": [
    "<font color=#f8d3c5>**3.** </font> Faça um agrupamento de dados com base na coluna `\"Nível 1 - Setor\"` para identificar a média de emissão de cada setor no ano de 2021."
   ]
  },
  {
   "cell_type": "code",
   "execution_count": null,
   "id": "96777434",
   "metadata": {},
   "outputs": [],
   "source": [
    "# Agrupa pela coluna \"Nível 1 - Setor\" no ano de 2021 e calcula a média de emissões da Agropecuária\n",
    "dados_long.loc[dados_long['Ano'] == 2021].groupby('Nível 1 - Setor').get_group('Agropecuária').mean(numeric_only=True)"
   ]
  },
  {
   "cell_type": "markdown",
   "id": "33e619dc",
   "metadata": {},
   "source": [
    "<font color=#f8d3c5>**4.** </font> Faça um agrupamento de dados com base na coluna `\"Nível 1 - Setor\"` para identificar a soma de emissão de cada setor. Ordene os dados da maior para menor emissão."
   ]
  },
  {
   "cell_type": "code",
   "execution_count": null,
   "id": "1aca3b78",
   "metadata": {},
   "outputs": [],
   "source": [
    "# Idendifica a soma de cada grupo e ordena \n",
    "dados_long.groupby('Nível 1 - Setor').sum(numeric_only=True).sort_values('Emissão', ascending=False)"
   ]
  },
  {
   "cell_type": "markdown",
   "id": "23dabd6a",
   "metadata": {},
   "source": [
    "---"
   ]
  }
 ],
 "metadata": {
  "kernelspec": {
   "display_name": "Python 3",
   "language": "python",
   "name": "python3"
  },
  "language_info": {
   "codemirror_mode": {
    "name": "ipython",
    "version": 3
   },
   "file_extension": ".py",
   "mimetype": "text/x-python",
   "name": "python",
   "nbconvert_exporter": "python",
   "pygments_lexer": "ipython3",
   "version": "3.13.2"
  }
 },
 "nbformat": 4,
 "nbformat_minor": 5
}
