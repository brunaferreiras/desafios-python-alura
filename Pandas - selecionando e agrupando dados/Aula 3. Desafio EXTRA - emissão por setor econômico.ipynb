{
 "cells": [
  {
   "cell_type": "markdown",
   "id": "9f6f643e",
   "metadata": {},
   "source": [
    "#### <font color=#a3b899> Desafio **EXTRA** referente à Aula 3. \"Agrupamentos multi-index\" do curso **\"Pandas selecionando e agrupando dados\"**, da *Alura*."
   ]
  },
  {
   "cell_type": "markdown",
   "id": "4b5e8e89",
   "metadata": {},
   "source": [
    "Uma das tarefas passadas pela equipe de supervisão do órgão ambiental era de encontrar a emissão média de cada gás por ano. Conseguimos realizar essa tarefa usando o método `groupby()` e `pivot_table()` para gerar uma tabela contendo a emissão ao longo dos anos para cada um dos gases.\n",
    "\n",
    "A equipe de supervisão deseja saber agora a média de emissão para cada um dos setores econômicos da coluna \"Nível 1 - Setor\" ao longo dos anos. Como desafio, crie uma tabela de pivô e uma visualização gráfica contendo essas informações, utilizando apenas o método `pivot_table` para a construção da tabela, sem utilizar o método `groupby`.\n",
    "\n",
    "Você pode buscar informações de como fazer isso na [documentação Pandas sobre o método pivot_table](https://pandas.pydata.org/docs/reference/api/pandas.pivot_table.html)."
   ]
  },
  {
   "cell_type": "markdown",
   "id": "eb4c8876",
   "metadata": {},
   "source": [
    "### <font color=#f8d3c5> **Carregando os dados**"
   ]
  },
  {
   "cell_type": "code",
   "execution_count": null,
   "id": "728a2729",
   "metadata": {},
   "outputs": [],
   "source": [
    "# Importa a biblioteca Pandas\n",
    "import pandas as pd\n",
    "import numpy as np"
   ]
  },
  {
   "cell_type": "code",
   "execution_count": null,
   "id": "afd5bac4",
   "metadata": {},
   "outputs": [],
   "source": [
    "# Carrega os dados para o DataFrame\n",
    "dados = pd.read_excel('1-SEEG10_GERAL-BR_UF_20.xlsx', sheet_name= 'GEE Estados')"
   ]
  },
  {
   "cell_type": "markdown",
   "id": "bd54f03a",
   "metadata": {},
   "source": [
    "### <font color=#f8d3c5> **Transformando o DataFrame**"
   ]
  },
  {
   "cell_type": "code",
   "execution_count": null,
   "id": "0ef4e265",
   "metadata": {},
   "outputs": [],
   "source": [
    "# Seleciona e armazena as colunas a serem mantidas\n",
    "colunas_info = list(dados.loc[:,'Nível 1 - Setor':'Produto'].columns)"
   ]
  },
  {
   "cell_type": "code",
   "execution_count": null,
   "id": "4e8ea91a",
   "metadata": {},
   "outputs": [],
   "source": [
    "# Seleciona e armazena as colunas a serem alteradas\n",
    "colunas_emissao = list(dados.loc[:,1970:2021].columns)"
   ]
  },
  {
   "cell_type": "code",
   "execution_count": null,
   "id": "7c581717",
   "metadata": {},
   "outputs": [],
   "source": [
    "# Remodela o DataFrame para o formato long\n",
    "dados_long = dados.melt(id_vars = colunas_info, value_vars = colunas_emissao, var_name = 'Ano' , value_name = 'Emissão')"
   ]
  },
  {
   "cell_type": "code",
   "execution_count": null,
   "id": "f41c1f9b",
   "metadata": {},
   "outputs": [],
   "source": [
    "# Cria a tabela pivô\n",
    "media_emissao_anual = dados_long.pivot_table(index = 'Ano', columns = 'Nível 1 - Setor', values = 'Emissão', aggfunc= 'mean')\n",
    "media_emissao_anual"
   ]
  },
  {
   "cell_type": "markdown",
   "id": "7c45bdb0",
   "metadata": {},
   "source": [
    "### <font color=#f8d3c5> **Criando as visualizações**"
   ]
  },
  {
   "cell_type": "code",
   "execution_count": null,
   "id": "ba25f26a",
   "metadata": {},
   "outputs": [],
   "source": [
    "# Cria os gráficos das médias de emissões por ano\n",
    "media_emissao_anual.plot(subplots = True, figsize = (10, 25));"
   ]
  },
  {
   "cell_type": "markdown",
   "id": "b73e94ca",
   "metadata": {},
   "source": [
    "---"
   ]
  }
 ],
 "metadata": {
  "kernelspec": {
   "display_name": "Python 3",
   "language": "python",
   "name": "python3"
  },
  "language_info": {
   "codemirror_mode": {
    "name": "ipython",
    "version": 3
   },
   "file_extension": ".py",
   "mimetype": "text/x-python",
   "name": "python",
   "nbconvert_exporter": "python",
   "pygments_lexer": "ipython3",
   "version": "3.13.2"
  }
 },
 "nbformat": 4,
 "nbformat_minor": 5
}
