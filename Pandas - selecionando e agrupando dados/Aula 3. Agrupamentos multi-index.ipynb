{
 "cells": [
  {
   "cell_type": "markdown",
   "id": "dfbdda11",
   "metadata": {},
   "source": [
    "#### <font color=#a3b899> Desafio referente à Aula 3. \"Agrupamentos multi-index\" do curso **\"Pandas selecionando e agrupando dados\"**, da *Alura*."
   ]
  },
  {
   "cell_type": "markdown",
   "id": "4cb6604d",
   "metadata": {},
   "source": [
    "Chegou o momento de praticar! Vamos aplicar os conceitos aprendidos durante a aula a partir de algumas atividades. Solucione os problemas propostos através de códigos utilizando a base de dados disponibilizada no curso."
   ]
  },
  {
   "cell_type": "markdown",
   "id": "a8d53c69",
   "metadata": {},
   "source": [
    "### <font color=#f8d3c5> **Carregando os dados**"
   ]
  },
  {
   "cell_type": "code",
   "execution_count": 1,
   "id": "89cc685f",
   "metadata": {},
   "outputs": [],
   "source": [
    "# Importa a biblioteca Pandas\n",
    "import pandas as pd"
   ]
  },
  {
   "cell_type": "code",
   "execution_count": null,
   "id": "f50b2244",
   "metadata": {},
   "outputs": [],
   "source": [
    "# Carrega os dados para o DataFrame\n",
    "dados = pd.read_excel('1-SEEG10_GERAL-BR_UF_20.xlsx', sheet_name= 'GEE Estados')"
   ]
  },
  {
   "cell_type": "markdown",
   "id": "e85d97b8",
   "metadata": {},
   "source": [
    "### <font color=#f8d3c5> **Transformando o DataFrame**"
   ]
  },
  {
   "cell_type": "code",
   "execution_count": 5,
   "id": "b879721d",
   "metadata": {},
   "outputs": [],
   "source": [
    "# Seleciona e armazena as colunas a serem mantidas\n",
    "colunas_info = list(dados.loc[:,'Nível 1 - Setor':'Produto'].columns)"
   ]
  },
  {
   "cell_type": "code",
   "execution_count": 6,
   "id": "508eb11b",
   "metadata": {},
   "outputs": [],
   "source": [
    "# Seleciona e armazena as colunas a serem alteradas\n",
    "colunas_emissao = list(dados.loc[:,1970:2021].columns)"
   ]
  },
  {
   "cell_type": "code",
   "execution_count": 7,
   "id": "6bca244b",
   "metadata": {},
   "outputs": [],
   "source": [
    "# Remodela o DataFrame para o formato long\n",
    "dados_long = dados.melt(id_vars = colunas_info, value_vars = colunas_emissao, var_name = 'Ano' , value_name = 'Emissão')"
   ]
  },
  {
   "cell_type": "markdown",
   "id": "d73b44fc",
   "metadata": {},
   "source": [
    "### <font color=#f8d3c5> **Questões**"
   ]
  },
  {
   "cell_type": "markdown",
   "id": "0c0ced51",
   "metadata": {},
   "source": [
    "<font color=#f8d3c5>**1.** </font> Faça um agrupamento de dados com as colunas \"Estado\" e \"Nível 1 - Setor\", obtendo a soma de emissão e armazenando o resultado em uma tabela."
   ]
  },
  {
   "cell_type": "code",
   "execution_count": 9,
   "id": "9a37bf6f",
   "metadata": {},
   "outputs": [],
   "source": [
    "# Agrupa pelas colunas \"Estado\" e \"Nível 1 - Setor\", somando as emissões\n",
    "estados_setor = dados_long.groupby(['Estado', 'Nível 1 - Setor'])[['Emissão']].sum()"
   ]
  },
  {
   "cell_type": "markdown",
   "id": "e1db030f",
   "metadata": {},
   "source": [
    "<font color=#f8d3c5>**2.** </font> Utilizando a tabela construída na atividade 1, selecione os dados referentes à \"Energia\" do índice \"Nível 1 - Setor\"."
   ]
  },
  {
   "cell_type": "code",
   "execution_count": null,
   "id": "875241ed",
   "metadata": {},
   "outputs": [],
   "source": [
    "# Seleciona os dados do setor de Energia em \"Nível 1 -Setor\"\n",
    "estados_setor.xs('Energia', level = 1)"
   ]
  },
  {
   "cell_type": "markdown",
   "id": "6b0377e0",
   "metadata": {},
   "source": [
    "<font color=#f8d3c5>**3.** </font> Utilizando a tabela construída na atividade 1, encontre a atividade econômica com valor máximo de emissão do Estado de Minas Gerais."
   ]
  },
  {
   "cell_type": "code",
   "execution_count": null,
   "id": "9491f7b4",
   "metadata": {},
   "outputs": [],
   "source": [
    "# Encontra o setor com maior número de emissões em Minas Gerais\n",
    "estados_setor.xs('MG', level= 0).idxmax()"
   ]
  },
  {
   "cell_type": "markdown",
   "id": "a2967ed7",
   "metadata": {},
   "source": [
    "<font color=#f8d3c5>**4.** </font> Obtenha uma tabela contendo a atividade econômica com máxima emissão para cada Estado."
   ]
  },
  {
   "cell_type": "code",
   "execution_count": null,
   "id": "9f411435",
   "metadata": {},
   "outputs": [],
   "source": [
    "# Cria uma tabela contendo a atividade econômica com maior nível de emissão por estado\n",
    "estados_setor.groupby(level = 0).idxmax()"
   ]
  },
  {
   "cell_type": "markdown",
   "id": "49ad44a9",
   "metadata": {},
   "source": [
    "<font color=#f8d3c5>**5.** </font> Obtenha uma tabela contendo o Estado com máxima emissão para cada atividade econômica."
   ]
  },
  {
   "cell_type": "code",
   "execution_count": null,
   "id": "8a2ba624",
   "metadata": {},
   "outputs": [],
   "source": [
    "# Cria uma tabela contendo o estado com máxima emissão para cada setor\n",
    "estados_setor.groupby(level = 1).idxmax()"
   ]
  },
  {
   "cell_type": "markdown",
   "id": "3f621b6e",
   "metadata": {},
   "source": [
    "---"
   ]
  }
 ],
 "metadata": {
  "kernelspec": {
   "display_name": "Python 3",
   "language": "python",
   "name": "python3"
  },
  "language_info": {
   "codemirror_mode": {
    "name": "ipython",
    "version": 3
   },
   "file_extension": ".py",
   "mimetype": "text/x-python",
   "name": "python",
   "nbconvert_exporter": "python",
   "pygments_lexer": "ipython3",
   "version": "3.13.2"
  }
 },
 "nbformat": 4,
 "nbformat_minor": 5
}
