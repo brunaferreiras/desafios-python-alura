{
 "cells": [
  {
   "cell_type": "markdown",
   "id": "c61faf43",
   "metadata": {},
   "source": [
    "#### <font color=#a3b899> Desafio referente à Aula 1. \"Conhecendo os dados\" do curso **\"Pandas selecionando e agrupando dados\"**, da *Alura*."
   ]
  },
  {
   "cell_type": "markdown",
   "id": "d5afff2e",
   "metadata": {},
   "source": [
    "Chegou o momento de praticar! Vamos aplicar os conceitos aprendidos durante a aula a partir de algumas atividades. Solucione os problemas propostos através de códigos utilizando a base de dados disponibilizada no curso."
   ]
  },
  {
   "cell_type": "markdown",
   "id": "a32b46bf",
   "metadata": {},
   "source": [
    "<font color=#f8d3c5>**1.** </font> Encontre os valores únicos das colunas \"Nível 1 - Setor\" e \"Estado\" para identificar as atividades econômicas presentes na base de dados e se todos os Estados do Brasil estão presentes no DataFrame."
   ]
  },
  {
   "cell_type": "code",
   "execution_count": null,
   "id": "35b4fa23",
   "metadata": {},
   "outputs": [],
   "source": [
    "# Importa a biblioteca Pandas\n",
    "import pandas as pd"
   ]
  },
  {
   "cell_type": "code",
   "execution_count": null,
   "id": "5d755b0d",
   "metadata": {},
   "outputs": [],
   "source": [
    "# Carrega os dados para o DataFrame\n",
    "dados = pd.read_excel('1-SEEG10_GERAL-BR_UF_20.xlsx', sheet_name= 'GEE Estados')"
   ]
  },
  {
   "cell_type": "code",
   "execution_count": null,
   "id": "8f8ddd95",
   "metadata": {},
   "outputs": [],
   "source": [
    "# Identifica as atividades econômicas presentes na base de dados\n",
    "dados['Nível 1 - Setor'].unique()"
   ]
  },
  {
   "cell_type": "code",
   "execution_count": null,
   "id": "17d0ea5f",
   "metadata": {},
   "outputs": [],
   "source": [
    "# Identifica os estados presentes na base de dados\n",
    "estados = dados['Estado'].unique()\n",
    "len(estados)"
   ]
  },
  {
   "cell_type": "markdown",
   "id": "4eae270c",
   "metadata": {},
   "source": [
    "<font color=#f8d3c5>***Observação:*** Foram observados 29 valores únicos na coluna `Estado`, sendo dois deles \"nan\" e \"BR\". Os valores restantes correspondem aos 26 estados do país, além do Distrito Federal."
   ]
  },
  {
   "cell_type": "markdown",
   "id": "69d4ae55",
   "metadata": {},
   "source": [
    "<font color=#f8d3c5>**2.** </font> Filtre o DataFrame somente com os dados dos Estados da região Sul do Brasil."
   ]
  },
  {
   "cell_type": "code",
   "execution_count": null,
   "id": "ef5d1594",
   "metadata": {},
   "outputs": [],
   "source": [
    "# Filtra apenas os dados da Região Sul\n",
    "dados[dados['Estado'].isin(['PR', 'SC', 'RS'])]"
   ]
  },
  {
   "cell_type": "markdown",
   "id": "25bd02df",
   "metadata": {},
   "source": [
    "<font color=#f8d3c5>**3.** </font> Filtre o DataFrame para exibir apenas os registros em que o campo \"Nível 1 - Setor\" seja igual a \"Mudança de Uso da Terra e Floresta\" e o campo \"Estado\" seja igual a \"AM\" (sigla para o Estado do Amazonas)."
   ]
  },
  {
   "cell_type": "code",
   "execution_count": null,
   "id": "5799c672",
   "metadata": {},
   "outputs": [],
   "source": [
    "# Filtra apenas os registros de Mudança de Uso da Terra e Floresta no Amazonas\n",
    "mudanca_de_uso_AM = dados[(dados['Nível 1 - Setor'] == 'Mudança de Uso da Terra e Floresta') & (dados['Estado'] == 'AM')]\n",
    "mudanca_de_uso_AM"
   ]
  },
  {
   "cell_type": "markdown",
   "id": "c00115d6",
   "metadata": {},
   "source": [
    "<font color=#f8d3c5>**4.** </font> Encontre o valor máximo de emissão do ano de 2021 para os dados de \"Agropecuária\" no Estado do Pará."
   ]
  },
  {
   "cell_type": "code",
   "execution_count": null,
   "id": "321abe7a",
   "metadata": {},
   "outputs": [],
   "source": [
    "# Filtra os dados da agropecuária paraense e encontra o máximo\n",
    "agro_para = (dados['Nível 1 - Setor'].isin(['Agropecuária']) & dados['Estado'].isin(['PA']))\n",
    "maximo_2021 = dados.loc[agro_para, 2021].max()\n",
    "maximo_2021"
   ]
  },
  {
   "cell_type": "markdown",
   "id": "8d3ecec7",
   "metadata": {},
   "source": [
    "---"
   ]
  }
 ],
 "metadata": {
  "kernelspec": {
   "display_name": "Python 3",
   "language": "python",
   "name": "python3"
  },
  "language_info": {
   "codemirror_mode": {
    "name": "ipython",
    "version": 3
   },
   "file_extension": ".py",
   "mimetype": "text/x-python",
   "name": "python",
   "nbconvert_exporter": "python",
   "pygments_lexer": "ipython3",
   "version": "3.13.2"
  }
 },
 "nbformat": 4,
 "nbformat_minor": 5
}
