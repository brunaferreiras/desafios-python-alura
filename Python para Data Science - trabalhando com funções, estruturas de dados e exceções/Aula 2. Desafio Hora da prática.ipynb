{
  "nbformat": 4,
  "nbformat_minor": 0,
  "metadata": {
    "colab": {
      "provenance": []
    },
    "kernelspec": {
      "name": "python3",
      "display_name": "Python 3"
    },
    "language_info": {
      "name": "python"
    }
  },
  "cells": [
    {
      "cell_type": "markdown",
      "source": [
        "#### <font color=#f1fa8c> Exercícios de programação em Python referentes à Aula 2. Funções, do curso \"Python para Data Science: trabalhando com funções, estruturas de dados e exceções\" da Alura."
      ],
      "metadata": {
        "id": "-p78CWCBOBQ0"
      }
    },
    {
      "cell_type": "markdown",
      "source": [
        "\n",
        "\n",
        "---\n",
        "\n"
      ],
      "metadata": {
        "id": "Vh8iZdWtg_WJ"
      }
    },
    {
      "cell_type": "markdown",
      "source": [
        "###### *Vamos praticar o que aprendemos até aqui solucionando os problemas propostos em código.*\n",
        "\n"
      ],
      "metadata": {
        "id": "h6GEFt-xQ90d"
      }
    },
    {
      "cell_type": "markdown",
      "source": [
        "# <font color=#ffb86c> **Aquecimento**"
      ],
      "metadata": {
        "id": "r5NVuzY9REP_"
      }
    },
    {
      "cell_type": "markdown",
      "source": [
        "<font color =\t#bd93f9>**1.**</font> Escreva um código que lê a lista abaixo e faça:\n",
        "\n",
        "```python\n",
        "lista = [16, 14, 63, 65, 17, 99, 70, 11, 20, 48, 79, 32, 17, 89, 12, 25, 66]\n",
        "```"
      ],
      "metadata": {
        "id": "JJ_bBin-RbjN"
      }
    },
    {
      "cell_type": "markdown",
      "source": [
        "- A leitura do tamanho da lista\n",
        "- A leitura do maior e menor valor\n",
        "- A soma dos valores da lista\n",
        "\n",
        "Ao final exiba uma mensagem dizendo:"
      ],
      "metadata": {
        "id": "ysIU3MdARhSg"
      }
    },
    {
      "cell_type": "markdown",
      "source": [
        "\"A lista possui [tam] números em que o maior número é [maior] e o menor número é [menor]. A soma dos valores presentes nela é igual a [soma]\""
      ],
      "metadata": {
        "id": "ryhnx2yrRmr2"
      }
    },
    {
      "cell_type": "code",
      "source": [
        "lista = [16, 14, 63, 65, 17, 99, 70, 11, 20, 48, 79, 32, 17, 89, 12, 25, 66]\n",
        "\n",
        "tam = len(lista)\n",
        "maior = max(lista)\n",
        "menor = min(lista)\n",
        "soma = sum(lista)\n",
        "\n",
        "print(f'A lista possui {tam} números em que o maior número é {maior} e o menor número é {menor}. A soma dos valores presentes nela é igual a {soma}.')"
      ],
      "metadata": {
        "id": "f4EzHXS7Rk9j"
      },
      "execution_count": null,
      "outputs": []
    },
    {
      "cell_type": "markdown",
      "source": [
        "<font color =\t#bd93f9>**2.**</font> Escreva uma função que gere a tabuada de um número inteiro de 1 a 10, de acordo com a escolha da pessoa usuária. Como exemplo, para o número 7, a tabuada deve ser mostrada no seguinte formato:"
      ],
      "metadata": {
        "id": "Ostgfoq2RrpT"
      }
    },
    {
      "cell_type": "markdown",
      "source": [
        "Tabuada do 7:\n",
        "\n",
        "7 x 0 = 0\n",
        "\n",
        "7 x 1 = 7\n",
        "\n",
        "[...]\n",
        "\n",
        "7 x 10 = 70"
      ],
      "metadata": {
        "id": "x94ZFBokRwbj"
      }
    },
    {
      "cell_type": "code",
      "source": [
        "inteiro = int(input('Digite um número inteiro de 1 a 10: '))\n",
        "\n",
        "def tabuada(numero):\n",
        "  print(f'Tabuada do {inteiro}:')\n",
        "  for contador in range(1, 11):\n",
        "    resultado = numero * contador\n",
        "    print(f'{numero} x {contador} = {resultado}')\n",
        "\n",
        "\n",
        "if inteiro < 1 or inteiro > 10:\n",
        "  print('Valor inválido!')\n",
        "  inteiro = int(input('Digite um número inteiro de 1 a 10: '))\n",
        "else:\n",
        "  tabuada(inteiro)"
      ],
      "metadata": {
        "id": "U2ojpY-rRvwG"
      },
      "execution_count": null,
      "outputs": []
    },
    {
      "cell_type": "markdown",
      "source": [
        "<font color =\t#bd93f9>**3.**</font> Crie a função que leia a lista abaixo e retorne uma nova lista com os múltiplos de 3:\n",
        "\n",
        "[97, 80, 94, 88, 80, 1, 16, 53, 62, 32, 24, 99]\n",
        "\n",
        "Utilize o `return` na função e salve a nova lista na variável `mult_3`."
      ],
      "metadata": {
        "id": "yrbWYUG9R5Q9"
      }
    },
    {
      "cell_type": "code",
      "source": [
        "numeros = [97, 80, 94, 88, 80, 1, 16, 53, 62, 32, 24, 99]\n",
        "\n",
        "# Função que retorna os múltiplos de 3 de uma lista dada\n",
        "def multiplos(lista: list) -> list:\n",
        "  mult_3 = []\n",
        "  for elemento in lista:\n",
        "    if elemento % 3 == 0:\n",
        "      mult_3.append(elemento)\n",
        "  return mult_3\n",
        "\n",
        "multiplos(numeros)"
      ],
      "metadata": {
        "id": "wfhlOJR-R85e"
      },
      "execution_count": null,
      "outputs": []
    },
    {
      "cell_type": "markdown",
      "source": [
        "<font color =\t#bd93f9>**4.**</font> Crie uma lista dos quadrados dos números da seguinte lista `[1, 2, 3, 4, 5, 6, 7, 8, 9, 10]`. Lembre-se de utilizar as funções lambda e `map()` para calcular o quadrado de cada elemento da lista."
      ],
      "metadata": {
        "id": "8N-l7VWVSI3g"
      }
    },
    {
      "cell_type": "code",
      "source": [
        "bases = [1, 2, 3, 4, 5, 6, 7, 8, 9, 10]\n",
        "# Criando uma lista com os quadrados dos números da lista 'bases'\n",
        "quadrados = list(map(lambda x: x**2, bases))\n",
        "quadrados"
      ],
      "metadata": {
        "id": "Ahy321cASN8F"
      },
      "execution_count": null,
      "outputs": []
    },
    {
      "cell_type": "markdown",
      "source": [
        "\n",
        "\n",
        "---\n",
        "\n"
      ],
      "metadata": {
        "id": "DMQaUHsHUjpx"
      }
    },
    {
      "cell_type": "markdown",
      "source": [
        "# <font color=#ffb86c> **Aplicando a projetos**"
      ],
      "metadata": {
        "id": "h-yExa4VSQhA"
      }
    },
    {
      "cell_type": "markdown",
      "source": [
        "<font color =\t#bd93f9>**5.**</font> Você foi contratado(a) como cientista de dados de uma associação de skate. Para analisar as notas recebidas de skatistas em algumas competições ao longo do ano, você precisa criar um código que calcula a pontuação dos(as) atletas. Para isso, o seu código deve receber 5 notas digitadas pelas pessoas juradas.\n",
        "\n",
        "Para calcular a pontuação de um(a) skatista, você precisa eliminar a maior e a menor pontuação dentre as 5 notas e tirar a média das 3 notas que sobraram. Retorne a média para apresentar o texto:\n",
        "\n",
        "`\"Nota da manobra: [media]\"`"
      ],
      "metadata": {
        "id": "q5GTIpCRSfCk"
      }
    },
    {
      "cell_type": "code",
      "source": [
        "nota1 = float(input('Nota do 1º jurado: '))\n",
        "nota2 = float(input('Nota do 2º jurado: '))\n",
        "nota3 = float(input('Nota do 3º jurado: '))\n",
        "nota4 = float(input('Nota do 4º jurado: '))\n",
        "nota5 = float(input('Nota do 5º jurado: '))\n",
        "\n",
        "# Criando a lista de notas\n",
        "notas = [nota1, nota2, nota3, nota4, nota5]\n",
        "\n",
        "# Removendo o maior e menor valores\n",
        "menor = min(notas)\n",
        "maior = max(notas)\n",
        "notas.remove(menor)\n",
        "notas.remove(maior)\n",
        "\n",
        "# Criando a função para retornar a média\n",
        "def media(lista: list) -> float:\n",
        "  resultado = sum(lista) / len(lista)\n",
        "  print(f'Nota da manobra: {resultado}.')\n",
        "\n",
        "media(notas)\n",
        "\n",
        "\n"
      ],
      "metadata": {
        "id": "RK2l6D-xSbNm"
      },
      "execution_count": null,
      "outputs": []
    },
    {
      "cell_type": "markdown",
      "source": [
        "<font color =\t#bd93f9>**6.**</font> Para atender a uma demanda de uma instituição de ensino para a análise do desempenho de seus(suas) estudantes, você precisa criar uma função que receba uma lista de 4 notas e retorne:\n",
        "\n",
        "- maior nota\n",
        "- menor nota\n",
        "- média\n",
        "- situação (Aprovado(a) ou Reprovado(a))\n",
        "\n",
        "Para testar o comportamento da função, os dados podem ser exibidos em um texto:"
      ],
      "metadata": {
        "id": "KAwP53L1SiWZ"
      }
    },
    {
      "cell_type": "markdown",
      "source": [
        "\"O(a) estudante obteve uma média de [media], com a sua maior nota de [maior] pontos e a menor nota de [menor] pontos e foi [situacao]\"\n"
      ],
      "metadata": {
        "id": "jqVq54CjSnbS"
      }
    },
    {
      "cell_type": "code",
      "source": [
        "nota_1 = float(input('Digite a 1ª nota: '))\n",
        "nota_2 = float(input('Digite a 2ª nota: '))\n",
        "nota_3 = float(input('Digite a 3ª nota: '))\n",
        "nota_4 = float(input('Digite a 4ª nota: '))\n",
        "\n",
        "# Adicionando as notas em uma lista\n",
        "notas = [nota_1, nota_2, nota_3, nota_4]\n",
        "\n",
        "# Função para encontrar o mínimo, máximo, média, e definir a situação do estudante\n",
        "def boletim(lista):\n",
        "  maior = max(lista)\n",
        "  menor = min(lista)\n",
        "  media = sum(lista) / len(lista)\n",
        "  if media < 6:\n",
        "    situacao = 'Reprovado(a)'\n",
        "  else:\n",
        "    situacao = 'Aprovado(a)'\n",
        "  print(f'O(a) estudante obteve uma média de {media}, com a sua maior nota de {maior} pontos e a menor nota de {menor} pontos e foi {situacao}.')\n",
        "\n",
        "boletim(notas)"
      ],
      "metadata": {
        "id": "rg5ApjGWSlVH"
      },
      "execution_count": null,
      "outputs": []
    },
    {
      "cell_type": "markdown",
      "source": [
        "<font color =\t#bd93f9>**7.**</font> Você recebeu uma demanda para tratar 2 listas com os nomes e sobrenomes de cada estudante concatenando-as para apresentar seus nomes completos na forma `Nome Sobrenome`. As listas são:"
      ],
      "metadata": {
        "id": "ZDJrno3uSqaH"
      }
    },
    {
      "cell_type": "code",
      "source": [
        "nomes = [\"joão\", \"MaRia\", \"JOSÉ\"]\n",
        "sobrenomes = [\"SILVA\", \"souza\", \"Tavares\"]"
      ],
      "metadata": {
        "id": "tAFkot_BStSS"
      },
      "execution_count": null,
      "outputs": []
    },
    {
      "cell_type": "markdown",
      "source": [
        "O texto exibido ao fim deve ser parecido com:"
      ],
      "metadata": {
        "id": "jAKbZS_fSyem"
      }
    },
    {
      "cell_type": "markdown",
      "source": [
        "\"Nome completo: Ana Silva\""
      ],
      "metadata": {
        "id": "rkl9XEGsS1zR"
      }
    },
    {
      "cell_type": "markdown",
      "source": [
        "<font color=#f1fa8c>***Dica:*** *Utilize a função map para mapear os nomes e sobrenomes e as funções de string para tratar o texto.*"
      ],
      "metadata": {
        "id": "tqtnC1i3S6zT"
      }
    },
    {
      "cell_type": "code",
      "source": [
        "\n",
        "# Função que concatena duas listas e corrige a capitalização\n",
        "def nomes_completos(lista1: list, lista2: list) -> list:\n",
        "  nomes_cap = list(map(lambda x: x.capitalize(), lista1))\n",
        "  sobrenomes_cap =  list(map(lambda x: x.capitalize(), lista2))\n",
        "  lista_nomes = [nome + \" \" + sobrenome for nome, sobrenome in zip(nomes_cap, sobrenomes_cap)]\n",
        "  print(f'Nome completo: {lista_nomes[0]}')\n",
        "  print(f'Nome completo: {lista_nomes[1]}')\n",
        "  print(f'Nome completo: {lista_nomes[2]}')\n",
        "\n",
        "nomes_completos(nomes, sobrenomes)"
      ],
      "metadata": {
        "id": "hFIpw8PWSzi5"
      },
      "execution_count": null,
      "outputs": []
    },
    {
      "cell_type": "markdown",
      "source": [
        "<font color =\t#bd93f9>**8.**</font> Como cientista de dados em um time de futebol, você precisa implementar novas formas de coleta de dados sobre o desempenho de jogadores e do time como um todo. Sua primeira ação é criar uma forma de calcular a pontuação do time no campeonato nacional a partir dos dados de gols marcados e sofridos em cada jogo.\n",
        "\n",
        "Escreva uma função chamada `calcula_pontos` que recebe como parâmetros duas listas de números inteiros, representando os gols marcados e sofridos pelo time em cada partida do campeonato. A função deve retornar a pontuação do time e o aproveitamento em percentual, levando em consideração que a vitória vale 3 pontos, o empate vale 1 ponto e a derrota 0 pontos.\n"
      ],
      "metadata": {
        "id": "kOVHP7lzTUwl"
      }
    },
    {
      "cell_type": "markdown",
      "source": [
        "<font color=#f1fa8c>***Observação:*** *Se a quantidade de gols marcados numa partida for maior que a de sofridos, o time venceu. Caso seja igual, o time empatou e se for menor, o time perdeu. Para calcular o aproveitamento devemos fazer a razão entre a pontuação do time pela pontuação máxima que ele poderia receber.*"
      ],
      "metadata": {
        "id": "d2JaqhPzTbIv"
      }
    },
    {
      "cell_type": "markdown",
      "source": [
        "Para teste, utilize as seguintes listas de gols marcados e sofridos:\n",
        "\n",
        "```python\n",
        "gols_marcados = [2, 1, 3, 1, 0]\n",
        "gols_sofridos = [1, 2, 2, 1, 3]\n",
        "```"
      ],
      "metadata": {
        "id": "ofAXGtP9Tuir"
      }
    },
    {
      "cell_type": "markdown",
      "source": [
        "Provável texto exibido:"
      ],
      "metadata": {
        "id": "hNYpRSE3Ty69"
      }
    },
    {
      "cell_type": "markdown",
      "source": [
        "\"A pontuação do time foi de [pontos] e seu aproveitamento foi de [aprov]%\""
      ],
      "metadata": {
        "id": "y8td-g4_T4Dy"
      }
    },
    {
      "cell_type": "code",
      "source": [
        "gols_marcados = [2, 1, 3, 1, 0]\n",
        "gols_sofridos = [1, 2, 2, 1, 3]\n",
        "\n",
        "lista_pontos = []\n",
        "def calcula_pontos(lista1,lista2):\n",
        "  saldo_gols = list(map(lambda x, y: x - y, lista1, lista2))\n",
        "  for elemento in saldo_gols:\n",
        "    if elemento < 0:\n",
        "      lista_pontos.append(0)\n",
        "    elif elemento == 0:\n",
        "      lista_pontos.append(1)\n",
        "    else:\n",
        "      lista_pontos.append(3)\n",
        "  pontuacao = sum(lista_pontos)\n",
        "  pontuacao_max = len(lista_pontos) * 3\n",
        "  aproveitamento = pontuacao / pontuacao_max *100\n",
        "  print(f'A pontuação do time foi de {pontuacao} pontos, e seu aproveitamento foi de {aproveitamento:.1f}%.')\n",
        "\n",
        "calcula_pontos(gols_marcados, gols_sofridos)\n"
      ],
      "metadata": {
        "id": "1xeThKDnT06p"
      },
      "execution_count": null,
      "outputs": []
    },
    {
      "cell_type": "markdown",
      "source": [
        "<font color =\t#bd93f9>**9.**</font> Você recebeu o desafio de criar um código que calcula os gastos de uma viagem para um das quatro cidades partindo de Recife, sendo elas: Salvador, Fortaleza, Natal e Aracaju.\n",
        "\n",
        "O custo da diária do hotel é de 150 reais em todas elas e o consumo de gasolina na viagem de carro é de 14 km/l, sendo que o valor da gasolina é de 5 reais o litro. O gastos com passeios e alimentação a se fazer em cada uma delas por dia seria de `[200, 400, 250, 300]`, respectivamente.\n",
        "\n",
        "Sabendo que as distâncias entre Recife e cada uma das cidades é de aproximadamente `[850, 800, 300, 550]` km, crie três funções nas quais: a 1ª função calcule os gastos com hotel (`gasto_hotel`), a 2ª calcule os gastos com a gasolina (`gasto_gasolina`) e a 3ª os gastos com passeio e alimentação (`gasto_passeio`).\n",
        "\n",
        "Para testar, simule uma viagem de 3 dias para Salvador partindo de Recife. Considere a viagem de ida e volta de carro."
      ],
      "metadata": {
        "id": "Kg6BQmsJT76f"
      }
    },
    {
      "cell_type": "markdown",
      "source": [
        "\"Com base nos gastos definidos, uma viagem de [dias] dias para [cidade] saindo de Recife custaria [gastos] reais\""
      ],
      "metadata": {
        "id": "UeMmfgEkUBmb"
      }
    },
    {
      "cell_type": "code",
      "source": [
        "distancia = {'Salvador': 850,\n",
        "             'Fortaleza': 800,\n",
        "             'Natal': 300,\n",
        "             'Aracaju': 550}\n",
        "\n",
        "passeios = {'Salvador': 200,\n",
        "            'Fortaleza': 400,\n",
        "            'Natal': 250,\n",
        "            'Aracaju': 300}\n",
        "\n",
        "# Definindo as variáveis de entrada\n",
        "cidade_escolhida = input('Para qual cidade você deseja viajar? ')\n",
        "dias_escolhidos = int(input('Quantos dias deseja passar na cidade? '))\n",
        "\n",
        "# Definindo a função para calcular os gastos com hotel\n",
        "def gasto_hotel(x: int) -> int:\n",
        "  totalhotel = x * 150\n",
        "  return totalhotel\n",
        "\n",
        "valor_hotel = gasto_hotel(dias_escolhidos)\n",
        "\n",
        "# Definindo a função para calcular os gastos com passeios e alimentação\n",
        "def gasto_passeio(dicionario: dict, cidade: str, dias:int) -> int:\n",
        "  totalpasseio = dicionario[cidade] * dias\n",
        "  return totalpasseio\n",
        "\n",
        "valor_passeio = gasto_passeio(passeios, cidade_escolhida, dias_escolhidos)\n",
        "\n",
        "# Definindo a função para calcular os gastos com gasolina\n",
        "def gasto_gasolina(dicionario: dict, cidade: str) -> float:\n",
        "  idaevolta = dicionario[cidade] * 2\n",
        "  totalgasolina = (idaevolta /  14) * 5\n",
        "  return totalgasolina\n",
        "\n",
        "valor_gasolina = gasto_gasolina(distancia, cidade_escolhida)\n",
        "\n",
        "# Calculando o total da viagem\n",
        "\n",
        "total = valor_hotel + valor_passeio + valor_gasolina\n",
        "\n",
        "print(f'Com base nos gastos definidos, uma viagem de {dias_escolhidos} dias para {cidade_escolhida} saindo de Recife custaria {total:.2f} reais.')\n",
        "\n",
        "\n",
        "\n"
      ],
      "metadata": {
        "id": "Vbyuwhd7T-_h"
      },
      "execution_count": null,
      "outputs": []
    },
    {
      "cell_type": "markdown",
      "source": [
        "<font color =\t#bd93f9>**10.**</font> Você iniciou um estágio em uma empresa que trabalha com processamento de linguagem natural ([NLP](https://www.alura.com.br/artigos/guia-nlp-conceitos-tecnicas)). Sua líder requisitou que você criasse um trecho de código que recebe uma frase digitada pela pessoa usuária e filtre apenas as palavras com tamanho maior ou igual a 5, exibindo-as em uma lista. Essa demanda é voltada para a análise do padrão de comportamento de pessoas na escrita de palavras acima dessa quantidade de caracteres."
      ],
      "metadata": {
        "id": "AkqCSptDUE-R"
      }
    },
    {
      "cell_type": "markdown",
      "source": [
        "<font color=#f1fa8c>***Dica:*** *Utilize as funções lambda e filter() para filtrar essas palavras. Lembrando que a função embutida filter() recebe uma função (no nosso exemplo uma função lambda) e filtra um iterável de acordo com a função. Para tratar a frase use replace() para trocar a ',' '.', '!' e '?' por espaço.*"
      ],
      "metadata": {
        "id": "TF72XwyoUMDl"
      }
    },
    {
      "cell_type": "markdown",
      "source": [
        "Use a frase `\"Aprender Python aqui na Alura é muito bom\"` para testar o código."
      ],
      "metadata": {
        "id": "q3hUvRUgUV68"
      }
    },
    {
      "cell_type": "markdown",
      "source": [
        "\n",
        "\n",
        "---\n",
        "\n"
      ],
      "metadata": {
        "id": "USklf9WgUfPe"
      }
    },
    {
      "cell_type": "code",
      "source": [
        "frase1 = input('Digite sua frase: ')\n",
        "\n",
        "def tratamento(frase: str) -> list:\n",
        "  fraselimpa = frase.replace('.', ' ').replace(',', ' ').replace('!', ' ').replace('?', ' ')\n",
        "  listafrase = fraselimpa.split()\n",
        "  return listafrase\n",
        "\n",
        "palavras = tratamento(frase1)\n",
        "\n",
        "palavras_filtradas = list(filter(lambda palavra: len(palavra) >= 5, palavras))\n",
        "print(palavras_filtradas)\n"
      ],
      "metadata": {
        "id": "XaayhzRrUK0U"
      },
      "execution_count": null,
      "outputs": []
    }
  ]
}