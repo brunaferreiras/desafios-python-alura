{
 "cells": [
  {
   "cell_type": "markdown",
   "id": "0684024e",
   "metadata": {},
   "source": [
    "#### <font color=#f1fa8c>Exercícios de programação em Python referentes à Aula 4. \"Lidando com exceções\", do curso \"Python para Data Science: trabalhando com funções, estruturas de dados e exceções\" da Alura."
   ]
  },
  {
   "cell_type": "markdown",
   "id": "ad69ea52",
   "metadata": {},
   "source": [
    "---"
   ]
  },
  {
   "cell_type": "markdown",
   "id": "5589abb7",
   "metadata": {},
   "source": [
    "*Vamos praticar o que aprendemos até aqui solucionando os problemas propostos em código.*"
   ]
  },
  {
   "cell_type": "markdown",
   "id": "0a755edb",
   "metadata": {},
   "source": [
    "## <font color=#ffb86c> **Aquecimento**"
   ]
  },
  {
   "cell_type": "markdown",
   "id": "2a17226e",
   "metadata": {},
   "source": [
    "<font color=#bd93f9>**1.**</font> Faça um programa que solicite à pessoa usuária digitar dois números float e calcular a divisão entre esses números. O código deve conter um tratamento de erro, indicando o tipo de erro que foi gerado caso a divisão não seja possível de realizar.\n",
    "\n",
    "Teste o programa com o segundo valor numérico do input igual a 0. Também teste utilizando caracteres textuais no input para checar os tipos de erro que ocorrem."
   ]
  },
  {
   "cell_type": "code",
   "execution_count": null,
   "id": "7000ae29",
   "metadata": {},
   "outputs": [],
   "source": [
    "# Definindo a função para fazer a divisão\n",
    "def divisao(a: float, b:float) -> float:\n",
    "    calculo = a / b\n",
    "    return calculo\n",
    "\n",
    "# Definindo as variáveis e tratando as exceções\n",
    "try:\n",
    "    x = float(input('Digite o primeiro número: '))\n",
    "    y = float(input('Digite o segundo número: '))\n",
    "    resultado = divisao(x, y)\n",
    "except ZeroDivisionError:\n",
    "    print('O segundo número não pode ser igual a 0.')\n",
    "except ValueError:\n",
    "    print('Devem ser inserido dois números decimais.')\n",
    "else:\n",
    "    print(resultado)\n",
    "finally:\n",
    "    print('A consulta foi finalizada!')\n"
   ]
  },
  {
   "cell_type": "markdown",
   "id": "70f231e4",
   "metadata": {},
   "source": [
    "<font color=#bd93f9>**2.** </font>Faça um programa que solicite à pessoa usuária digitar um texto que será uma chave a ser pesquisada no seguinte dicionário: `idades = {'Júlia': 16, 'Carol': 23, 'Alberto': 19, 'Roberta': 17}`, armazenando o resultado do valor em uma variável. O código deve conter um tratamento de erro `KeyError`, imprimindo a informação 'Nome não encontrado', caso ocorra o erro; e imprimir o valor caso não ocorra nenhum.\n",
    "\n",
    "Teste o programa com um nome presente em uma das chaves do dicionário e com um que não esteja no dicionário para verificar a mensagem de erro."
   ]
  },
  {
   "cell_type": "code",
   "execution_count": null,
   "id": "68635e51",
   "metadata": {},
   "outputs": [],
   "source": [
    "# Armazena o dicionário\n",
    "idades = {'Júlia': 16,\n",
    "        'Carol': 23, \n",
    "        'Alberto': 19, \n",
    "        'Roberta': 17}\n",
    "\n",
    "# Define a variável do nome a ser procurado e procura a idade no dicionário para impressão\n",
    "try:\n",
    "    nome = input('Digite o nome: ')\n",
    "    idade = idades[nome]\n",
    "except KeyError:\n",
    "    print('Nome não encontrado.')\n",
    "else:\n",
    "    print(idade)\n",
    "finally:\n",
    "    print('A consulta foi finalizada!')"
   ]
  },
  {
   "cell_type": "markdown",
   "id": "eaf06e43",
   "metadata": {},
   "source": [
    "<font color=#bd93f9>**3.**</font> Crie uma função que recebe uma lista como parâmetro e converta todos os valores da lista para `float`. A função deve conter um tratamento de erro indicando o tipo de erro gerado e retornar a lista caso não tenha ocorrido nenhum erro. Por fim, deve ter a cláusula `finally` para imprimir o texto: 'Fim da execução da função'."
   ]
  },
  {
   "cell_type": "code",
   "execution_count": null,
   "id": "af553055",
   "metadata": {},
   "outputs": [],
   "source": [
    "# Cria a função que converte para float\n",
    "def converte(lista:list) ->list:\n",
    "    try:\n",
    "        lista_float = list(map(lambda x: float(x), lista))\n",
    "    except Exception as e:\n",
    "        print(type(e), f\"Erro: {e}\")\n",
    "    else:\n",
    "        print(lista_float)\n",
    "    finally:\n",
    "        print('Fim da execução da função.')\n",
    "\n",
    "# Testando a função\n",
    "lista1 = [7, 5, 4, ab, 2]\n",
    "converte(lista1)\n"
   ]
  },
  {
   "cell_type": "markdown",
   "id": "7a0864ba",
   "metadata": {},
   "source": [
    "<font color=#bd93f9>**4.**</font> Crie uma função que recebe duas listas como parâmetros e agrupe os elementos um a um das listas, formando uma lista de tuplas de 3 elementos, no qual o primeiro e segundo elemento da tupla são os valores na posição `i` das listas e o terceiro elemento é a soma dos valores na posição `i` das listas.\n",
    "\n",
    "A função deve conter um tratamento de erro indicando o tipo de erro gerado e retornar como resultado a lista de tuplas. Caso as listas enviadas como parâmetro tenham tamanhos diferentes, a função deve retornar um IndexError com a frase: 'A quantidade de elementos em cada lista é diferente.' Dados para testar a função:\n",
    "\n",
    "- Valores sem erro:\n",
    "\n",
    "```python\n",
    "lista1 = [4,6,7,9,10]\n",
    "lista2 = [-4,6,8,7,9]\n",
    "```\n",
    "\n",
    "- Listas com tamanhos diferentes:\n",
    "\n",
    "```python\n",
    "lista1 = [4,6,7,9,10,4]\n",
    "lista2 = [-4,6,8,7,9]\n",
    "```\n",
    "\n",
    "- Listas com valores incoerentes:\n",
    "\n",
    "```python\n",
    "lista1 = [4,6,7,9,'A']\n",
    "lista2 = [-4,'E',8,7,9]\n",
    "```"
   ]
  },
  {
   "cell_type": "code",
   "execution_count": null,
   "id": "388e9a1a",
   "metadata": {},
   "outputs": [],
   "source": [
    "lista1 = [4,6,7,9,10]\n",
    "lista2 = [-4,6,8,7,9]\n",
    "lista3 = []\n",
    "\n",
    "# Definindo a função para a transformação\n",
    "def transformacao(lista_1: list, lista_2: list, lista_3: list) -> list:\n",
    "    try:\n",
    "        for i in range(0, len(lista_1)):\n",
    "            soma = lista_1[i] + lista_2[i]\n",
    "            lista_3.append(soma)\n",
    "        listafinal = list(zip(lista_1, lista_2, lista_3))\n",
    "        return listafinal\n",
    "    except IndexError:\n",
    "        print('A quantidade de elementos em cada lista é diferente.')\n",
    "    except Exception as e:\n",
    "        print(e)\n",
    "    else:\n",
    "        print(listafinal)\n",
    "    finally:\n",
    "        print('Fim da execução do código.')\n",
    "\n",
    "transformacao(lista1, lista2, lista3)\n"
   ]
  },
  {
   "cell_type": "markdown",
   "id": "1d9980bf",
   "metadata": {},
   "source": [
    "---"
   ]
  },
  {
   "cell_type": "markdown",
   "id": "12651704",
   "metadata": {},
   "source": [
    "## <font color=#ffb86c> **Aplicando a projetos**"
   ]
  },
  {
   "cell_type": "markdown",
   "id": "2452df3b",
   "metadata": {},
   "source": [
    "<font color=#bd93f9>**5.** </font>Como desafio, você recebeu a tarefa de desenvolver um código que contabiliza as pontuações de estudantes de uma instituição de ensino de acordo com suas respostas num teste. Este código deve ser testado para um exemplo de 3 estudantes com uma lista de listas em que cada lista possui as respostas de 5 questões objetivas de cada estudante. Cada questão vale um ponto e as alternativas possíveis são A, B, C ou D.\n",
    "\n",
    "Caso alguma alternativa em um dos testes não esteja entre as alternativas possíveis, você deve lançar um **ValueError** com a mensagem `\"A alternativa [alternativa] não é uma opção de alternativa válida\"`. O cálculo das 3 notas só será realizado mediante as entradas com as alternativas A, B, C ou D em todos os testes. Se não for lançada a exceção, será exibida uma lista com as notas em cada teste.\n",
    "\n",
    "Os dados para o teste do código são:\n",
    "\n",
    "- **Gabarito da prova**:\n",
    "\n",
    "```python\n",
    "gabarito = ['D', 'A', 'B', 'C', 'A']\n",
    "```\n",
    "\n",
    "Abaixo temos 2 listas de listas que você pode usar como teste:\n",
    "\n",
    "- **Notas sem exceção:**\n",
    "\n",
    "```python\n",
    "testes_sem_ex = [['D', 'A', 'B', 'C', 'A'], ['C', 'A', 'A', 'C', 'A'], ['D', 'B', 'A', 'C', 'A']]\n",
    "```\n",
    "\n",
    "- **Notas com exceção:**\n",
    "\n",
    "```python\n",
    "testes_com_ex = [['D', 'A', 'B', 'C', 'A'], ['C', 'A', 'A', 'E', 'A'], ['D', 'B', 'A', 'C', 'A']]\n",
    "```\n",
    "\n"
   ]
  },
  {
   "cell_type": "markdown",
   "id": "bb9f9a8e",
   "metadata": {},
   "source": [
    "><font color=f1fa8c> ***Dica:*** Para verificar se uma entrada da lista não está entre as alternativas possíveis, use a estrutura `lista[i] not in ['A','B','C','D']`. Por exemplo, `1 not in [2,3,4]`... Saída: `True`."
   ]
  },
  {
   "cell_type": "code",
   "execution_count": null,
   "id": "311ab3a6",
   "metadata": {},
   "outputs": [],
   "source": [
    "testes_sem_ex = [['D', 'A', 'B', 'C', 'A'], ['C', 'A', 'A', 'C', 'A'], ['D', 'B', 'A', 'C', 'A']]\n",
    "testes_com_ex = [['D', 'A', 'B', 'C', 'A'], ['C', 'A', 'A', 'E', 'A'], ['D', 'B', 'A', 'C', 'A']]\n",
    "gabarito = ['D', 'A', 'B', 'C', 'A']\n",
    "\n",
    "def correcao(lista: list) -> list:\n",
    "    pontos = 0\n",
    "    resultado = []\n",
    "    for prova in lista:\n",
    "        for i in range(0, 5):\n",
    "            if prova[i] not in gabarito:\n",
    "                print(f'A alternativa {prova[i]} não é uma opção de alternativa válida.')\n",
    "            elif prova[i] == gabarito[i]:\n",
    "                pontos += 1\n",
    "            else:\n",
    "                pontos += 0\n",
    "            resultado.append(pontos)\n",
    "            pontos = 0\n",
    "    \n",
    "correcao(testes_com_ex)"
   ]
  },
  {
   "cell_type": "markdown",
   "id": "20e7bbd0",
   "metadata": {},
   "source": [
    "<font color=#bd93f9>**6.** </font>Você está trabalhando com processamento de linguagem natural ([NLP](https://www.alura.com.br/artigos/guia-nlp-conceitos-tecnicas)) e, dessa vez, sua líder requisitou que você criasse um trecho de código que recebe uma lista com as palavras separadas de uma frase gerada pelo ChatGPT.\n",
    "\n",
    "Você precisa criar uma função que avalia cada palavra desse texto e verificar se o tratamento para retirar os símbolos de pontuação (',' '.', '!' e '?') foi realizado. Caso contrário, será lançada uma exceção do tipo **ValueError** apontando o 1º caso em que foi detectado o uso de uma pontuação por meio da frase `\"O texto apresenta pontuações na palavra \"[palavra]\".\"`. Essa demanda é voltada para a análise do padrão de frases geradas pela inteligência artificial."
   ]
  },
  {
   "cell_type": "markdown",
   "id": "40259656",
   "metadata": {},
   "source": [
    "><font color=#f1fa8c> ***Dica:*** Para verificar se uma ou mais das pontuações estão presentes em cada palavra, utilize a palavra chave or na condição if. Por exemplo, 'a' in 'alura' or 'b' in 'alura'… Saída: `True`"
   ]
  },
  {
   "cell_type": "markdown",
   "id": "3490be47",
   "metadata": {},
   "source": [
    "Os dados para o teste do código são:\n",
    "\n",
    "- **Lista tratada:**\n",
    "\n",
    "```python\n",
    "lista_tratada = ['Python', 'é', 'uma', 'linguagem', 'de', 'programação', 'poderosa', 'versátil',\n",
    "                  'e', 'fácil', 'de', 'aprender', 'utilizada', 'em', 'diversos', 'campos', 'desde',\n",
    "                  'análise', 'de', 'dados', 'até', 'inteligência', 'artificial']\n",
    "```\n",
    "\n",
    "- **Lista não tratada:**\n",
    "\n",
    "```python\n",
    "lista_nao_tratada = ['Python', 'é', 'uma', 'linguagem', 'de', 'programação', 'poderosa,', 'versátil',\n",
    "                  'e', 'fácil,', 'de', 'aprender', 'utilizada', 'em', 'diversos', 'campos,', 'desde',\n",
    "                  'análise', 'de', 'dados', 'até', 'inteligência', 'artificial!']\n",
    "```\n",
    "\n"
   ]
  },
  {
   "cell_type": "code",
   "execution_count": null,
   "id": "57d1625e",
   "metadata": {},
   "outputs": [
    {
     "name": "stdout",
     "output_type": "stream",
     "text": [
      "O texto apresenta pontuações na palavra \"poderosa,\".\n"
     ]
    }
   ],
   "source": [
    "lista_tratada = ['Python', 'é', 'uma', 'linguagem', 'de', 'programação', 'poderosa', 'versátil',\n",
    "                  'e', 'fácil', 'de', 'aprender', 'utilizada', 'em', 'diversos', 'campos', 'desde',\n",
    "                  'análise', 'de', 'dados', 'até', 'inteligência', 'artificial']\n",
    "lista_nao_tratada = ['Python', 'é', 'uma', 'linguagem', 'de', 'programação', 'poderosa,', 'versátil',\n",
    "                  'e', 'fácil,', 'de', 'aprender', 'utilizada', 'em', 'diversos', 'campos,', 'desde',\n",
    "                  'análise', 'de', 'dados', 'até', 'inteligência', 'artificial!']\n",
    "\n",
    "def tratamento(lista: list):\n",
    "    for item in lista:\n",
    "        if '.' in item or ',' in item or '!' in item or '?' in item:\n",
    "            print(f'O texto apresenta pontuações na palavra \"{item}\".')\n",
    "            break\n",
    "\n",
    "tratamento(lista_nao_tratada)"
   ]
  },
  {
   "cell_type": "markdown",
   "id": "dc748442",
   "metadata": {},
   "source": [
    "<font color=#bd93f9>**7.** </font>Você foi contratado(a) como uma pessoa cientista de dados para auxiliar um laboratório que faz experimentos sobre o comportamento de uma cultura de fungos. O laboratório precisa avaliar constantemente a razão (divisão) entre os dados de pressão e temperatura do ambiente controlado recolhidos durante a experimentação para definir a melhor condição para os testes.\n",
    "\n",
    "Para cumprir com a demanda, você precisa criar uma função `divide_colunas` que recebe os dados das colunas de pressão e temperatura (que vem no formato de listas) e gerar uma nova coluna com o resultado da divisão. Os parâmetros da função são as duas listas e você deve tratar dentro dela ao menos 2 tipos de exceções:\n",
    "\n",
    "- Verificar se as listas têm o mesmo tamanho (ValueError)\n",
    "- Verificar se existe alguma divisão por zero (ZeroDivisionError)\n",
    "\n",
    "Para testar a função, vamos realizar a divisão entre duas listas de dados coletados no experimento, com os valores de pressão e temperatura do ambiente controlado.\n",
    "\n",
    "Como teste, use os seguintes dados:\n",
    "\n",
    "- **Dados sem exceção:**\n",
    "\n",
    "```python\n",
    "pressoes = [100, 120, 140, 160, 180]\n",
    "temperaturas = [20, 25, 30, 35, 40]\n",
    "```\n",
    "\n",
    "- **Dados com exceção:**\n",
    "\n",
    "**1)** Exceção de ZeroDivisionError\n",
    "\n",
    "```python\n",
    "pressoes = [60, 120, 140, 160, 180]\n",
    "temperaturas = [0, 25, 30, 35, 40]\n",
    "```\n",
    "**2)** Exceção de ValueError\n",
    "\n",
    "```python\n",
    "pressoes = [100, 120, 140, 160]\n",
    "temperaturas = [20, 25, 30, 35, 40]\n",
    "```\n"
   ]
  },
  {
   "cell_type": "markdown",
   "id": "d5321a9b",
   "metadata": {},
   "source": [
    "><font color=#f1fa8c>***Dica:*** Você pode usar `zip()` para parear os dados da lista_1 com a lista_2. Crie uma estrutura try-except que caso uma das exceções sejam lançadas, podemos ver o tipo de erro na saída."
   ]
  },
  {
   "cell_type": "code",
   "execution_count": 22,
   "id": "4bfa9eb2",
   "metadata": {},
   "outputs": [
    {
     "name": "stdout",
     "output_type": "stream",
     "text": [
      "Não é possível dividir por zero.\n"
     ]
    }
   ],
   "source": [
    "# Dados sem exceção\n",
    "pressoes = [100, 120, 140, 160, 180]\n",
    "temperaturas = [20, 25, 30, 35, 40]\n",
    "\n",
    "# Dados com exceção de ZeroDivisionError\n",
    "pressoesexc1 = [60, 120, 140, 160, 180]\n",
    "temperaturasexc1 = [0, 25, 30, 35, 40]\n",
    "\n",
    "# Dados com exceção de ValueError\n",
    "pressoesexc2 = [100, 120, 140, 160]\n",
    "temperaturasexc2 = [20, 25, 30, 35, 40]\n",
    "\n",
    "def razao(lista1: list, lista2: list) -> list:\n",
    "    if len(lista1) == len(lista2):    \n",
    "        try:\n",
    "            lista3 = []\n",
    "            for i in range(0, len(lista1)):\n",
    "                divisao = lista1[i] / lista2[i]\n",
    "                lista3.append(divisao)\n",
    "            listafinal = list(zip(lista1, lista2, lista3))\n",
    "        except ZeroDivisionError:\n",
    "            print('Não é possível dividir por zero.')\n",
    "        else:\n",
    "            print(listafinal)\n",
    "    else:\n",
    "        print('As listas têm tamanhos diferentes.')\n",
    "\n",
    "razao(pressoesexc1, temperaturasexc1)"
   ]
  },
  {
   "cell_type": "markdown",
   "id": "c84005e2",
   "metadata": {},
   "source": [
    "---"
   ]
  }
 ],
 "metadata": {
  "kernelspec": {
   "display_name": "Python 3",
   "language": "python",
   "name": "python3"
  },
  "language_info": {
   "codemirror_mode": {
    "name": "ipython",
    "version": 3
   },
   "file_extension": ".py",
   "mimetype": "text/x-python",
   "name": "python",
   "nbconvert_exporter": "python",
   "pygments_lexer": "ipython3",
   "version": "3.13.2"
  }
 },
 "nbformat": 4,
 "nbformat_minor": 5
}
