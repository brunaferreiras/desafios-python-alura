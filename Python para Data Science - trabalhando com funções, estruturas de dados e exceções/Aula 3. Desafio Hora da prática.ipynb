{
  "nbformat": 4,
  "nbformat_minor": 0,
  "metadata": {
    "colab": {
      "provenance": []
    },
    "kernelspec": {
      "name": "python3",
      "display_name": "Python 3"
    },
    "language_info": {
      "name": "python"
    }
  },
  "cells": [
    {
      "cell_type": "markdown",
      "source": [
        "#### <font color=#f1fa8c>Exercícios de programação em Python referentes à Aula 3. Estruturas de dados, do curso \"Python para Data Science: trabalhando com funções, estruturas de dados e exceções\" da Alura."
      ],
      "metadata": {
        "id": "5xSF3_K1hFaC"
      }
    },
    {
      "cell_type": "markdown",
      "source": [
        "\n",
        "\n",
        "---\n",
        "\n"
      ],
      "metadata": {
        "id": "SHl7qb0Vhbqw"
      }
    },
    {
      "cell_type": "markdown",
      "source": [
        "*Vamos praticar o que aprendemos até aqui solucionando os problemas propostos em código.*"
      ],
      "metadata": {
        "id": "M9sU1g2Vj6Hp"
      }
    },
    {
      "cell_type": "markdown",
      "source": [
        "# <font color=#ffb86c> **Aquecimento**"
      ],
      "metadata": {
        "id": "NIVCPFLVkLme"
      }
    },
    {
      "cell_type": "markdown",
      "source": [
        "<font color=#bd93f9>**1.**</font> Crie um código para imprimir a soma dos elementos de cada uma das listas contidas na seguinte lista:\n",
        "\n",
        "```python\n",
        "lista_de_listas = [[4,6,5,9], [1,0,7,2], [3,4,1,8]]\n",
        "```"
      ],
      "metadata": {
        "id": "bHf45uRNkRbK"
      }
    },
    {
      "cell_type": "code",
      "execution_count": null,
      "metadata": {
        "id": "VKSfpr-Ggdg4"
      },
      "outputs": [],
      "source": [
        "lista_de_listas = [[4,6,5,9], [1,0,7,2], [3,4,1,8]]\n",
        "\n",
        "# Estrutura de repetição para somar os elementos da lista\n",
        "for lista in lista_de_listas:\n",
        "  soma = sum(lista)\n",
        "  print(soma)"
      ]
    },
    {
      "cell_type": "markdown",
      "source": [
        "<font color=#bd93f9>**2.**</font> Crie um código para gerar uma lista que armazena o terceiro elemento de cada tupla contida na seguinte lista de tuplas:\n",
        "\n",
        "```python\n",
        "lista_de_tuplas = [('Pedro', 1.74, 81), ('Júlia', 1.65, 67), ('Otávio', 1.81, 83)]\n",
        "```"
      ],
      "metadata": {
        "id": "j--H45bTllOq"
      }
    },
    {
      "cell_type": "code",
      "source": [
        "lista_de_tuplas = [('Pedro', 1.74, 81), ('Júlia', 1.65, 67), ('Otávio', 1.81, 83)]\n",
        "elemento_3 = []\n",
        "\n",
        "# Estrutura de repetição para adicionar os terceiros elementos\n",
        "for item in lista_de_tuplas:\n",
        "  elemento_3.append(item[2])\n",
        "\n",
        "print(elemento_3)"
      ],
      "metadata": {
        "id": "AdQw6jWxl56u"
      },
      "execution_count": null,
      "outputs": []
    },
    {
      "cell_type": "markdown",
      "source": [
        "<font color=#bd93f9>**3.**</font> A partir da lista: `lista = ['Pedro', 'Júlia', 'Otávio', 'Eduardo']`, crie um código para gerar uma lista de tuplas em que cada tupla tenha o primeiro elemento como a posição do nome na lista original e o segundo elemento sendo o próprio nome."
      ],
      "metadata": {
        "id": "OHJcnl31oDpR"
      }
    },
    {
      "cell_type": "code",
      "source": [
        "lista = ['Pedro', 'Júlia', 'Otávio', 'Eduardo']\n",
        "listadetuplas = []\n",
        "\n",
        "# Estrutura de repetição para gerar a lista de tuplas\n",
        "for i in range(0, 4):\n",
        "  listadetuplas.append((i + 1, lista[i]))\n",
        "\n",
        "listadetuplas"
      ],
      "metadata": {
        "id": "ByTeqIaQoTSg"
      },
      "execution_count": null,
      "outputs": []
    },
    {
      "cell_type": "markdown",
      "source": [
        "<font color=#bd93f9>**4.**</font> Crie uma lista usando o list comprehension que armazena somente o valor numérico de cada tupla caso o primeiro elemento seja 'Apartamento', a partir da seguinte lista de tuplas:\n",
        "\n",
        "```python\n",
        "aluguel = [('Apartamento', 1700), ('Apartamento', 1400), ('Casa', 2150), ('Apartamento', 1900), ('Casa', 1100)]\n",
        "```"
      ],
      "metadata": {
        "id": "ZBqUlLxuoUTE"
      }
    },
    {
      "cell_type": "code",
      "source": [
        "aluguel = [('Apartamento', 1700), ('Apartamento', 1400), ('Casa', 2150), ('Apartamento', 1900), ('Casa', 1100)]\n",
        "\n",
        "# Cria a lista de valores de Apartamento\n",
        "apart = [registro[1] for registro in aluguel if registro[0]== 'Apartamento']\n",
        "\n",
        "print(apart)"
      ],
      "metadata": {
        "id": "E8xVspImoioS"
      },
      "execution_count": null,
      "outputs": []
    },
    {
      "cell_type": "markdown",
      "source": [
        "<font color=#bd93f9>**5.**</font> Crie um dicionário usando o dict comprehension em que as chaves estão na lista `meses = ['Jan', 'Fev', 'Mar', 'Abr', 'Mai', 'Jun', 'Jul', 'Ago', 'Set', 'Out', 'Nov', 'Dez']` e os valores estão em `despesa = [860, 490, 1010, 780, 900, 630, 590, 770, 620, 560, 840, 360]`."
      ],
      "metadata": {
        "id": "YzaxyaUrol8M"
      }
    },
    {
      "cell_type": "code",
      "source": [
        "meses = ['Jan', 'Fev', 'Mar', 'Abr', 'Mai', 'Jun', 'Jul', 'Ago', 'Set', 'Out', 'Nov', 'Dez']\n",
        "despesa = [860, 490, 1010, 780, 900, 630, 590, 770, 620, 560, 840, 360]\n",
        "\n",
        "# Criando o dicionário com as despesas\n",
        "dictdespesas = {meses[i]: despesa[i] for i in range(len(meses))}\n",
        "\n",
        "dictdespesas\n"
      ],
      "metadata": {
        "id": "2aExqu6npaDr"
      },
      "execution_count": null,
      "outputs": []
    },
    {
      "cell_type": "markdown",
      "source": [
        "\n",
        "\n",
        "---\n",
        "\n"
      ],
      "metadata": {
        "id": "x5dCryPDoxmT"
      }
    },
    {
      "cell_type": "markdown",
      "source": [
        "# <font color=#ffb86c> **Aplicando a projetos**"
      ],
      "metadata": {
        "id": "_wjjPsSfozdI"
      }
    },
    {
      "cell_type": "markdown",
      "source": [
        "<font color=#bd93f9>**6.**</font> Uma loja possui um banco de dados com a informação de venda de cada representante e de cada ano e precisa filtrar somente os dados do ano 2022 com venda maior do que 6000. A loja forneceu uma amostra contendo apenas as colunas com os anos e os valores de venda para que você ajude a realizar a filtragem dos dados a partir de um código:\n",
        "\n",
        "```python\n",
        "vendas = [('2023', 4093), ('2021', 4320), ('2021', 5959), ('2022', 8883), ('2023', 9859), ('2022', 5141), ('2022', 7688), ('2022', 9544), ('2023', 4794), ('2021', 7178), ('2022', 3030), ('2021', 7471), ('2022', 4226), ('2022', 8190), ('2021', 9680), ('2022', 5616)]\n",
        "```\n",
        "Crie uma lista usando list comprehension para filtrar os valores de 2022 e que sejam maiores que 6000.\n"
      ],
      "metadata": {
        "id": "y3TlqyYQpIc1"
      }
    },
    {
      "cell_type": "code",
      "source": [
        "vendas = [('2023', 4093), ('2021', 4320), ('2021', 5959), ('2022', 8883), ('2023', 9859), ('2022', 5141), ('2022', 7688), ('2022', 9544), ('2023', 4794), ('2021', 7178), ('2022', 3030), ('2021', 7471), ('2022', 4226), ('2022', 8190), ('2021', 9680), ('2022', 5616)]\n",
        "\n",
        "# Criando a lista com as vendas de 2022 maiores que 6000\n",
        "vendas_filtro = [venda[1] for venda in vendas if venda[0] == '2022' and venda[1] > 6000]\n",
        "vendas_filtro"
      ],
      "metadata": {
        "id": "j4BTiHL8ov_6"
      },
      "execution_count": null,
      "outputs": []
    },
    {
      "cell_type": "markdown",
      "source": [
        "<font color=#bd93f9>**7.**</font> Uma clínica analisa dados de pacientes e armazena o valor numérico da glicose em um banco de dados e gostaria de rotular os dados da seguinte maneira:\n",
        "\n",
        "- Glicose igual ou inferior a 70: 'Hipoglicemia'\n",
        "- Glicose entre 70 a 99: 'Normal'\n",
        "- Glicose entre 100 e 125: 'Alterada'\n",
        "- Glicose superior a 125: 'Diabetes'\n",
        "\n",
        "A clínica disponibilizou parte dos valores e sua tarefa é criar uma lista de tuplas usando list comprehension contendo o rótulo e o valor da glicemia em cada tupla.\n",
        "\n",
        "```python\n",
        "glicemia = [129, 82, 60, 97, 101, 65, 62, 167, 87, 53, 58, 92, 66, 120, 109, 62, 86, 96, 103, 88, 155, 52, 89, 73]\n",
        "```"
      ],
      "metadata": {
        "id": "fnz-pCrTpk2b"
      }
    },
    {
      "cell_type": "code",
      "source": [
        "glicemia = [129, 82, 60, 97, 101, 65, 62, 167, 87, 53, 58, 92, 66, 120, 109, 62, 86, 96, 103, 88, 155, 52, 89, 73]\n",
        "\n",
        "# Cria a lista de rótulos dos valores de glicemia\n",
        "rotulo = ['Hipoglicemia' if valor <= 70 else\n",
        "          'Normal' if 70 < valor <= 99 else\n",
        "          'Alterada' if 100 <= valor <= 125 else\n",
        "          'Diabetes' for valor in glicemia]\n",
        "\n",
        "# Cria a lista de tuplas com os rótulos e valores para glicemia\n",
        "rotulo_glicemia = list(zip(rotulo, glicemia))\n",
        "rotulo_glicemia"
      ],
      "metadata": {
        "id": "ATeuHcARpy6q"
      },
      "execution_count": null,
      "outputs": []
    },
    {
      "cell_type": "markdown",
      "source": [
        "<font color=#bd93f9>**8.**</font> Um e-commerce possui as informações de id de venda, quantidade vendida e preço do produto divididos nas seguintes listas:\n",
        "\n",
        "```python\n",
        "id = [0, 1, 2, 3, 4, 5, 6, 7, 8, 9]\n",
        "quantidade = [15, 12, 1, 15, 2, 11, 2, 12, 2, 4]\n",
        "preco = [93.0, 102.0, 18.0, 41.0, 122.0, 14.0, 71.0, 48.0, 14.0, 144.0]\n",
        "```\n",
        "\n",
        "O e-commerce precisa estruturar esses dados em uma tabela contendo o valor total da venda, que é obtida multiplicando a quantidade pelo preço unitário. Além disso, a tabela precisa conter um cabeçalho indicando as colunas: 'id', 'quantidade', 'preco' e 'total'.\n",
        "\n",
        "Crie uma lista de tuplas em que cada tupla tenha id, quantidade, preço e valor total, na qual a primeira tupla é o cabeçalho da tabela."
      ],
      "metadata": {
        "id": "XAmsfIYWp0Do"
      }
    },
    {
      "cell_type": "code",
      "source": [
        "id = [0, 1, 2, 3, 4, 5, 6, 7, 8, 9]\n",
        "quantidade = [15, 12, 1, 15, 2, 11, 2, 12, 2, 4]\n",
        "preco = [93.0, 102.0, 18.0, 41.0, 122.0, 14.0, 71.0, 48.0, 14.0, 144.0]\n",
        "cabecalhos = ('id', 'quantidade', 'preco', 'total')\n",
        "tabela = []\n",
        "\n",
        "# Cria a lista de totais de vendas\n",
        "qtde_preco = list(zip(quantidade, preco))\n",
        "totais = [item[0] * item[1] for item in qtde_preco]\n",
        "\n",
        "# Cria a lista de tuplas com os dados\n",
        "dados = list(zip(id, quantidade, preco, totais))\n",
        "\n",
        "# Cria a tabela final\n",
        "tabela.append(cabecalhos)\n",
        "tabela.append(dados)\n",
        "tabela"
      ],
      "metadata": {
        "id": "Bl3TbZUTqJw_"
      },
      "execution_count": null,
      "outputs": []
    },
    {
      "cell_type": "markdown",
      "source": [
        "<font color=#bd93f9>**9.**</font> Uma empresa possui filiais espalhadas nos Estados da região Sudeste do Brasil. Em uma das tabelas de cadastro das filiais há uma coluna contendo a informação de qual é o Estado a que pertence: `estados = ['SP', 'ES', 'MG', 'MG', 'SP', 'MG', 'ES', 'ES', 'ES', 'SP', 'SP', 'MG', 'ES', 'SP', 'RJ', 'MG', 'RJ', 'SP', 'MG', 'SP', 'ES', 'SP', 'MG']`.\n",
        "\n",
        "A empresa sempre está abrindo novas filiais, de modo que a tabela está constantemente recebendo novos registros e o gestor gostaria de possuir a informação atualizada da quantidade de filiais em cada Estado.\n",
        "\n",
        "A partir da coluna com a informação dos Estados, crie um dicionário usando dict comprehension com a chave sendo o nome de um Estado e o valor sendo a contagem de vezes em que o Estado aparece na lista.\n",
        "\n",
        "\n",
        "\n",
        "<font color=#f1fa8c> ***Dica:*** *Você pode fazer um passo intermediário para gerar uma lista de listas em que cada uma das listas possui o nome de apenas um Estado com valores repetidos.*"
      ],
      "metadata": {
        "id": "jnvDHgmkqLQ2"
      }
    },
    {
      "cell_type": "code",
      "source": [
        "estados = ['SP', 'ES', 'MG', 'MG', 'SP', 'MG', 'ES', 'ES', 'ES', 'SP', 'SP', 'MG', 'ES', 'SP', 'RJ', 'MG', 'RJ', 'SP', 'MG', 'SP', 'ES', 'SP', 'MG']\n",
        "\n",
        "# Cria uma lista para cada estado com o seu número de ocorrências\n",
        "\n",
        "minas = [item for item in estados if item == 'MG']\n",
        "saopaulo = [item for item in estados if item == 'SP']\n",
        "riodejaneiro = [item for item in estados if item == 'RJ']\n",
        "espiritosanto = [item for item in estados if item == 'ES']\n",
        "\n",
        "# Cria as chaves e os valores\n",
        "nomes = ['Minas Gerais', 'São Paulo', 'Rio de Janeiro', 'Espírito Santo']\n",
        "filiais = [len(minas), len(saopaulo), len(riodejaneiro), len(espiritosanto)]\n",
        "\n",
        "# Cria o dicionário\n",
        "dictestados = {nomes[i]: filiais[i] for i in range(len(nomes))}\n",
        "dictestados\n",
        "\n"
      ],
      "metadata": {
        "id": "551SjbfDqtzY"
      },
      "execution_count": null,
      "outputs": []
    },
    {
      "cell_type": "markdown",
      "source": [
        "<font color=#bd93f9>**10.**</font> Nessa mesma tabela de cadastro de filiais, há uma coluna com as informações da quantidade de pessoas colaboradoras e o(a) gestor(a) gostaria de ter um agrupamento da soma dessas pessoas para cada estado. As informações contidas na tabela são:\n",
        "\n",
        "```python\n",
        "funcionarios = [('SP', 16), ('ES', 8), ('MG', 9), ('MG', 6), ('SP', 10), ('MG', 4), ('ES',9), ('ES', 7), ('ES', 12), ('SP', 7), ('SP', 11), ('MG',8), ('ES',8), ('SP',9), ('RJ', 13), ('MG', 5), ('RJ', 9), ('SP', 12), ('MG', 10), ('SP', 7), ('ES', 14), ('SP', 10), ('MG', 12)]\n",
        "```\n",
        "\n",
        "A partir da lista de tuplas, crie um dicionário em que as chaves são os nomes dos Estados únicos e os valores são as listas com o número de colaboradores(as) referentes ao Estado. Crie também um dicionário em que as chaves são os nomes dos Estados e os valores são a soma de colaboradores(as) por Estado.\n",
        "\n",
        "<font color=#f1fa8c> ***Dica:*** *Você pode fazer um passo intermediário para gerar uma lista de listas em que cada uma das listas possui apenas os valores numéricos de funcionários(as) de cada Estado.*"
      ],
      "metadata": {
        "id": "E_7B4VnQqze3"
      }
    },
    {
      "cell_type": "code",
      "source": [
        "funcionarios = [('SP', 16), ('ES', 8), ('MG', 9), ('MG', 6), ('SP', 10), ('MG', 4), ('ES',9), ('ES', 7), ('ES', 12), ('SP', 7), ('SP', 11), ('MG',8), ('ES',8), ('SP',9), ('RJ', 13), ('MG', 5), ('RJ', 9), ('SP', 12), ('MG', 10), ('SP', 7), ('ES', 14), ('SP', 10), ('MG', 12)]\n",
        "nomes_estados = ['Minas Gerais', 'São Paulo', 'Rio de Janeiro', 'Espírito Santo']\n",
        "\n",
        "# Cria a lista de listas de funcionários por estado\n",
        "lista_funcionarios = [[item[1] for item in funcionarios if item[0] == 'MG'],\n",
        "                      [item[1] for item in funcionarios if item[0] == 'SP'],\n",
        "                      [item[1] for item in funcionarios if item[0] == 'RJ'],\n",
        "                      [item[1] for item in funcionarios if item[0] == 'ES']]\n",
        "\n",
        "# Cria o dicionário com os quadros de funcionários\n",
        "dict_funcionarios = {nomes_estados[i]: lista_funcionarios[i] for i in range(len(nomes_estados))}\n",
        "\n",
        "\n",
        "# Calcula a soma de funcionários\n",
        "soma_funcionarios = [sum(item) for item in lista_funcionarios]\n",
        "\n",
        "# Cria o dicionário com o total de funcionários\n",
        "dict_totalfunc = {nomes_estados[i]: soma_funcionarios[i] for i in range(len(nomes_estados))}\n",
        "\n",
        "print(dict_funcionarios)\n",
        "print(dict_totalfunc)"
      ],
      "metadata": {
        "id": "7IBZmJaJra4n"
      },
      "execution_count": null,
      "outputs": []
    },
    {
      "cell_type": "markdown",
      "source": [
        "\n",
        "\n",
        "---\n",
        "\n"
      ],
      "metadata": {
        "id": "42lcDnt4T2wP"
      }
    }
  ]
}