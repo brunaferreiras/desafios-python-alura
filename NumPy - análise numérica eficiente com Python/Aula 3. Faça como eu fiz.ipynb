{
 "cells": [
  {
   "cell_type": "markdown",
   "id": "6dada485",
   "metadata": {},
   "source": [
    "#### <font color=#f1fa8c> Desafio referente à Aula 3. \"Operações entre arrays\" do curso \"NumPy: análise numérica eficiente com Python\", da Alura."
   ]
  },
  {
   "cell_type": "markdown",
   "id": "bf64c24b",
   "metadata": {},
   "source": [
    "Chegou a hora de você testar os conhecimentos desenvolvidos durante a aula. Continuando com o projeto das laranjas/toranjas agora você deve calcular o coeficiente ângular e o linear para a reta da laranja e para a reta da toranja. Use a fórmula de mínimos quadrados para encontrar cada um."
   ]
  },
  {
   "cell_type": "markdown",
   "id": "fdc3f5bd",
   "metadata": {},
   "source": [
    "### <font color=#ffb86c> **Carregando os dados**"
   ]
  },
  {
   "cell_type": "code",
   "execution_count": null,
   "id": "6b498523",
   "metadata": {},
   "outputs": [],
   "source": [
    "# Importa a biblioteca NumPy\n",
    "import numpy as np\n",
    "# Importa a biblioteca Matplotlib\n",
    "import matplotlib as plt"
   ]
  },
  {
   "cell_type": "code",
   "execution_count": null,
   "id": "e3cc26f5",
   "metadata": {},
   "outputs": [],
   "source": [
    "# Define a variável para a URL contendo os dados\n",
    "url = 'https://raw.githubusercontent.com/allanspadini/numpy/dados/citrus.csv'\n",
    "\n",
    "# Seleciona as colunas e linhas a serem carregadas e carrega os dados\n",
    "dados = np.loadtxt(url, delimiter=',', usecols=np.arange(1, 6, 1), skiprows=1)\n",
    "dados"
   ]
  },
  {
   "cell_type": "markdown",
   "id": "af8b4f81",
   "metadata": {},
   "source": [
    "## <font color=#bd93f9> **Laranjas**"
   ]
  },
  {
   "cell_type": "markdown",
   "id": "14af1c7a",
   "metadata": {},
   "source": [
    "### <font color=#ffb86c> **Definindo as variáveis**"
   ]
  },
  {
   "cell_type": "code",
   "execution_count": null,
   "id": "e1c1369b",
   "metadata": {},
   "outputs": [],
   "source": [
    "# Definindo o diâmetro como a variável X_lar\n",
    "X_lar = dados[0:4999, 1]\n",
    "# Definindo o peso como a variável Y_lar\n",
    "Y_lar = dados[0:4999, 0]\n",
    "\n"
   ]
  },
  {
   "cell_type": "markdown",
   "id": "bfb822c5",
   "metadata": {},
   "source": [
    "### <font color=#ffb86c> **Calculando o coeficiente angular (a)**"
   ]
  },
  {
   "cell_type": "code",
   "execution_count": null,
   "id": "bc163a3c",
   "metadata": {},
   "outputs": [],
   "source": [
    "# Definindo n\n",
    "n = np.size(Y_lar)\n",
    "# Cálculo do coeficiente angular\n",
    "a = (n*np.sum(X_lar*Y_lar) - np.sum(X_lar)*np.sum(Y_lar))/(n*np.sum(X_lar**2) - np.sum(X_lar)**2)"
   ]
  },
  {
   "cell_type": "markdown",
   "id": "79f7270c",
   "metadata": {},
   "source": [
    "### <font color=#ffb86c> **Calculando o coeficiente linear (b)**"
   ]
  },
  {
   "cell_type": "code",
   "execution_count": null,
   "id": "8b272e15",
   "metadata": {},
   "outputs": [],
   "source": [
    "# Cálculo do coeficiente linear\n",
    "b = np.mean(Y_lar) - a*np.mean(X_lar)\n"
   ]
  },
  {
   "cell_type": "markdown",
   "id": "e4a45d39",
   "metadata": {},
   "source": [
    "### <font color=#ffb86c> **Encontrando os valores de y e verificando**"
   ]
  },
  {
   "cell_type": "code",
   "execution_count": null,
   "id": "e3704601",
   "metadata": {},
   "outputs": [],
   "source": [
    "# Determinando os valores de y_lar\n",
    "y_lar = a*X_lar + b\n",
    "# Verificando o ajuste\n",
    "np.linalg.norm(Y_lar - y_lar)\n"
   ]
  },
  {
   "cell_type": "markdown",
   "id": "79917540",
   "metadata": {},
   "source": [
    "---"
   ]
  },
  {
   "cell_type": "markdown",
   "id": "23f989d1",
   "metadata": {},
   "source": [
    "## <font color=#bd93f9> **Toranjas**"
   ]
  },
  {
   "cell_type": "markdown",
   "id": "9e6260d5",
   "metadata": {},
   "source": [
    "### <font color=#ffb86c> **Definindo as variáveis**"
   ]
  },
  {
   "cell_type": "code",
   "execution_count": null,
   "id": "a09194d4",
   "metadata": {},
   "outputs": [],
   "source": [
    "# Definindo o diâmetro como a variável X_lar\n",
    "X_tor = dados[4999:9999, 1]\n",
    "# Definindo o peso como a variável Y_lar\n",
    "Y_tor = dados[4999:9999, 0]\n",
    "\n"
   ]
  },
  {
   "cell_type": "markdown",
   "id": "3ef7be1c",
   "metadata": {},
   "source": [
    "### <font color=#ffb86c> **Calculando o coeficiente angular (a)**"
   ]
  },
  {
   "cell_type": "code",
   "execution_count": null,
   "id": "dc3e9432",
   "metadata": {},
   "outputs": [],
   "source": [
    "# Definindo n\n",
    "n = np.size(Y_tor)\n",
    "# Cálculo do coeficiente angular\n",
    "a = (n*np.sum(X_tor*Y_tor) - np.sum(X_tor)*np.sum(Y_tor))/(n*np.sum(X_tor**2) - np.sum(X_tor)**2)\n",
    "a"
   ]
  },
  {
   "cell_type": "markdown",
   "id": "0628e439",
   "metadata": {},
   "source": [
    "### <font color=#ffb86c> **Calculando o coeficiente linear (b)**"
   ]
  },
  {
   "cell_type": "code",
   "execution_count": null,
   "id": "740e1e2f",
   "metadata": {},
   "outputs": [],
   "source": [
    "# Cálculo do coeficiente linear\n",
    "b = np.mean(Y_tor) - a*np.mean(X_tor)\n"
   ]
  },
  {
   "cell_type": "markdown",
   "id": "7b925b34",
   "metadata": {},
   "source": [
    "### <font color=#ffb86c> **Encontrando os valores de y e verificando**"
   ]
  },
  {
   "cell_type": "code",
   "execution_count": null,
   "id": "b2676e33",
   "metadata": {},
   "outputs": [],
   "source": [
    "# Determinando os valores de y_lar\n",
    "y_tor = a*X_tor + b\n",
    "# Verificando o ajuste\n",
    "np.linalg.norm(Y_tor - y_tor)\n"
   ]
  },
  {
   "cell_type": "markdown",
   "id": "0e735650",
   "metadata": {},
   "source": [
    "---"
   ]
  }
 ],
 "metadata": {
  "kernelspec": {
   "display_name": "Python 3",
   "language": "python",
   "name": "python3"
  },
  "language_info": {
   "codemirror_mode": {
    "name": "ipython",
    "version": 3
   },
   "file_extension": ".py",
   "mimetype": "text/x-python",
   "name": "python",
   "nbconvert_exporter": "python",
   "pygments_lexer": "ipython3",
   "version": "3.13.2"
  }
 },
 "nbformat": 4,
 "nbformat_minor": 5
}
