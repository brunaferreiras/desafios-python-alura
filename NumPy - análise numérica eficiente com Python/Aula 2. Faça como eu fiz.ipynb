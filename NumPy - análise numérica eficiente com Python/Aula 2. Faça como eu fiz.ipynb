{
 "cells": [
  {
   "cell_type": "markdown",
   "id": "959eb326",
   "metadata": {},
   "source": [
    "#### <font color=#f1fa8c> Desafio referente à Aula 2. \"Exploração dos dados\" do curso \"NumPy: análise numérica eficiente com Python\", da Alura."
   ]
  },
  {
   "cell_type": "markdown",
   "id": "3801c1f4",
   "metadata": {},
   "source": [
    "Chegou a hora de você testar os conhecimentos desenvolvidos durante a aula. Continuando com o projeto das laranjas/toranjas agora você deve selecionar parte dos dados. As colunas que iremos avaliar são as de diâmetro e peso. Crie arrays específicos para guardar o diâmetro e peso da laranja e toranja. O diâmetro está na coluna zero e o peso na coluna 1. Os dados referentes a laranja vão até a linha 4999 e os referentes à toranja iniciam na linha 5000 do arquivo.\n",
    "\n",
    "Após fazer a seleção de dados, importe a biblioteca matplotlib e crie um gráfico para a laranja e para a toranja do peso pelo diâmetro.\n"
   ]
  },
  {
   "cell_type": "markdown",
   "id": "fc816248",
   "metadata": {},
   "source": [
    "### <font color=#ffb86c> **Carregando os dados**"
   ]
  },
  {
   "cell_type": "code",
   "execution_count": null,
   "id": "cb711298",
   "metadata": {},
   "outputs": [],
   "source": [
    "# Importa a biblioteca NumPy\n",
    "import numpy as np"
   ]
  },
  {
   "cell_type": "code",
   "execution_count": null,
   "id": "d3ddef94",
   "metadata": {},
   "outputs": [],
   "source": [
    "# Define a variável para a URL contendo os dados\n",
    "url = 'https://raw.githubusercontent.com/allanspadini/numpy/dados/citrus.csv'\n",
    "\n",
    "# Seleciona as colunas e linhas a serem carregadas e carrega os dados\n",
    "dados = np.loadtxt(url, delimiter=',', usecols=np.arange(1, 6, 1), skiprows=1)"
   ]
  },
  {
   "cell_type": "markdown",
   "id": "1d2e11a0",
   "metadata": {},
   "source": [
    "### <font color=#ffb86c> **Criando os arrays**"
   ]
  },
  {
   "cell_type": "code",
   "execution_count": null,
   "id": "e619d44b",
   "metadata": {},
   "outputs": [],
   "source": [
    "# Criação dos arrays para laranjas e toranjas\n",
    "diam_laranja = dados[0:4999, 0]\n",
    "peso_laranja = dados[0:4999, 1]\n",
    "\n",
    "diam_toranja = dados[4999:10000, 0]\n",
    "peso_toranja = dados[4999:10000, 1]\n"
   ]
  },
  {
   "cell_type": "markdown",
   "id": "5abd7567",
   "metadata": {},
   "source": [
    "### <font color=#ffb86c> **Gráfico para laranjas**"
   ]
  },
  {
   "cell_type": "code",
   "execution_count": null,
   "id": "ebedebc1",
   "metadata": {},
   "outputs": [],
   "source": [
    "import matplotlib.pyplot as plt"
   ]
  },
  {
   "cell_type": "code",
   "execution_count": null,
   "id": "49070b34",
   "metadata": {},
   "outputs": [],
   "source": [
    "laranjas = plt.plot(peso_laranja, diam_laranja)\n"
   ]
  },
  {
   "cell_type": "markdown",
   "id": "2eefafbe",
   "metadata": {},
   "source": [
    "### <font color=#ffb86c> **Gráfico para toranjas**"
   ]
  },
  {
   "cell_type": "code",
   "execution_count": null,
   "id": "f251b373",
   "metadata": {},
   "outputs": [],
   "source": [
    "plt.close()\n",
    "\n",
    "toranjas = plt.plot(peso_toranja, diam_toranja)"
   ]
  }
 ],
 "metadata": {
  "kernelspec": {
   "display_name": "Python 3",
   "language": "python",
   "name": "python3"
  },
  "language_info": {
   "codemirror_mode": {
    "name": "ipython",
    "version": 3
   },
   "file_extension": ".py",
   "mimetype": "text/x-python",
   "name": "python",
   "nbconvert_exporter": "python",
   "pygments_lexer": "ipython3",
   "version": "3.13.2"
  }
 },
 "nbformat": 4,
 "nbformat_minor": 5
}
