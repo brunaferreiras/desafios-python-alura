{
 "cells": [
  {
   "cell_type": "markdown",
   "id": "785d4cf4",
   "metadata": {},
   "source": [
    "#### <font color=#f1fa8c> Desafio referente à Aula 1. \"Conhecendo a biblioteca e nossos dados\" do curso \"NumPy: análise numérica eficiente com Python\", da Alura."
   ]
  },
  {
   "cell_type": "markdown",
   "id": "db140a6b",
   "metadata": {},
   "source": [
    " Chegou a hora de você testar os conhecimentos desenvolvidos durante a aula. Para isso, vamos utilizar outro dataset em um desafio que será desenvolvido no decorrer do curso. Esse dataset é uma versão modificada do [arquivo Oranges vs. Grapefruit](https://www.kaggle.com/datasets/joshmcadams/oranges-vs-grapefruit) presente no site do Kaggle. Portanto, utilizaremos o [arquivo raw](https://raw.githubusercontent.com/allanspadini/numpy/dados/citrus.csv) disponível no GitHub.\n",
    "\n",
    "Nessa etapa, você deve efetuar a leitura dos dados. Para isso, importe a NumPy e use a função `loadtxt`. Use o link da url e o parâmetro `usecols` para pular a primeira coluna. É possível usar `np.arange` para criar a sequência de números que representam as colunas. Por fim, também é necessário incluir o parâmetro `skiprows=1` para que a primeira linha de texto seja desconsiderada na leitura do arquivo."
   ]
  },
  {
   "cell_type": "markdown",
   "id": "3a31136b",
   "metadata": {},
   "source": []
  }
 ],
 "metadata": {
  "language_info": {
   "name": "python"
  }
 },
 "nbformat": 4,
 "nbformat_minor": 5
}
