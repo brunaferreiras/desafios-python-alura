{
 "cells": [
  {
   "cell_type": "markdown",
   "id": "c8c06721",
   "metadata": {},
   "source": [
    "#### <font color=#f1fa8c> Desafio referente à Aula 4. \"Números aleatórios\" do curso \"NumPy: análise numérica eficiente com Python\", da Alura."
   ]
  },
  {
   "cell_type": "markdown",
   "id": "106493d9",
   "metadata": {},
   "source": [
    "Chegou a hora de você testar os conhecimentos desenvolvidos durante a aula. Continuando com o projeto das laranjas/toranjas, agora você deve calcular o coeficiente angular utilizando a geração de números aleatórios. Assuma que já conhece b e que este é igual a 17."
   ]
  },
  {
   "cell_type": "markdown",
   "id": "e2bb5c4a",
   "metadata": {},
   "source": [
    "### <font color=#ffb86c> **Carregando os dados**"
   ]
  },
  {
   "cell_type": "code",
   "execution_count": null,
   "id": "48a40e22",
   "metadata": {},
   "outputs": [],
   "source": [
    "# Importa a biblioteca NumPy\n",
    "import numpy as np\n",
    "# Importa a biblioteca Matplotlib\n",
    "import matplotlib as plt"
   ]
  },
  {
   "cell_type": "code",
   "execution_count": null,
   "id": "866b10a4",
   "metadata": {},
   "outputs": [],
   "source": [
    "# Define a variável para a URL contendo os dados\n",
    "url = 'https://raw.githubusercontent.com/allanspadini/numpy/dados/citrus.csv'\n",
    "\n",
    "# Seleciona as colunas e linhas a serem carregadas e carrega os dados\n",
    "dados = np.loadtxt(url, delimiter=',', usecols=np.arange(1, 6, 1), skiprows=1)"
   ]
  },
  {
   "cell_type": "markdown",
   "id": "416b4178",
   "metadata": {},
   "source": [
    "### <font color=#d2d7b4> **Laranjas**"
   ]
  },
  {
   "cell_type": "markdown",
   "id": "1c939dc3",
   "metadata": {},
   "source": [
    "##### <font color=#ffb86c> **Definindo as variáveis**"
   ]
  },
  {
   "cell_type": "code",
   "execution_count": null,
   "id": "1f021e83",
   "metadata": {},
   "outputs": [],
   "source": [
    "# Definindo o diâmetro como a variável X_lar\n",
    "X_lar = dados[0:4999, 1]\n",
    "# Definindo o peso como a variável Y_lar\n",
    "Y_lar = dados[0:4999, 0]"
   ]
  },
  {
   "cell_type": "markdown",
   "id": "13277893",
   "metadata": {},
   "source": [
    "##### <font color=#ffb86c> **Gerando os coeficientes angulares**"
   ]
  },
  {
   "cell_type": "code",
   "execution_count": null,
   "id": "74742ee9",
   "metadata": {},
   "outputs": [],
   "source": [
    "# Gera aleatoriamente o array com os coeficientes angulares\n",
    "coef_angulares_lar = np.random.uniform(low=0.10, high=0.90, size=100)\n",
    "b = 17"
   ]
  },
  {
   "cell_type": "markdown",
   "id": "36dac318",
   "metadata": {},
   "source": [
    "##### <font color=#ffb86c> **Calculando os valores da norma**"
   ]
  },
  {
   "cell_type": "code",
   "execution_count": null,
   "id": "6a928674",
   "metadata": {},
   "outputs": [],
   "source": [
    "# Calcula a norma para cada coeficiente angular gerado\n",
    "norma = np.array([])\n",
    "for i in range(100):\n",
    "    norma = np.append(norma, np.linalg.norm(Y_lar - (coef_angulares_lar[i]*X_lar + b)))\n",
    "norma"
   ]
  },
  {
   "cell_type": "markdown",
   "id": "ea7f691d",
   "metadata": {},
   "source": [
    "##### <font color=#ffb86c> **Encontrando o melhor ajuste**"
   ]
  },
  {
   "cell_type": "code",
   "execution_count": null,
   "id": "6bbeffc2",
   "metadata": {},
   "outputs": [],
   "source": [
    "# Encontra o menor valor de norma\n",
    "min_norma = np.min(norma)\n",
    "# Encontra o índice correspondente ao menor valor de norma\n",
    "index = np.where(norma == min_norma)[0]\n",
    "# Define a variável do coeficiente angular com menor norma\n",
    "a_lar = coef_angulares_lar[index]\n",
    "# Imprime a informação do coeficiente encontrado\n",
    "print(f'O coeficiente {a_lar} apresentou o melhor ajuste à norma.')"
   ]
  },
  {
   "cell_type": "markdown",
   "id": "9f51d19a",
   "metadata": {},
   "source": [
    "### <font color=#d2d7b4> **Toranjas**"
   ]
  },
  {
   "cell_type": "markdown",
   "id": "0073690a",
   "metadata": {},
   "source": [
    "##### <font color=#ffb86c> **Definindo as variáveis**"
   ]
  },
  {
   "cell_type": "code",
   "execution_count": null,
   "id": "e36bc472",
   "metadata": {},
   "outputs": [],
   "source": [
    "# Definindo o diâmetro como a variável X_lar\n",
    "X_tor = dados[4999:9999, 1]\n",
    "# Definindo o peso como a variável Y_lar\n",
    "Y_tor = dados[4999:9999, 0]"
   ]
  },
  {
   "cell_type": "markdown",
   "id": "313f1f31",
   "metadata": {},
   "source": [
    "##### <font color=#ffb86c> **Gerando os coeficientes angulares**"
   ]
  },
  {
   "cell_type": "code",
   "execution_count": null,
   "id": "b5b25173",
   "metadata": {},
   "outputs": [],
   "source": [
    "# Gera aleatoriamente o array com os coeficientes angulares\n",
    "coef_angulares_tor = np.random.uniform(low=0.10, high=0.90, size=100)\n",
    "b = 17"
   ]
  },
  {
   "cell_type": "markdown",
   "id": "6028781e",
   "metadata": {},
   "source": [
    "##### <font color=#ffb86c> **Calculando os valores da norma**"
   ]
  },
  {
   "cell_type": "code",
   "execution_count": null,
   "id": "6f3409dc",
   "metadata": {},
   "outputs": [],
   "source": [
    "# Calcula a norma para cada coeficiente angular gerado\n",
    "norma = np.array([])\n",
    "for i in range(100):\n",
    "    norma = np.append(norma, np.linalg.norm(Y_lar - (coef_angulares_tor[i]*X_lar + b)))\n",
    "norma"
   ]
  },
  {
   "cell_type": "markdown",
   "id": "70ee0419",
   "metadata": {},
   "source": [
    "##### <font color=#ffb86c> **Encontrando o melhor ajuste**"
   ]
  },
  {
   "cell_type": "code",
   "execution_count": null,
   "id": "1e9e9807",
   "metadata": {},
   "outputs": [],
   "source": [
    "# Encontra o menor valor de norma\n",
    "min_norma = np.min(norma)\n",
    "# Encontra o índice correspondente ao menor valor de norma\n",
    "index = np.where(norma == min_norma)[0]\n",
    "# Define a variável do coeficiente angular com menor norma\n",
    "a_lar = coef_angulares_tor[index]\n",
    "# Imprime a informação do coeficiente encontrado\n",
    "print(f'O coeficiente {a_lar} apresentou o melhor ajuste à norma.')"
   ]
  }
 ],
 "metadata": {
  "kernelspec": {
   "display_name": "Python 3",
   "language": "python",
   "name": "python3"
  },
  "language_info": {
   "codemirror_mode": {
    "name": "ipython",
    "version": 3
   },
   "file_extension": ".py",
   "mimetype": "text/x-python",
   "name": "python",
   "nbconvert_exporter": "python",
   "pygments_lexer": "ipython3",
   "version": "3.13.2"
  }
 },
 "nbformat": 4,
 "nbformat_minor": 5
}
