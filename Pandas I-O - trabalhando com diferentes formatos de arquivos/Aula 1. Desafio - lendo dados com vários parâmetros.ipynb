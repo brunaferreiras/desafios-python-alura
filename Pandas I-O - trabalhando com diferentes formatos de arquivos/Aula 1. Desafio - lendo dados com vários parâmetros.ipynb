{
 "cells": [
  {
   "cell_type": "markdown",
   "id": "1ed93b9c",
   "metadata": {},
   "source": [
    "#### <font color=#ededb0> Desafio referente à Aula 1. \"Fazendo leitura de arquivos CSV\" do curso **\"Pandas I/O: trabalhando com diferentes formatos de arquivos\"**, da *Alura*."
   ]
  },
  {
   "cell_type": "markdown",
   "id": "de7ddeac",
   "metadata": {},
   "source": [
    "Chegou a hora de você testar os conhecimentos desenvolvidos durante a aula. Temos um [arquivo no formato CSV](https://raw.githubusercontent.com/alura-cursos/Pandas/main/dados_sus.csv), que foi obtido na página [Informações de Saúde (TABNET) - DATASUS](https://datasus.saude.gov.br/informacoes-de-saude-tabnet/). Este arquivo contém os gastos hospitalares públicos de cada uma das Unidades da Federação brasileira no período de janeiro de 2008 a março de 2021.\n",
    "\n",
    "Seu desafio aqui será fazer a leitura desse arquivo utilizando a função `read_csv` da biblioteca Pandas. Alguns parâmetros devem ser adicionados para que a leitura seja feita corretamente. Então, seguem algumas dicas:\n",
    "\n",
    "<font color=#8aab77> **1.** </font> Verifique se o arquivo CSV está separado por vírgula ou ponto e vírgula.\n",
    "\n",
    "<font color=#8aab77> **2.** </font> A codificação do arquivo é ISO-8859-1.\n",
    "\n",
    "<font color=#8aab77> **3.** </font> As três primeiras linhas linhas do arquivo podem ser desconsideradas, pois o cabeçalho só começa na quarta linha.\n",
    "\n",
    "<font color=#8aab77> **4.** </font> As 9 últimas linhas também podem ser desconsideradas, pois são apenas informações sobre onde os dados foram obtidos.\n",
    "\n",
    "<font color=#8aab77> **5.** </font> Para deletar as últimas linhas é necessário adicionar o parâmetro `engine='python'`.\n",
    "\n",
    "***Vamos lá?***"
   ]
  },
  {
   "cell_type": "markdown",
   "id": "78eda8c3",
   "metadata": {},
   "source": [
    "### <font color=#94939b> **Verificando o separador do arquivo**"
   ]
  },
  {
   "cell_type": "code",
   "execution_count": null,
   "id": "8a93b48a",
   "metadata": {},
   "outputs": [],
   "source": [
    "# Importa a biblioteca Pandas\n",
    "import pandas as pd"
   ]
  },
  {
   "cell_type": "code",
   "execution_count": null,
   "id": "ff5047ca",
   "metadata": {},
   "outputs": [],
   "source": [
    "# Importa o arquivo dos dados utilizando o separador vírgula\n",
    "dados = pd.read_csv('dados_sus.csv')\n",
    "dados.head()"
   ]
  },
  {
   "cell_type": "markdown",
   "id": "fab85af8",
   "metadata": {},
   "source": [
    "### <font color=#94939b> ***Erro de encoding:*** **verificando a codificação do arquivo**"
   ]
  },
  {
   "cell_type": "code",
   "execution_count": null,
   "id": "7fa59e75",
   "metadata": {},
   "outputs": [],
   "source": [
    "# Incluindo a codificação ISO-8859-1\n",
    "dados = pd.read_csv('dados_sus.csv', encoding='ISO-8859-1')"
   ]
  },
  {
   "cell_type": "markdown",
   "id": "3d439b32",
   "metadata": {},
   "source": [
    "### <font color=#94939b> **Retirando as linhas indesejadas para tratar erro**"
   ]
  },
  {
   "cell_type": "code",
   "execution_count": null,
   "id": "4aad6b92",
   "metadata": {},
   "outputs": [],
   "source": [
    "# Carrega os dados a partir da quarta linha\n",
    "dados = pd.read_csv('dados_sus.csv', skiprows=3, encoding='ISO-8859-1')\n",
    "dados.head()"
   ]
  },
  {
   "cell_type": "markdown",
   "id": "a934827e",
   "metadata": {},
   "source": [
    "### <font color=#94939b> **Tratando com o separador correto** </font>\n",
    "\n",
    "Após tratar os primeiros erros, percebe-se que o separador do arquivo é ponto e vírgula."
   ]
  },
  {
   "cell_type": "code",
   "execution_count": null,
   "id": "3930fab3",
   "metadata": {},
   "outputs": [],
   "source": [
    "# Incluindo ponto e vírgula como separador\n",
    "dados = pd.read_csv('dados_sus.csv', skiprows=3, sep=';', encoding='ISO-8859-1')\n",
    "dados.head()"
   ]
  },
  {
   "cell_type": "markdown",
   "id": "80e2ea0f",
   "metadata": {},
   "source": [
    "### <font color=#94939b> **Retirando as 9 linhas inferiores**"
   ]
  },
  {
   "cell_type": "code",
   "execution_count": null,
   "id": "ba270ce2",
   "metadata": {},
   "outputs": [],
   "source": [
    "# Retira as 9 linhas inferiores que são comentários\n",
    "dados = pd.read_csv('dados_sus.csv', skiprows= 3, sep= ';', encoding= 'ISO-8859-1', engine='python', skipfooter= 9)"
   ]
  },
  {
   "cell_type": "code",
   "execution_count": null,
   "id": "df87bf06",
   "metadata": {},
   "outputs": [],
   "source": [
    "# Mostra as 5 primeiras linhas do dataframe\n",
    "dados.head()"
   ]
  },
  {
   "cell_type": "code",
   "execution_count": null,
   "id": "ae7eb36f",
   "metadata": {},
   "outputs": [],
   "source": [
    "# Mostra as 5 últimas linhas do dataframe\n",
    "dados.tail()"
   ]
  }
 ],
 "metadata": {
  "kernelspec": {
   "display_name": "Python 3",
   "language": "python",
   "name": "python3"
  },
  "language_info": {
   "codemirror_mode": {
    "name": "ipython",
    "version": 3
   },
   "file_extension": ".py",
   "mimetype": "text/x-python",
   "name": "python",
   "nbconvert_exporter": "python",
   "pygments_lexer": "ipython3",
   "version": "3.13.2"
  }
 },
 "nbformat": 4,
 "nbformat_minor": 5
}
