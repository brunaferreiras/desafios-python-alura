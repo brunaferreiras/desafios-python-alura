{
 "cells": [
  {
   "cell_type": "markdown",
   "id": "84a3e930",
   "metadata": {},
   "source": [
    "#### <font color=#ededb0> Desafio referente à Aula 3. \"Manipulando arquivos JSON\" do curso **\"Pandas I/O: trabalhando com diferentes formatos de arquivos\"**, da *Alura*."
   ]
  },
  {
   "cell_type": "markdown",
   "id": "16194691",
   "metadata": {},
   "source": [
    "Chegou a hora de testar os conhecimentos desenvolvidos durante a aula.\n",
    "\n",
    "O DataFrame mostrado abaixo foi gerado após a obtenção de dados da API [JSONPlaceholder](https://jsonplaceholder.typicode.com/users):\n",
    "\n",
    "|index|id|name|username|email|address|phone|website|company|\n",
    "|---|---|---|---|---|---|---|---|---|\n",
    "|0|1|Leanne Graham|Bret|Sincere@april.biz|{'street': 'Kulas Light', 'suite': 'Apt. 556', 'city': 'Gwenborough', 'zipcode': '92998-3874', 'geo': {'lat': '-37.3159', 'lng': '81.1496'}}|1-770-736-8031 x56442|hildegard.org|{'name': 'Romaguera-Crona', 'catchPhrase': 'Multi-layered client-server neural-net', 'bs': 'harness real-time e-markets'}|\n",
    "|1|2|Ervin Howell|Antonette|Shanna@melissa.tv|{'street': 'Victor Plains', 'suite': 'Suite 879', 'city': 'Wisokyburgh', 'zipcode': '90566-7771', 'geo': {'lat': '-43.9509', 'lng': '-34.4618'}}|010-692-6593 x09125|anastasia.net|{'name': 'Deckow-Crist', 'catchPhrase': 'Proactive didactic contingency', 'bs': 'synergize scalable supply-chains'}|\n",
    "|2|3|Clementine Bauch|Samantha|Nathan@yesenia.net|{'street': 'Douglas Extension', 'suite': 'Suite 847', 'city': 'McKenziehaven', 'zipcode': '59590-4157', 'geo': {'lat': '-68.6102', 'lng': '-47.0653'}}|1-463-123-4447|ramiro.info|{'name': 'Romaguera-Jacobson', 'catchPhrase': 'Face to face bifurcated interface', 'bs': 'e-enable strategic applications'}|\n",
    "|3|4|Patricia Lebsack|Karianne|Julianne.OConner@kory.org|{'street': 'Hoeger Mall', 'suite': 'Apt. 692', 'city': 'South Elvis', 'zipcode': '53919-4257', 'geo': {'lat': '29.4572', 'lng': '-164.2990'}}|493-170-9623 x156|kale.biz|{'name': 'Robel-Corkery', 'catchPhrase': 'Multi-tiered zero tolerance productivity', 'bs': 'transition cutting-edge web services'}|\n",
    "|4|5|Chelsey Dietrich|Kamren|Lucio_Hettinger@annie.ca|{'street': 'Skiles Walks', 'suite': 'Suite 351', 'city': 'Roscoeview', 'zipcode': '33263', 'geo': {'lat': '-31.8129', 'lng': '62.5342'}}|(254)954-1289|demarco.info|{'name': 'Keebler LLC', 'catchPhrase': 'User-centric fault-tolerant solution', 'bs': 'revolutionize end-to-end systems'}|\n",
    "|5|6|Mrs. Dennis Schulist|Leopoldo_Corkery|Karley_Dach@jasper.info|{'street': 'Norberto Crossing', 'suite': 'Apt. 950', 'city': 'South Christy', 'zipcode': '23505-1337', 'geo': {'lat': '-71.4197', 'lng': '71.7478'}}|1-477-935-8478 x6430|ola.org|{'name': 'Considine-Lockman', 'catchPhrase': 'Synchronised bottom-line interface', 'bs': 'e-enable innovative applications'}|\n",
    "|6|7|Kurtis Weissnat|Elwyn.Skiles|Telly.Hoeger@billy.biz|{'street': 'Rex Trail', 'suite': 'Suite 280', 'city': 'Howemouth', 'zipcode': '58804-1099', 'geo': {'lat': '24.8918', 'lng': '21.8984'}}|210.067.6132|elvis.io|{'name': 'Johns Group', 'catchPhrase': 'Configurable multimedia task-force', 'bs': 'generate enterprise e-tailers'}|\n",
    "|7|8|Nicholas Runolfsdottir V|Maxime_Nienow|Sherwood@rosamond.me|{'street': 'Ellsworth Summit', 'suite': 'Suite 729', 'city': 'Aliyaview', 'zipcode': '45169', 'geo': {'lat': '-14.3990', 'lng': '-120.7677'}}|586.493.6943 x140|jacynthe.com|{'name': 'Abernathy Group', 'catchPhrase': 'Implemented secondary concept', 'bs': 'e-enable extensible e-tailers'}|\n",
    "|8|9|Glenna Reichert|Delphine|Chaim_McDermott@dana.io|{'street': 'Dayna Park', 'suite': 'Suite 449', 'city': 'Bartholomebury', 'zipcode': '76495-3109', 'geo': {'lat': '24.6463', 'lng': '-168.8889'}}|(775)976-6794 x41206|conrad.com|{'name': 'Yost and Sons', 'catchPhrase': 'Switchable contextually-based project', 'bs': 'aggregate real-time technologies'}|\n",
    "|9|10|Clementina DuBuque|Moriah.Stanton|Rey.Padberg@karina.biz|{'street': 'Kattie Turnpike', 'suite': 'Suite 198', 'city': 'Lebsackbury', 'zipcode': '31428-2261', 'geo': {'lat': '-38.2386', 'lng': '57.2232'}}|024-648-3804|ambrose.net|{'name': 'Hoeger LLC', 'catchPhrase': 'Centralized empowering task-force', 'bs': 'target end-to-end models'}|\n",
    "\n",
    "Este DataFrame possui 8 colunas: _id_, _name_ (nome), _username_ (nome de usuário), _email_ , _address_ (endereço), _phone_(telefone), _website_ e _company_ (empresa). Note que as colunas _address_ e _company_ contém informações aninhadas, ou seja, os dados dessas colunas estão organizados em subcampos. Por exemplo, na coluna address, você encontrará subcampos como _street_ (rua), _suite_ (complemento), _city_ (cidade) e _zipcode_ (CEP). Já na coluna _company_, os subcampos incluem _name_ (nome da empresa), _catchPhrase_ (slogan) e _bs_ (área de atuação). Isso significa que, para acessar essas informações, é necessário realizar o processo de normalização.\n",
    "\n",
    "**O desafio agora é normalizar esse DataFrame**, expandindo as colunas _address_ e _company_ em suas respectivas subcolunas para facilitar a visualização e a análise dos dados."
   ]
  },
  {
   "cell_type": "code",
   "execution_count": null,
   "id": "9d2e9318",
   "metadata": {},
   "outputs": [],
   "source": [
    "# Importa Pandas, request e o método json\n",
    "import pandas as pd\n",
    "import requests\n",
    "import json"
   ]
  },
  {
   "cell_type": "code",
   "execution_count": null,
   "id": "d252e889",
   "metadata": {},
   "outputs": [],
   "source": [
    "# Normaliza o arquivo JSON e carrega em um dataframe\n",
    "with open('users.json') as f:\n",
    "    usuarios = json.loads(f.read())\n",
    "\n",
    "df_usuarios = pd.json_normalize(usuarios)\n",
    "df_usuarios.head()"
   ]
  },
  {
   "cell_type": "markdown",
   "id": "5329ab2f",
   "metadata": {},
   "source": [
    "---"
   ]
  }
 ],
 "metadata": {
  "kernelspec": {
   "display_name": "Python 3",
   "language": "python",
   "name": "python3"
  },
  "language_info": {
   "codemirror_mode": {
    "name": "ipython",
    "version": 3
   },
   "file_extension": ".py",
   "mimetype": "text/x-python",
   "name": "python",
   "nbconvert_exporter": "python",
   "pygments_lexer": "ipython3",
   "version": "3.13.2"
  }
 },
 "nbformat": 4,
 "nbformat_minor": 5
}
