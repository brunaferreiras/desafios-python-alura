{
 "cells": [
  {
   "cell_type": "markdown",
   "id": "1e1bf5e5",
   "metadata": {},
   "source": [
    "#### <font color=#ededb0> Desafio referente à Aula 5. \"Trabalhando com banco de dados\" do curso **\"Pandas I/O: trabalhando com diferentes formatos de arquivos\"**, da *Alura*."
   ]
  },
  {
   "cell_type": "markdown",
   "id": "f7869d2c",
   "metadata": {},
   "source": [
    "Chegou a hora de testar os conhecimentos desenvolvidos durante a aula.\n",
    "\n",
    "Você é responsável por criar um banco de dados local de clientes para uma instituição financeira. Temos o [arquivo CSV](https://raw.githubusercontent.com/alura-cursos/Pandas/main/clientes_banco.csv) com os dados de clientes.\n",
    "\n",
    "Sua missão é:"
   ]
  },
  {
   "cell_type": "markdown",
   "id": "d0436e20",
   "metadata": {},
   "source": [
    "<font color=#94939b> **1.**</font> Criar o banco de dados local com a biblioteca **SQLAlchemy**."
   ]
  },
  {
   "cell_type": "code",
   "execution_count": null,
   "id": "7c5f2827",
   "metadata": {},
   "outputs": [],
   "source": [
    "# Importa as bibliotecas\n",
    "import pandas as pd\n",
    "import sqlalchemy\n",
    "from sqlalchemy import create_engine, MetaData, Table, inspect"
   ]
  },
  {
   "cell_type": "code",
   "execution_count": null,
   "id": "5a2cf97f",
   "metadata": {},
   "outputs": [],
   "source": [
    "# Criando o banco de dados\n",
    "engine = create_engine('sqlite:///:memory:')"
   ]
  },
  {
   "cell_type": "markdown",
   "id": "77a779c5",
   "metadata": {},
   "source": [
    "<font color=#94939b> **2.** </font> Escrever os dados do arquivo CSV neste banco de dados local."
   ]
  },
  {
   "cell_type": "code",
   "execution_count": null,
   "id": "59b780fd",
   "metadata": {},
   "outputs": [],
   "source": [
    "# Cria a variável com  a url dos dados\n",
    "url = 'https://raw.githubusercontent.com/alura-cursos/Pandas/main/clientes_banco.csv'"
   ]
  },
  {
   "cell_type": "code",
   "execution_count": null,
   "id": "0d9af56b",
   "metadata": {},
   "outputs": [],
   "source": [
    "# Lê os dados da url\n",
    "dados = pd.read_csv(url)\n",
    "dados.head()"
   ]
  },
  {
   "cell_type": "code",
   "execution_count": null,
   "id": "90051bea",
   "metadata": {},
   "outputs": [],
   "source": [
    "# Insere os dados no banco de dados criado\n",
    "dados.to_sql('clientes', engine, index=False)"
   ]
  },
  {
   "cell_type": "code",
   "execution_count": null,
   "id": "fb7e75fb",
   "metadata": {},
   "outputs": [],
   "source": [
    "# Inspeciona o banco de dados criado\n",
    "inspector = inspect(engine)\n",
    "print(inspector.get_table_names())"
   ]
  },
  {
   "cell_type": "markdown",
   "id": "15cee4c4",
   "metadata": {},
   "source": [
    "<font color=#94939b>**3.**</font> Realizar três atualizações no banco de dados:\n",
    "- Atualizar o registro do cliente de ID 6840104 que teve o rendimento anual alterado para 300000.\n",
    "- Excluir o registro do cliente de ID 5008809, pois essa pessoa não possui mais conta na instituição financeira.\n",
    "- Criar um novo registro de cliente seguindo as especificações abaixo:\n",
    "    - `ID_Cliente`: 6850985\n",
    "    - `Idade`: 33\n",
    "    - `Grau_escolaridade`: Doutorado\n",
    "    - `Estado_civil`: Solteiro\n",
    "    - `Tamanho_familia`: 1\n",
    "    - `Categoria_de_renda`: Empregado\n",
    "    - `Ocupacao`: TI\n",
    "    - `Anos_empregado`: 2\n",
    "    - `Rendimento_anual`: 290000\n",
    "    - `Tem_carro`: 0\n",
    "    - `Moradia`: Casa/apartamento próprio"
   ]
  },
  {
   "cell_type": "code",
   "execution_count": null,
   "id": "842f072d",
   "metadata": {},
   "outputs": [],
   "source": [
    "# Importa o método text de SQLAlchemy\n",
    "from sqlalchemy import text"
   ]
  },
  {
   "cell_type": "code",
   "execution_count": null,
   "id": "3c798796",
   "metadata": {},
   "outputs": [],
   "source": [
    "# Atualiza o registro do cliente de ID 6840104\n",
    "query = 'UPDATE clientes SET Rendimento_anual= 300000 WHERE ID_Cliente=6840104'\n",
    "with engine.connect() as conn:\n",
    "    result = conn.execute(text(query))\n",
    "    conn.commit()  "
   ]
  },
  {
   "cell_type": "code",
   "execution_count": null,
   "id": "b07acaf7",
   "metadata": {},
   "outputs": [],
   "source": [
    "# Confere se a atualização foi feita\n",
    "pd.read_sql_table('clientes', engine)"
   ]
  },
  {
   "cell_type": "code",
   "execution_count": null,
   "id": "418516c0",
   "metadata": {},
   "outputs": [],
   "source": [
    "# Exclui o registro do cliente com o ID 5008809\n",
    "query_2 = 'DELETE FROM clientes WHERE ID_Cliente=5008809'\n",
    "with engine.connect() as conn:\n",
    "    result = conn.execute(text(query_2))\n",
    "    conn.commit() "
   ]
  },
  {
   "cell_type": "code",
   "execution_count": null,
   "id": "c913a2ac",
   "metadata": {},
   "outputs": [],
   "source": [
    "# Cria um novo registro de cliente\n",
    "query_3 = 'INSERT INTO clientes(ID_Cliente, Idade, Grau_escolaridade, Estado_civil, Tamanho_familia, Categoria_de_renda, Ocupacao, Anos_empregado, Rendimento_anual, Tem_carro, Moradia) VALUES(6850985, 33, \"Doutorado\", \"Solteiro\", 1, \"Empregado\", \"TI\", 2, 290000, 0, \"Casa/apartamento próprio\")'"
   ]
  },
  {
   "cell_type": "markdown",
   "id": "97ff3275",
   "metadata": {},
   "source": [
    "---"
   ]
  }
 ],
 "metadata": {
  "kernelspec": {
   "display_name": "Python 3",
   "language": "python",
   "name": "python3"
  },
  "language_info": {
   "codemirror_mode": {
    "name": "ipython",
    "version": 3
   },
   "file_extension": ".py",
   "mimetype": "text/x-python",
   "name": "python",
   "nbconvert_exporter": "python",
   "pygments_lexer": "ipython3",
   "version": "3.13.2"
  }
 },
 "nbformat": 4,
 "nbformat_minor": 5
}
