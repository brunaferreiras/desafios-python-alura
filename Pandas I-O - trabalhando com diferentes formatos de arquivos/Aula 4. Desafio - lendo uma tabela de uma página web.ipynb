{
 "cells": [
  {
   "cell_type": "markdown",
   "id": "ed572544",
   "metadata": {},
   "source": [
    "#### <font color=#ededb0> Desafio referente à Aula 4. \"Lendo dados em HTML e XML\" do curso **\"Pandas I/O: trabalhando com diferentes formatos de arquivos\"**, da *Alura*."
   ]
  },
  {
   "cell_type": "markdown",
   "id": "1bcf69bd",
   "metadata": {},
   "source": [
    "Chegou a hora de testar os conhecimentos desenvolvidos durante a aula.\n",
    "\n",
    "Vanessa é uma cientista de dados que está realizando algumas análises com dados ambientais. Ela está desenvolvendo um projeto para avaliar o impacto ambiental das atividades humanas em diferentes países do mundo, mas para isso precisa das estimativas populacionais desses países. Ao pesquisar na internet, encontrou uma tabela de estimativas populacionais em um artigo da página [Wikipédia](https://pt.wikipedia.org/wiki/Lista_de_pa%C3%ADses_por_popula%C3%A7%C3%A3o).\n",
    "\n",
    "Assim como Vanessa, seu desafio é obter um DataFrame da tabela que contém as informações do número de habitantes de cada país."
   ]
  },
  {
   "cell_type": "code",
   "execution_count": null,
   "id": "f481d705",
   "metadata": {},
   "outputs": [],
   "source": [
    "# Importa a biblioteca Pandas\n",
    "import pandas as pd"
   ]
  },
  {
   "cell_type": "code",
   "execution_count": null,
   "id": "b2a21787",
   "metadata": {},
   "outputs": [],
   "source": [
    "# Obtem a lista com as tabelas presentes no arquivo HTML\n",
    "lista_tab = pd.read_html('paises_pop.html')"
   ]
  },
  {
   "cell_type": "code",
   "execution_count": null,
   "id": "2a78afeb",
   "metadata": {},
   "outputs": [],
   "source": [
    "# Seleciona somente a primeira tabela e armazena em um dataframe\n",
    "df_populacao = lista_tab[0]\n",
    "df_populacao.head()"
   ]
  },
  {
   "cell_type": "markdown",
   "id": "eedb8bf7",
   "metadata": {},
   "source": [
    "---"
   ]
  }
 ],
 "metadata": {
  "kernelspec": {
   "display_name": "Python 3",
   "language": "python",
   "name": "python3"
  },
  "language_info": {
   "codemirror_mode": {
    "name": "ipython",
    "version": 3
   },
   "file_extension": ".py",
   "mimetype": "text/x-python",
   "name": "python",
   "nbconvert_exporter": "python",
   "pygments_lexer": "ipython3",
   "version": "3.13.2"
  }
 },
 "nbformat": 4,
 "nbformat_minor": 5
}
