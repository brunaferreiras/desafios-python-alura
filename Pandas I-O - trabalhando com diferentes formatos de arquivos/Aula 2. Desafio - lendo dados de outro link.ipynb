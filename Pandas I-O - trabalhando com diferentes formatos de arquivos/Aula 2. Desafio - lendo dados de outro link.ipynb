{
 "cells": [
  {
   "cell_type": "markdown",
   "id": "79e5209c",
   "metadata": {},
   "source": [
    "#### <font color=#ededb0> Desafio referente à Aula 2. \"Utilizando planilhas\" do curso **\"Pandas I/O: trabalhando com diferentes formatos de arquivos\"**, da *Alura*."
   ]
  },
  {
   "cell_type": "markdown",
   "id": "ec255c46",
   "metadata": {},
   "source": [
    "Chegou a hora de você testar os conhecimentos desenvolvidos durante a aula. Nós temos um [link do Google Planilhas](https://docs.google.com/spreadsheets/d/1pvBoLyX8kP0TjtUbadVMGdTl4yzm6bHMThhPiqCVtpw/edit?usp=sharing) que contém dados importantes sobre as emissões de gás carbônico pelo mundo. O conjunto de dados foi obtido no [Kaggle](https://www.kaggle.com/datasets/koustavghosh149/co2-emission-around-the-world) e consiste em emissões de CO2 _per capita_ de todos os países do mundo de 1990 a 2019.\n",
    "\n",
    "Neste desafio, a sua função é efetuar a leitura desse link do Google Planilhas e depois salvar o DataFrame obtido no formato CSV. Pronto(a) para começar?"
   ]
  },
  {
   "cell_type": "markdown",
   "id": "42dcc6d3",
   "metadata": {},
   "source": [
    "***Link para a planilha:*** https://docs.google.com/spreadsheets/d/1pvBoLyX8kP0TjtUbadVMGdTl4yzm6bHMThhPiqCVtpw/edit?gid=1214654498#gid=1214654498"
   ]
  },
  {
   "cell_type": "code",
   "execution_count": null,
   "id": "a9a668c1",
   "metadata": {},
   "outputs": [],
   "source": [
    "# Importa a biblioteca Pandas\n",
    "import pandas as pd"
   ]
  },
  {
   "cell_type": "code",
   "execution_count": null,
   "id": "51b72147",
   "metadata": {},
   "outputs": [],
   "source": [
    "# Salva a Id da planilha em uma variável\n",
    "sheet_id = '1pvBoLyX8kP0TjtUbadVMGdTl4yzm6bHMThhPiqCVtpw'"
   ]
  },
  {
   "cell_type": "code",
   "execution_count": null,
   "id": "51047c27",
   "metadata": {},
   "outputs": [],
   "source": [
    "# Armazena o endereço para a importação da planilha\n",
    "url = f'https://docs.google.com/spreadsheets/d/{sheet_id}/gviz/tq?tqx=out:csv&sheet'"
   ]
  },
  {
   "cell_type": "code",
   "execution_count": null,
   "id": "33506ed7",
   "metadata": {},
   "outputs": [],
   "source": [
    "# Lê e armazena a planilha em uma variável\n",
    "dados = pd.read_csv(url)"
   ]
  },
  {
   "cell_type": "code",
   "execution_count": null,
   "id": "6346b587",
   "metadata": {},
   "outputs": [],
   "source": [
    "# Exibe as cinco primeiras linhas do dataframe\n",
    "dados.head()"
   ]
  },
  {
   "cell_type": "code",
   "execution_count": null,
   "id": "feb28c47",
   "metadata": {},
   "outputs": [],
   "source": [
    "# Salva o dataframe em formato .csv\n",
    "dados.to_csv('dados_co2.csv', index= False)"
   ]
  },
  {
   "cell_type": "markdown",
   "id": "37ccbb3c",
   "metadata": {},
   "source": [
    "---"
   ]
  }
 ],
 "metadata": {
  "kernelspec": {
   "display_name": "Python 3",
   "language": "python",
   "name": "python3"
  },
  "language_info": {
   "codemirror_mode": {
    "name": "ipython",
    "version": 3
   },
   "file_extension": ".py",
   "mimetype": "text/x-python",
   "name": "python",
   "nbconvert_exporter": "python",
   "pygments_lexer": "ipython3",
   "version": "3.13.2"
  }
 },
 "nbformat": 4,
 "nbformat_minor": 5
}
