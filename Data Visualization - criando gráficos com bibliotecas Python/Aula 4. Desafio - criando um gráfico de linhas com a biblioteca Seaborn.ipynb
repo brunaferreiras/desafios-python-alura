{
 "cells": [
  {
   "cell_type": "markdown",
   "id": "bbcec7fd",
   "metadata": {},
   "source": [
    "# <font color=95857b> **Aula 4. Conhecendo a biblioteca Seaborn**"
   ]
  },
  {
   "cell_type": "markdown",
   "id": "f12cafc6",
   "metadata": {},
   "source": [
    "#### <font color=#cebaa4> Desafio referente à _Aula 4._ \"Conhecendo a biblioteca Seaborn\" do curso **\"Data Visualization: criando gráficos com bibliotecas Python\"**, da *Alura*."
   ]
  },
  {
   "cell_type": "markdown",
   "id": "a6f2d73b",
   "metadata": {},
   "source": [
    "Parabéns por chegar até aqui, em mais um desafio! Voltando aos dados utilizados no projeto que nós estamos desenvolvendo neste curso, agora chegou o momento de utilizar todos os conhecimentos adquiridos sobre as bibliotecas Matplotlib e Seaborn.\n",
    "\n",
    "Nesta etapa, seu desafio é criar uma figura contendo as tendências de imigração dos 4 maiores países da América latina: Brasil, Argentina, Peru e Colômbia. Através dessa criação você pode explorar diversas possibilidades e reconhecer de forma atrativa o seu processo de desenvolvimento. E não nos esqueçamos das orientações! Essa figura precisa ter uma linha para cada país, título, rótulos nos eixos, cores apropriadas, um tema da biblioteca Seaborn e legenda. Por isso, pense nas questões de acessibilidade, como tamanho das fontes e espessura das linhas. É importante escolher cores adequadas que não causem cansaço visual ou dificultem a leitura das informações. Além disso, o tamanho das fontes deve ser legível o suficiente para que as pessoas possam interpretar os dados com facilidade.\n",
    "\n",
    ">**Dica:** \n",
    "> Para escolher a paleta de cores, você também pode consultar a [documentação da biblioteca Matploltib](https://matplotlib.org/stable/tutorials/colors/colormaps.html). A Seaborn utiliza as _colormaps_ do Matplotlib por padrão, além de oferecer suas próprias paletas de cores. Para aplicar uma paleta de cores a todas as linhas da figura você pode usar a função `sns.set_palette()` e passar a ela o nome da paleta escolhida.\n",
    "\n",
    "Estamos empolgados para ver o resultado do seu trabalho e as histórias que você irá contar através deste gráfico. Mãos à obra e divirta-se!"
   ]
  },
  {
   "cell_type": "markdown",
   "id": "b20b5ac6",
   "metadata": {},
   "source": [
    "### <font color=#cebaa4> **Preparando os dados**"
   ]
  },
  {
   "cell_type": "code",
   "execution_count": null,
   "id": "adcde8c4",
   "metadata": {},
   "outputs": [],
   "source": [
    "# Importa as bibliotecas\n",
    "import pandas as pd\n",
    "import matplotlib.pyplot as plt\n",
    "import seaborn as sns"
   ]
  },
  {
   "cell_type": "code",
   "execution_count": null,
   "id": "ccc750c8",
   "metadata": {},
   "outputs": [],
   "source": [
    "# Importa os dados do arquivo .csv\n",
    "dados_mundo = pd.read_csv('imigrantes_canada.csv')"
   ]
  },
  {
   "cell_type": "code",
   "execution_count": null,
   "id": "8260fb6e",
   "metadata": {},
   "outputs": [],
   "source": [
    "# Define a coluna 'País' como index\n",
    "dados_mundo.set_index('País', inplace=True)"
   ]
  },
  {
   "cell_type": "code",
   "execution_count": null,
   "id": "9c64af49",
   "metadata": {},
   "outputs": [],
   "source": [
    "# Cria uma lista com o intervalo de anos dos dados\n",
    "anos = list(map(str, range(1980, 2014)))"
   ]
  },
  {
   "cell_type": "code",
   "execution_count": null,
   "id": "96fae4bc",
   "metadata": {},
   "outputs": [],
   "source": [
    "# Separa os dados dos países a serem analisados\n",
    "bra = dados_mundo.loc['Brasil', anos]\n",
    "arg = dados_mundo.loc['Argentina', anos]\n",
    "per = dados_mundo.loc['Peru', anos]\n",
    "col = dados_mundo.loc['Colômbia', anos]"
   ]
  },
  {
   "cell_type": "code",
   "execution_count": null,
   "id": "6e6071cc",
   "metadata": {},
   "outputs": [],
   "source": [
    "# Cria os dicionários com os dados dos países\n",
    "bra_dict = {'ano': bra.index.tolist(), 'imigrantes': bra.values.tolist()}\n",
    "arg_dict = {'ano': arg.index.tolist(), 'imigrantes': arg.values.tolist()}\n",
    "per_dict = {'ano': per.index.tolist(), 'imigrantes': per.values.tolist()}\n",
    "col_dict = {'ano': col.index.tolist(), 'imigrantes': col.values.tolist()}"
   ]
  },
  {
   "cell_type": "code",
   "execution_count": null,
   "id": "00ee2148",
   "metadata": {},
   "outputs": [],
   "source": [
    "# Transforma os dados em dataframe\n",
    "brasil = pd.DataFrame(bra_dict)\n",
    "argentina = pd.DataFrame(arg_dict)\n",
    "peru = pd.DataFrame(per_dict)\n",
    "colombia = pd.DataFrame(col_dict)"
   ]
  },
  {
   "cell_type": "markdown",
   "id": "1cdb294a",
   "metadata": {},
   "source": [
    "### <font color=#cebaa4> **Criando os gráficos**"
   ]
  },
  {
   "cell_type": "code",
   "execution_count": null,
   "id": "6dc69b12",
   "metadata": {},
   "outputs": [],
   "source": [
    "# Configura o tema do Seaborn\n",
    "sns.set_style('dark')"
   ]
  },
  {
   "cell_type": "code",
   "execution_count": null,
   "id": "3cd65e8e",
   "metadata": {},
   "outputs": [],
   "source": [
    "# Cria a figura\n",
    "fig, axs = plt.subplots(2,2,figsize= (12,10))\n",
    "# Configura o título da figura\n",
    "fig.suptitle('Imigração de países para o Canadá\\n1980 a 2013', fontsize=18, fontweight='bold', fontfamily='Tahoma')\n",
    "\n",
    "# Seleciona cores para os gráficos\n",
    "cores = sns.color_palette('Set2', n_colors=4)\n",
    "\n",
    "# Gera os gráficos e seus respectivos títulos\n",
    "sns.lineplot(data=brasil, x='ano', y='imigrantes', ax=axs[0,0], color=cores[0])\n",
    "axs[0,0].set_title('Brasil', fontsize=14, fontfamily='Tahoma')\n",
    "sns.lineplot(data=argentina, x='ano', y='imigrantes', ax=axs[0,1], color=cores[1])\n",
    "axs[0,1].set_title('Argentina', fontsize=14, fontfamily='Tahoma')\n",
    "sns.lineplot(data=peru, x='ano', y='imigrantes',ax=axs[1,0], color=cores[2])\n",
    "axs[1,0].set_title('Peru', fontsize=14, fontfamily='Tahoma')\n",
    "sns.lineplot(data=colombia, x='ano', y='imigrantes', ax=axs[1,1], color=cores[3])\n",
    "axs[1,1].set_title('Colômbia', fontsize=14, fontfamily='Tahoma')\n",
    "\n",
    "# Corrige os rótulos do Eixo X\n",
    "for ax in axs.flat:\n",
    "  ax.xaxis.set_major_locator(plt.MultipleLocator(5))\n",
    " \n",
    "# Configura os títulos dos Eixos X e Y\n",
    "for ax in axs.flat:\n",
    "  ax.set_xlabel('Ano', fontweight='bold', fontsize=12, fontfamily='Tahoma')\n",
    "  ax.set_ylabel('Número de imigrantes', fontsize=12, fontweight='bold', fontfamily='Tahoma')\n",
    "\n",
    "# Uniformiza o tamanho do Eixo Y\n",
    "ymin = 0\n",
    "ymax = 7000\n",
    "\n",
    "for ax in axs.ravel():\n",
    "  ax.set_ylim(ymin, ymax)\n",
    "\n",
    "# Customiza o estilo darkgrid\n",
    "sns.set_style(\"darkgrid\", {\n",
    "    'axes.facecolor': '#EAEAF2',\n",
    "    'grid.color': '#B0B0B0',\n",
    "    'grid.linestyle': '--',\n",
    "    'grid.linewidth': 0.8,\n",
    "    'axes.edgecolor': 'black',\n",
    "    'axes.linewidth': 1.2\n",
    "})\n",
    "\n",
    "\n",
    "plt.show()"
   ]
  },
  {
   "cell_type": "markdown",
   "id": "4901655d",
   "metadata": {},
   "source": [
    "---"
   ]
  }
 ],
 "metadata": {
  "kernelspec": {
   "display_name": "Python 3",
   "language": "python",
   "name": "python3"
  },
  "language_info": {
   "codemirror_mode": {
    "name": "ipython",
    "version": 3
   },
   "file_extension": ".py",
   "mimetype": "text/x-python",
   "name": "python",
   "nbconvert_exporter": "python",
   "pygments_lexer": "ipython3",
   "version": "3.13.2"
  }
 },
 "nbformat": 4,
 "nbformat_minor": 5
}
