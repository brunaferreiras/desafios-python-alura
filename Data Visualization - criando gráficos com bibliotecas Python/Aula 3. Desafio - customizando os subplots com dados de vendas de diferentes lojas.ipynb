{
 "cells": [
  {
   "cell_type": "markdown",
   "id": "f0a8985c",
   "metadata": {},
   "source": [
    "# <font color=95857b> **Aula 3. Customizando com Matplotlib**"
   ]
  },
  {
   "cell_type": "markdown",
   "id": "0fa31bd6",
   "metadata": {},
   "source": [
    "#### <font color=#cebaa4> Desafio referente à _Aula 3._ \"Customizando com Matplotlib\" do curso **\"Data Visualization: criando gráficos com bibliotecas Python\"**, da *Alura*."
   ]
  },
  {
   "cell_type": "markdown",
   "id": "74215dc4",
   "metadata": {},
   "source": [
    "Mais uma etapa de desafio se inicia! Aproveite a oportunidade proposta e mergulhe nas possibilidades. Na aula anterior, você teve o desafio de criar uma figura com subplots que apresentam a variação no número de vendas em quatro diferentes lojas ao longo de um ano. Agora é o momento de elevar essa figura a um novo patamar! É a hora de personalizá-la! Nesta segunda parte do desafio, você deve explorar as opções de customização dos subplots para deixar a figura mais clara e atraente para a gerência da empresa.\n",
    "\n",
    "Algumas ideias de customização que você pode explorar são:\n",
    "\n",
    "Alterar a posição dos títulos dos subplots para esquerda.\n",
    "Aumentar o tamanho da fonte do título geral da figura para destacá-lo.\n",
    "Aumentar o tamanho dos títulos e rótulos dos eixos dos subplots.\n",
    "Deixar as linhas com a espessura maior.\n",
    "Alterar a cor das linhas de cada loja para diferenciá-las ainda mais.\n",
    "Fique à vontade para testar mais customizações!\n",
    "\n",
    "E mais uma dica: você pode reduzir o tamanho do código utilizando o comando for i, ax in enumerate(axs.flat): que permite um loop iterando sobre todos os subplots da figura. Dentro desse loop você pode passar as funções plot, set_title, set_xlabel, set_ylabel e etc…\n",
    "\n",
    "Lembrando que os dados são os seguintes:"
   ]
  },
  {
   "cell_type": "markdown",
   "id": "99c86026",
   "metadata": {},
   "source": [
    "```python\n",
    "lojas = ['A', 'B', 'C', 'D']\n",
    "\n",
    "vendas_2022 = {'Jan': [100, 80, 150, 50],\n",
    "    'Fev': [120, 90, 170, 60],\n",
    "    'Mar': [150, 100, 200, 80],\n",
    "    'Abr': [180, 110, 230, 90],\n",
    "    'Mai': [220, 190, 350, 200],\n",
    "    'Jun': [230, 150, 280, 120],\n",
    "    'Jul': [250, 170, 300, 140],\n",
    "    'Ago': [260, 180, 310, 150],\n",
    "    'Set': [240, 160, 290, 130],\n",
    "    'Out': [220, 140, 270, 110],\n",
    "    'Nov': [400, 220, 350, 190],\n",
    "    'Dez': [300, 350, 400, 250]\n",
    "}\n",
    "\n",
    "# Criando DataFrame\n",
    "df = pd.DataFrame(vendas_2022, index=lojas)\n",
    "```"
   ]
  },
  {
   "cell_type": "markdown",
   "id": "da7d29f3",
   "metadata": {},
   "source": [
    "Agora é hora de colocar a mão na massa! Experimente diferentes customizações e deixe a figura ainda mais impressionante. Bora?!"
   ]
  },
  {
   "cell_type": "markdown",
   "id": "44fa6596",
   "metadata": {},
   "source": [
    "### <font color=#cebaa4> **Carregando os dados**"
   ]
  },
  {
   "cell_type": "code",
   "execution_count": null,
   "id": "9a22acbe",
   "metadata": {},
   "outputs": [],
   "source": [
    "# Importa as bibliotecas\n",
    "import pandas as pd\n",
    "import matplotlib\n",
    "import matplotlib.pyplot as plt\n",
    "import numpy as np"
   ]
  },
  {
   "cell_type": "code",
   "execution_count": null,
   "id": "a36fec7b",
   "metadata": {},
   "outputs": [],
   "source": [
    "# Carrega os dados\n",
    "lojas = ['A', 'B', 'C', 'D']\n",
    "\n",
    "vendas_2022 = {'Jan': [100, 80, 150, 50],\n",
    "    'Fev': [120, 90, 170, 60],\n",
    "    'Mar': [150, 100, 200, 80],\n",
    "    'Abr': [180, 110, 230, 90],\n",
    "    'Mai': [220, 190, 350, 200],\n",
    "    'Jun': [230, 150, 280, 120],\n",
    "    'Jul': [250, 170, 300, 140],\n",
    "    'Ago': [260, 180, 310, 150],\n",
    "    'Set': [240, 160, 290, 130],\n",
    "    'Out': [220, 140, 270, 110],\n",
    "    'Nov': [400, 220, 350, 190],\n",
    "    'Dez': [300, 350, 400, 250]\n",
    "}"
   ]
  },
  {
   "cell_type": "code",
   "execution_count": null,
   "id": "3e5ae4e8",
   "metadata": {},
   "outputs": [],
   "source": [
    "# Transforma os dados em um DataFrame, tornando 'lojas' o index\n",
    "vendas_2022 = pd.DataFrame(vendas_2022, index=lojas)"
   ]
  },
  {
   "cell_type": "code",
   "execution_count": null,
   "id": "3e41a35c",
   "metadata": {},
   "outputs": [],
   "source": [
    "# Armazena os meses em uma lista\n",
    "meses = ['Jan', 'Fev', 'Mar', 'Abr', 'Mai', 'Jun', 'Jul', 'Ago', 'Set', 'Out', 'Nov', 'Dez']"
   ]
  },
  {
   "cell_type": "code",
   "execution_count": null,
   "id": "2c9ec53e",
   "metadata": {},
   "outputs": [],
   "source": [
    "# Armazena as cores em um dicionário\n",
    "cores_lojas = {\n",
    "    'A': 'crimson',    \n",
    "    'B': 'orchid',     \n",
    "    'C': 'magenta',    \n",
    "    'D': 'deeppink'   \n",
    "}"
   ]
  },
  {
   "cell_type": "markdown",
   "id": "f9c74587",
   "metadata": {},
   "source": [
    "### <font color=#cebaa4> **Criando os subplots**"
   ]
  },
  {
   "cell_type": "code",
   "execution_count": null,
   "id": "4a5d9220",
   "metadata": {},
   "outputs": [],
   "source": [
    "# Cria a figura, configura os espaçamentos e o título superior\n",
    "fig, axs = plt.subplots(2, 2, figsize= (14, 8))\n",
    "fig.subplots_adjust(hspace=0.4, wspace=0.3)\n",
    "fig.suptitle('Vendas em 2022 por loja', fontsize=18)\n",
    "\n",
    "# Cria e configura os subplots\n",
    "for i, ax in enumerate(axs.flat):\n",
    "    if i < len(lojas):\n",
    "        loja = lojas[i]\n",
    "        vendas = vendas_2022.loc[loja].values\n",
    "    ax.plot(meses, vendas, lw=3, color=cores_lojas[loja])\n",
    "    ax.set_title(f'Loja {loja}', fontsize=12, loc='left')\n",
    "    ax.set_xlabel('Mês')\n",
    "    ax.set_ylabel('Vendas')\n",
    "    ax.yaxis.set_tick_params(labelsize=10)\n",
    "    ax.xaxis.set_tick_params(labelsize=10)\n",
    "\n",
    "# Estabelece os limites para o Eixo Y\n",
    "ymin = 50\n",
    "ymax = 450\n",
    "for ax in axs.ravel():\n",
    "    ax.set_ylim(ymin, ymax)\n",
    "\n",
    "# Exibe o gráfico\n",
    "plt.show()"
   ]
  },
  {
   "cell_type": "markdown",
   "id": "3a3ed928",
   "metadata": {},
   "source": [
    "---"
   ]
  }
 ],
 "metadata": {
  "kernelspec": {
   "display_name": "Python 3",
   "language": "python",
   "name": "python3"
  },
  "language_info": {
   "codemirror_mode": {
    "name": "ipython",
    "version": 3
   },
   "file_extension": ".py",
   "mimetype": "text/x-python",
   "name": "python",
   "nbconvert_exporter": "python",
   "pygments_lexer": "ipython3",
   "version": "3.13.2"
  }
 },
 "nbformat": 4,
 "nbformat_minor": 5
}
