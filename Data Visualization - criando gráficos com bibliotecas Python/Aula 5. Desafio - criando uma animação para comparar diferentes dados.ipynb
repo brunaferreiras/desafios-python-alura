{
 "cells": [
  {
   "cell_type": "markdown",
   "id": "c80bad89",
   "metadata": {},
   "source": [
    "# <font color=95857b> **Aula 5. Gráficos interativos com Plotly**"
   ]
  },
  {
   "cell_type": "markdown",
   "id": "ad4f2512",
   "metadata": {},
   "source": [
    "#### <font color=#cebaa4> Desafio referente à _Aula 5._ \"Gráficos interativos com Plotly\" do curso **\"Data Visualization: criando gráficos com bibliotecas Python\"**, da *Alura*."
   ]
  },
  {
   "cell_type": "markdown",
   "id": "ac4b63f9",
   "metadata": {},
   "source": [
    "Na atividade anterior foi possível compreender como criar uma animação com a biblioteca Plotly. Agora vem mais um desafio!\n",
    "\n",
    "Lembra que nós criamos uma figura estática contendo os dados de imigração do Brasil e Argentina? Sua tarefa é criar um gráfico animado com o Plotly que mostre esses dados. O gráfico deve ter as seguintes características:\n",
    "\n",
    "- Duas linhas: uma para o Brasil e outra para a Argentina.\n",
    "- Um botão \"Play\" para iniciar a animação, mostrando o aumento ou diminuição do número de imigrantes ao longo dos anos.\n",
    "- As configurações de animação devem fazer com que as duas linhas sejam exibidas e animadas ao mesmo tempo.\n",
    "\n",
    "> **Dicas:**\n",
    ">\n",
    ">- Crie um DataFrame com os dados da Argentina e não se esqueça de deixar a coluna de anos no tipo **int**(inteiro).\n",
    ">- Use o código fornecido para o Brasil como base e adapte-o para incluir os dados da Argentina.\n",
    ">- Para configurar as animações você pode fazer um **Loop for** para percorrer o DataFrame `dados_brasil` e para cada iteração, criar uma nova lista contendo dois objetos do tipo `go.Scatter`, um para cada país. Em seguida, cada lista pode ser usada para criar um objeto `go.Frame`, que é adicionado à lista de frames. Por fim, a lista de frames pode ser atribuída ao objeto `fig`, que é a figura do gráfico a ser animado. Com isso, quando a animação for iniciada, o gráfico exibirá as duas linhas em movimento, uma para o Brasil e outra para a Argentina.\n",
    ">"
   ]
  },
  {
   "cell_type": "markdown",
   "id": "90d300c3",
   "metadata": {},
   "source": [
    "### <font color=#cebaa4> **Preparando os dados**"
   ]
  },
  {
   "cell_type": "code",
   "execution_count": null,
   "id": "7810a331",
   "metadata": {},
   "outputs": [],
   "source": [
    "# Importa as bibliotecas\n",
    "import pandas as pd\n",
    "import numpy as np\n",
    "import matplotlib.pyplot as plt\n",
    "import plotly.express as px"
   ]
  },
  {
   "cell_type": "code",
   "execution_count": null,
   "id": "ecc9c224",
   "metadata": {},
   "outputs": [],
   "source": [
    "# Lê e carrega os dados\n",
    "dados_mundo = pd.read_csv('imigrantes_canada.csv')\n",
    "# Coloca a coluna País como index\n",
    "dados_mundo.set_index('País', inplace=True)"
   ]
  },
  {
   "cell_type": "code",
   "execution_count": null,
   "id": "391e54fe",
   "metadata": {},
   "outputs": [],
   "source": [
    "# Cria uma lista com o intervalo de anos dos dados\n",
    "anos = list(map(str, range(1980, 2014)))"
   ]
  },
  {
   "cell_type": "code",
   "execution_count": null,
   "id": "492ac3eb",
   "metadata": {},
   "outputs": [],
   "source": [
    "# Separa os dados do Brasil\n",
    "brasil = dados_mundo.loc['Brasil', anos]\n",
    "\n",
    "# Separa os dados da Argentina\n",
    "argentina = dados_mundo.loc['Argentina', anos]"
   ]
  },
  {
   "cell_type": "code",
   "execution_count": null,
   "id": "9ad5fc0f",
   "metadata": {},
   "outputs": [],
   "source": [
    "# Cria o dicionário e Dataframe para os dados do Brasil\n",
    "brasil_dict = {'ano': brasil.index.tolist(), 'imigrantes': brasil.values.tolist()}\n",
    "dados_brasil = pd.DataFrame(brasil_dict)\n",
    "\n",
    "# Cria o dicionário e Dataframe para os dados da Argentina\n",
    "argentina_dict = {'ano': argentina.index.tolist(), 'imigrantes': argentina.values.tolist()}\n",
    "dados_argentina = pd.DataFrame(argentina_dict)"
   ]
  },
  {
   "cell_type": "code",
   "execution_count": null,
   "id": "f1df421b",
   "metadata": {},
   "outputs": [],
   "source": [
    "# Converte a coluna ano para números inteiros\n",
    "dados_brasil['ano'] = pd.to_numeric(dados_brasil['ano'], errors='coerce')\n",
    "dados_argentina['ano'] = pd.to_numeric(dados_brasil['ano'], errors='coerce')"
   ]
  },
  {
   "cell_type": "markdown",
   "id": "b322eb35",
   "metadata": {},
   "source": [
    "### <font color=#cebaa4> **Criando o gráfico animado**"
   ]
  },
  {
   "cell_type": "code",
   "execution_count": null,
   "id": "ff1c8a3e",
   "metadata": {},
   "outputs": [],
   "source": [
    "# Importa o módulo graph_objs\n",
    "import plotly.graph_objs as go"
   ]
  },
  {
   "cell_type": "code",
   "execution_count": null,
   "id": "d79409cb",
   "metadata": {},
   "outputs": [],
   "source": [
    "\n",
    "# Cria a figura inicial\n",
    "fig = go.Figure()\n",
    "\n",
    "# Traça e configura a linha para os dados do Brasil\n",
    "fig.add_trace(go.Scatter(\n",
    "    x=dados_brasil['ano'].iloc[:1],\n",
    "    y=dados_brasil['imigrantes'].iloc[:1],\n",
    "    mode='lines',\n",
    "    name='Brasil',\n",
    "    line=dict(width=4, color='#95e59b'),\n",
    "    marker=dict(size=8, color='#95e59b'),\n",
    "    hovertemplate='<b>Brasil</b><br>Ano: %{x}<br>Imigrantes: %{y}<extra></extra>'\n",
    "))\n",
    "\n",
    "# Traça e configura a linha para os dados da Argentina\n",
    "fig.add_trace(go.Scatter(\n",
    "    x=dados_argentina['ano'].iloc[:1],\n",
    "    y=dados_argentina['imigrantes'].iloc[:1],\n",
    "    mode='lines',\n",
    "    name='Argentina',\n",
    "    line=dict(width=4, color='#87cefa'),\n",
    "    marker=dict(size=8, color='#87cefa'),\n",
    "    hovertemplate='<b>Argentina</b><br>Ano: %{x}<br>Imigrantes: %{y}<extra></extra>'\n",
    "))\n",
    "\n",
    "# Estabelece o layout do gráfico\n",
    "max_imigrantes = max(dados_brasil['imigrantes'].max(), dados_argentina['imigrantes'].max())\n",
    "\n",
    "# Configura o layout do gráfico\n",
    "fig.update_layout(\n",
    "    title='<b>Imigração do Brasil e Argentina para o Canadá no período de 1980 a 2013</b>',\n",
    "    xaxis=dict(\n",
    "        range=[1980, 2013],\n",
    "        title='<b>Ano<b>',\n",
    "        gridcolor='#dddddd',\n",
    "        fixedrange=True\n",
    "    ),\n",
    "    yaxis=dict(\n",
    "        range=[0, max_imigrantes * 1.1],\n",
    "        title='<b>Número de Imigrantes<b>',\n",
    "        gridcolor='#dddddd',\n",
    "        fixedrange=True\n",
    "    ),\n",
    "    updatemenus=[{\n",
    "        'type': 'buttons',\n",
    "        'x': 0.02,\n",
    "        'y': 1.05,\n",
    "        'buttons': [{\n",
    "            'label': '▶️ Play',\n",
    "            'method': 'animate',\n",
    "            'args': [None, {'frame': {'duration': 100}}]\n",
    "        }]\n",
    "    }],\n",
    "    width=1000,\n",
    "    height=500,\n",
    "    plot_bgcolor='#eeeeee'\n",
    ")\n",
    "\n",
    "# Configura a fonte\n",
    "fig.update_layout(font_family=\"Tahoma\")\n",
    "\n",
    "# Configura os frames da animação\n",
    "frames = []\n",
    "max_pontos = max(len(dados_brasil), len(dados_argentina))\n",
    "\n",
    "for i in range(1, max_pontos + 1):\n",
    "    frame_data = []\n",
    "    \n",
    "    # Brasil\n",
    "    brasil_pontos = min(i, len(dados_brasil))\n",
    "    frame_data.append(go.Scatter(\n",
    "        x=dados_brasil['ano'].iloc[:brasil_pontos],\n",
    "        y=dados_brasil['imigrantes'].iloc[:brasil_pontos],\n",
    "        mode='lines',\n",
    "        line=dict(width=4, color='#95e59b')\n",
    "    ))\n",
    "    \n",
    "    # Argentina\n",
    "    argentina_pontos = min(i, len(dados_argentina))\n",
    "    frame_data.append(go.Scatter(\n",
    "        x=dados_argentina['ano'].iloc[:argentina_pontos],\n",
    "        y=dados_argentina['imigrantes'].iloc[:argentina_pontos],\n",
    "        mode='lines',\n",
    "        line=dict(width=4, color='#87cefa')\n",
    "    ))\n",
    "    \n",
    "    frames.append(go.Frame(data=frame_data))\n",
    "\n",
    "# Monta os quadros na sequência correta\n",
    "fig.frames = frames\n",
    "\n",
    "#Exibe o gráfico\n",
    "fig.show()"
   ]
  },
  {
   "cell_type": "code",
   "execution_count": null,
   "id": "02f5606f",
   "metadata": {},
   "outputs": [],
   "source": [
    "# Salva a figura em HTML\n",
    "fig.write_html('imigracao_bra_arg.html')"
   ]
  },
  {
   "cell_type": "markdown",
   "id": "dc66d7a0",
   "metadata": {},
   "source": [
    "---"
   ]
  }
 ],
 "metadata": {
  "kernelspec": {
   "display_name": "Python 3",
   "language": "python",
   "name": "python3"
  },
  "language_info": {
   "codemirror_mode": {
    "name": "ipython",
    "version": 3
   },
   "file_extension": ".py",
   "mimetype": "text/x-python",
   "name": "python",
   "nbconvert_exporter": "python",
   "pygments_lexer": "ipython3",
   "version": "3.13.2"
  }
 },
 "nbformat": 4,
 "nbformat_minor": 5
}
