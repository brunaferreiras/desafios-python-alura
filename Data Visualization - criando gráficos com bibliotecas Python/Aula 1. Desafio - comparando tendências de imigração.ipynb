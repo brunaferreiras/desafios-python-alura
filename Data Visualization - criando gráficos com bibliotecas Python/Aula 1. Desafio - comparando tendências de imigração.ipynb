{
 "cells": [
  {
   "cell_type": "markdown",
   "id": "3cd6334c",
   "metadata": {},
   "source": [
    "# <font color=95857b> **Aula 1. Conhecendo a biblioteca Matplotlib**"
   ]
  },
  {
   "cell_type": "markdown",
   "id": "c619fd32",
   "metadata": {},
   "source": [
    "#### <font color=#cebaa4> Desafio referente à _Aula 1._ \"Conhecendo a biblioteca Matplotlib\" do curso **\"Data Visualization: criando gráficos com bibliotecas Python\"**, da *Alura*."
   ]
  },
  {
   "cell_type": "markdown",
   "id": "cf8005a9",
   "metadata": {},
   "source": [
    "Chegou a hora de você testar os conhecimentos desenvolvidos durante a aula. Nós criamos um gráfico com a função **`plt.plot()`** para analisar as intrigantes tendências de imigração do Brasil para o Canadá, no período de 1980 a 2013. Neste momento temos uma nova demanda: criar um gráfico de linhas comparando os números de imigrantes do Brasil e Argentina para o Canadá, que são os maiores países da América do Sul.\n",
    "\n",
    "Prepare-se para um mergulho fascinante nas linhas que conectam esses países da América do Sul ao território canadense. Nessa missão, a elaboração desse gráfico pode ser útil para a compreensão das tendências migratórias desses países para o Canadá ao longo do tempo e como elas se comparam entre si. Ao analisar esses fatores, podemos obter uma visão mais abrangente do cenário migratório na América do Sul.\n",
    "\n",
    "**Fique tranquila(o)!**\n",
    "\n",
    "Essa nova tarefa é mais desafiadora, pois exige uma análise comparativa entre dois países. No entanto, ela também permitirá com que você obtenha uma aprendizagem enriquecedora. Por isso, explore as diversas possibilidades e lembre-se dos elementos essenciais de um gráfico: título, rótulos nos eixos x e y e os ticks do eixo x, que devem ser definidos de 5 em 5 anos.\n",
    "\n",
    "Além disso, você precisará descobrir como adicionar uma legenda para que seja possível identificar a linha de cada país. Ao seguir essas orientações, você terá construído um gráfico robusto que te permitirá uma análise significativa e aprofundada.\n",
    "\n",
    "Após criar o gráfico analise o resultado obtido e reflita nas seguintes questões:\n",
    "\n",
    "1. Há alguma tendência ou padrão comum nos dados dos dois países?\n",
    "2. Quais são os períodos com maior número de imigrantes nos dois países?\n",
    "\n",
    "Vamos lá?"
   ]
  },
  {
   "cell_type": "code",
   "execution_count": null,
   "id": "7dc33210",
   "metadata": {},
   "outputs": [],
   "source": [
    "# Importa a biblioteca Pandas\n",
    "import pandas as pd"
   ]
  },
  {
   "cell_type": "code",
   "execution_count": null,
   "id": "e119182c",
   "metadata": {},
   "outputs": [],
   "source": [
    "# Carrega e exibe os dados\n",
    "dados_mundo = pd.read_csv('imigrantes_canada.csv')\n",
    "dados_mundo"
   ]
  },
  {
   "cell_type": "code",
   "execution_count": null,
   "id": "b7286666",
   "metadata": {},
   "outputs": [],
   "source": [
    "# Coloca a coluna 'País' como índice\n",
    "dados_mundo.set_index('País', inplace=True)"
   ]
  },
  {
   "cell_type": "code",
   "execution_count": null,
   "id": "ab1eb1a5",
   "metadata": {},
   "outputs": [],
   "source": [
    "# Cria uma lista com o intervalo de anos dos dados\n",
    "anos = list(map(str, range(1980, 2014)))"
   ]
  },
  {
   "cell_type": "code",
   "execution_count": null,
   "id": "b5ef6b7b",
   "metadata": {},
   "outputs": [],
   "source": [
    "# Separa os dados do Brasil\n",
    "brasil = dados_mundo.loc['Brasil', anos]"
   ]
  },
  {
   "cell_type": "code",
   "execution_count": null,
   "id": "71b2976e",
   "metadata": {},
   "outputs": [],
   "source": [
    "# Cria o dicionário e Dataframe para os dados do Brasil\n",
    "brasil_dict = {'ano': brasil.index.tolist(), 'imigrantes': brasil.values.tolist()}\n",
    "dados_brasil = pd.DataFrame(brasil_dict)\n",
    "dados_brasil"
   ]
  },
  {
   "cell_type": "code",
   "execution_count": null,
   "id": "fde6e306",
   "metadata": {},
   "outputs": [],
   "source": [
    "# Separa os dados da Argentina\n",
    "argentina = dados_mundo.loc['Argentina', anos]"
   ]
  },
  {
   "cell_type": "code",
   "execution_count": null,
   "id": "e4d73b88",
   "metadata": {},
   "outputs": [],
   "source": [
    "# Cria o dicionário e Dataframe para os dados da Argentina\n",
    "argentina_dict = {'ano': argentina.index.tolist(), 'imigrantes': argentina.values.tolist()}\n",
    "dados_argentina = pd.DataFrame(argentina_dict)\n",
    "dados_argentina"
   ]
  },
  {
   "cell_type": "code",
   "execution_count": null,
   "id": "b16beeda",
   "metadata": {},
   "outputs": [],
   "source": [
    "# Importa o módulo pyplot da biblioteca Matplotlib\n",
    "import matplotlib.pyplot as plt"
   ]
  },
  {
   "cell_type": "code",
   "execution_count": null,
   "id": "ca311426",
   "metadata": {},
   "outputs": [],
   "source": [
    "# Plota os gráficos com os dados\n",
    "plt.plot(dados_argentina['ano'], dados_argentina['imigrantes'], color='#5B8DBA', label= 'Argentina')\n",
    "plt.plot(dados_brasil['ano'], dados_brasil['imigrantes'], color='#018023', label= 'Brasil')\n",
    "# Insere a legenda das linhas\n",
    "plt.legend()\n",
    "# Configura as marcações nos eixos\n",
    "plt.xticks(['1980', '1985', '1990', '1995', '2000', '2005', '2010'])\n",
    "plt.yticks([500, 1000, 1500, 2000, 2500, 3000])\n",
    "# Insere o título do gráfico\n",
    "plt.title('Imigração da Argentina e Brasil para o Canadá (1980-2013)')\n",
    "# Insere os títulos dos eixos\n",
    "plt.xlabel('Ano')\n",
    "plt.ylabel('Imigrantes')\n",
    "plt.show()\n"
   ]
  },
  {
   "cell_type": "markdown",
   "id": "7f6871b6",
   "metadata": {},
   "source": [
    "Os dois países apresentaram volumes de imigração um pouco similares até aproximadamente o ano de 1995. Após esse período, a emigração brasileira aumentou consistentemente, atingindo um pico próximo ao ano de 2010. A Argentina também apresentou um pico, próximo ao ano de 2012."
   ]
  },
  {
   "cell_type": "markdown",
   "id": "ee80ac6c",
   "metadata": {},
   "source": [
    "---"
   ]
  }
 ],
 "metadata": {
  "kernelspec": {
   "display_name": "Python 3",
   "language": "python",
   "name": "python3"
  },
  "language_info": {
   "codemirror_mode": {
    "name": "ipython",
    "version": 3
   },
   "file_extension": ".py",
   "mimetype": "text/x-python",
   "name": "python",
   "nbconvert_exporter": "python",
   "pygments_lexer": "ipython3",
   "version": "3.13.2"
  }
 },
 "nbformat": 4,
 "nbformat_minor": 5
}
