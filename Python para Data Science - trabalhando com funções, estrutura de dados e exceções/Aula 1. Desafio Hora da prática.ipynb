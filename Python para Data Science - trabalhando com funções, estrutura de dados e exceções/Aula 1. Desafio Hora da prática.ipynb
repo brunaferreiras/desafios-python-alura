{
  "nbformat": 4,
  "nbformat_minor": 0,
  "metadata": {
    "colab": {
      "provenance": []
    },
    "kernelspec": {
      "name": "python3",
      "display_name": "Python 3"
    },
    "language_info": {
      "name": "python"
    }
  },
  "cells": [
    {
      "cell_type": "markdown",
      "source": [
        "<font color=#f1fa8c>Exercícios de programação em Python referentes à Aula 1. Bibliotecas\", do curso \"Python para Data Science: trabalhando com funções, estruturas de dados e exceções\" da Alura."
      ],
      "metadata": {
        "id": "-QkHPbVodj8I"
      }
    },
    {
      "cell_type": "markdown",
      "source": [
        "*Vamos praticar o que aprendemos até aqui solucionando os problemas propostos em código.*"
      ],
      "metadata": {
        "id": "xr745rv-lDBf"
      }
    },
    {
      "cell_type": "markdown",
      "source": [
        "# <font color=#ffb86c> **Aquecimento**"
      ],
      "metadata": {
        "id": "G9mSKvPJlSR5"
      }
    },
    {
      "cell_type": "markdown",
      "source": [
        "<font color=#bd93f9>**1.**</font> Escreva um código para instalar a versão `3.7.1` da biblioteca `matplotlib`."
      ],
      "metadata": {
        "id": "cVfVETz4lg4j"
      }
    },
    {
      "cell_type": "code",
      "source": [
        "!pip install matplotlib==3.6.2"
      ],
      "metadata": {
        "id": "JUsS74xElPjC"
      },
      "execution_count": null,
      "outputs": []
    },
    {
      "cell_type": "markdown",
      "source": [
        "<font color=#bd93f9>**2.**</font> Escreva um código para importar a biblioteca `numpy` com o alias `np`.\n"
      ],
      "metadata": {
        "id": "2HEu3qTWlnB4"
      }
    },
    {
      "cell_type": "code",
      "source": [
        "import numpy as np"
      ],
      "metadata": {
        "id": "kQWqMcq4lsB0"
      },
      "execution_count": null,
      "outputs": []
    },
    {
      "cell_type": "markdown",
      "source": [
        "<font color=#bd93f9>**3.**</font> Crie um programa que leia a seguinte lista de números e escolha um número desta aleatoriamente.\n",
        "\n",
        "lista = [8, 12, 54, 23, 43, 1, 90, 87, 105, 77]"
      ],
      "metadata": {
        "id": "rD6l8Zqrls5T"
      }
    },
    {
      "cell_type": "code",
      "source": [
        "lista = [8, 12, 54, 23, 43, 1, 90, 87, 105, 77]\n",
        "\n",
        "from random import choice\n",
        "escolhido = choice(lista)\n",
        "escolhido"
      ],
      "metadata": {
        "id": "J7GuV9SMlz4a"
      },
      "execution_count": null,
      "outputs": []
    },
    {
      "cell_type": "markdown",
      "source": [
        "<font color=#bd93f9>**4.**</font> Crie um programa que sorteia, aleatoriamente, um número inteiro positivo menor que 100."
      ],
      "metadata": {
        "id": "nium48f6l1Ok"
      }
    },
    {
      "cell_type": "markdown",
      "source": [
        "\n",
        "\n",
        "> <font color=#f1fa8c> *Use a função randrange() da biblioteca random. Essa função recebe como parâmetro o valor limite para a escolha aleatória ou um intervalo se passado o limite mínimo e máximo. Por exemplo, randrange(5) gera valores inteiros menores que 5.*\n",
        "\n"
      ],
      "metadata": {
        "id": "TqVIl3f-l6hf"
      }
    },
    {
      "cell_type": "code",
      "source": [
        "from random import randrange\n",
        "inteiros = randrange(100)\n",
        "inteiros"
      ],
      "metadata": {
        "id": "hC6WM0qZl5iU"
      },
      "execution_count": null,
      "outputs": []
    },
    {
      "cell_type": "markdown",
      "source": [
        "<font color=#bd93f9>**5.**</font> Crie um programa que solicite à pessoa usuária digitar dois números inteiros e calcular a potência do 1º número elevado ao 2º."
      ],
      "metadata": {
        "id": "WW1krPmTmG2_"
      }
    },
    {
      "cell_type": "markdown",
      "source": [
        "\n",
        "\n",
        "> <font color=#f1fa8c> *Use a função pow() da biblioteca math*\n",
        "\n"
      ],
      "metadata": {
        "id": "i2sRRIMimKh5"
      }
    },
    {
      "cell_type": "code",
      "source": [
        "primeiro = int(input('Digite um número inteiro: '))\n",
        "segundo = int(input('Digite um número inteiro: '))\n",
        "\n",
        "from math import pow\n",
        "potencia = pow(primeiro, segundo)\n",
        "potencia"
      ],
      "metadata": {
        "id": "LEStd3GjmHxI"
      },
      "execution_count": null,
      "outputs": []
    },
    {
      "cell_type": "markdown",
      "source": [
        "# <font color=#ffb86c> **Aplicando a projetos**"
      ],
      "metadata": {
        "id": "OiemsKrumcqt"
      }
    },
    {
      "cell_type": "markdown",
      "source": [
        "<font color=#bd93f9>**6.**</font> Um programa deve ser escrito para sortear uma pessoa seguidora de uma rede social para ganhar um prêmio. A lista de participantes é numerada e devemos escolher aleatoriamente um número de acordo com a quantidade de participantes. Peça à pessoa usuária para fornecer o número de participantes do sorteio e devolva para ela o número sorteado."
      ],
      "metadata": {
        "id": "e98WejLfmrS7"
      }
    },
    {
      "cell_type": "code",
      "source": [
        "participantes = int(input('Insira o número de participantes do sorteio: '))\n",
        "sorteado = randrange(participantes)\n",
        "sorteado"
      ],
      "metadata": {
        "id": "ZfxNYkmBmmwY"
      },
      "execution_count": null,
      "outputs": []
    },
    {
      "cell_type": "markdown",
      "source": [
        "<font color=#bd93f9>**7.**</font> Você recebeu uma demanda para gerar números de token para acessar o aplicativo de uma empresa. O token precisa ser par e variar de 1000 até 9998. Escreva um código que solicita à pessoa usuária o seu nome e exibe uma mensagem junto a esse token gerado aleatoriamente."
      ],
      "metadata": {
        "id": "7qKRcp-4mvti"
      }
    },
    {
      "cell_type": "markdown",
      "source": [
        "\n",
        "\n",
        "> `\"Olá, [nome], o seu token de acesso é [token]! Seja bem-vindo(a)!\"`\n",
        "\n"
      ],
      "metadata": {
        "id": "piz2J_6cm2qj"
      }
    },
    {
      "cell_type": "code",
      "source": [
        "nome = input('Digite seu nome completo: ')\n",
        "token = randrange(1000, 9999, 2)\n",
        "\n",
        "print(f'Olá, {nome}, o seu token de acesso é {token}! Seja bem-vindo(a)')"
      ],
      "metadata": {
        "id": "2So0wfVymywl"
      },
      "execution_count": null,
      "outputs": []
    },
    {
      "cell_type": "markdown",
      "source": [
        "<font color=#bd93f9>**8.** </font>Para diversificar e atrair novos(as) clientes, uma lanchonete criou um item misterioso em seu cardápio chamado \"salada de frutas surpresa\". Neste item, são escolhidas aleatoriamente 3 frutas de uma lista de 12 para compor a salada de frutas da pessoa cliente. Crie o código que faça essa seleção aleatória de acordo com a lista abaixo:"
      ],
      "metadata": {
        "id": "4se_GHiCm-xr"
      }
    },
    {
      "cell_type": "markdown",
      "source": [
        "frutas = [\"maçã\", \"banana\", \"uva\", \"pêra\",\n",
        "          \"manga\", \"coco\", \"melancia\", \"mamão\",\n",
        "          \"laranja\", \"abacaxi\", \"kiwi\", \"ameixa\"]\n",
        "          "
      ],
      "metadata": {
        "id": "t_w86OiCnDiK"
      }
    },
    {
      "cell_type": "code",
      "source": [
        "frutas = [\"maçã\", \"banana\", \"uva\", \"pêra\",\n",
        "          \"manga\", \"coco\", \"melancia\", \"mamão\",\n",
        "          \"laranja\", \"abacaxi\", \"kiwi\", \"ameixa\"]\n",
        "salada = []\n",
        "\n",
        "for i in range(1, 4):\n",
        "  opcao = randrange(0, len(frutas))\n",
        "  fruta = frutas[opcao]\n",
        "  salada.append(fruta)\n",
        "  frutas.remove(fruta)\n",
        "\n",
        "print(f'A salada de frutas surpresa contém: {salada}.')\n"
      ],
      "metadata": {
        "id": "LBEiB2XunAHQ"
      },
      "execution_count": null,
      "outputs": []
    },
    {
      "cell_type": "markdown",
      "source": [
        "<font color=#bd93f9>**9.**</font> Você recebeu um desafio de calcular a raiz quadrada de uma lista de números, identificando quais resultaram em um número inteiro. A lista é a seguinte:"
      ],
      "metadata": {
        "id": "Hci1Cf9ZnISQ"
      }
    },
    {
      "cell_type": "markdown",
      "source": [
        "numeros = [2, 8, 15, 23, 91, 112, 256]"
      ],
      "metadata": {
        "id": "j_CEJ0conLM-"
      }
    },
    {
      "cell_type": "markdown",
      "source": [
        "No final, informe quais números possuem raízes inteiras e seus respectivos valores."
      ],
      "metadata": {
        "id": "vy_eOor0nPqI"
      }
    },
    {
      "cell_type": "markdown",
      "source": [
        "\n",
        "\n",
        "> <font color=#f1fa8c> *Use a comparação entre a divisão inteira (//) da raiz por 1 com o valor da raiz para verificar se o número é inteiro. Por exemplo:*\n",
        "\n"
      ],
      "metadata": {
        "id": "x7DqhSmGnVDw"
      }
    },
    {
      "cell_type": "markdown",
      "source": [
        "```python\n",
        "num = 1.5\n",
        "num_2 = 2\n",
        "print(f'{num} é inteiro? :', num // 1 == num)\n",
        "print(f'{num_2} é inteiro? :', num_2 // 1 == num_2)\n",
        "```"
      ],
      "metadata": {
        "id": "lvv-5EpAfx6X"
      }
    },
    {
      "cell_type": "code",
      "source": [
        "numeros = [2, 8, 15, 23, 91, 112, 256]\n",
        "inteiros = []\n",
        "raizinteira = []\n",
        "from math import sqrt\n",
        "\n",
        "for numero in numeros:\n",
        "  raiz = sqrt(numero)\n",
        "  if raiz // 1 == raiz:\n",
        "    inteiros.append(numero)\n",
        "    raizinteira.append(raiz)\n",
        "\n",
        "print(f'Número(s) com raiz inteira: {inteiros}. Raiz(es):{raizinteira}')\n"
      ],
      "metadata": {
        "id": "uSyNssjBn4SD"
      },
      "execution_count": null,
      "outputs": []
    },
    {
      "cell_type": "markdown",
      "source": [
        "<font color=#bd93f9>**10.**</font> Faça um programa para uma loja que vende grama para jardins. Essa loja trabalha com jardins circulares e o preço do metro quadrado da grama é de R$ 25,00. Peça à pessoa usuária o raio da área circular e devolva o valor em reais do quanto precisará pagar."
      ],
      "metadata": {
        "id": "D61wgDuCn3dY"
      }
    },
    {
      "cell_type": "markdown",
      "source": [
        "\n",
        "\n",
        "> <font color=#f1fa8c>*Dica: use a variável pi e o método pow() da biblioteca math. O cálculo da área de um círculo é de: A = π*r^2 (lê-se pi vezes raio ao quadrado).*\n",
        "\n"
      ],
      "metadata": {
        "id": "br65baIfoAUa"
      }
    },
    {
      "cell_type": "code",
      "source": [
        "raio = float(input('Insira o raio da área circular de jardim: '))\n",
        "preco = 25\n",
        "\n",
        "from math import pi\n",
        "\n",
        "area = pi * pow(raio,2)\n",
        "precocliente = area * preco\n",
        "\n",
        "print('O preço total é R$%2.f.' %(precocliente))"
      ],
      "metadata": {
        "id": "so7gtoGvntql"
      },
      "execution_count": null,
      "outputs": []
    }
  ]
}