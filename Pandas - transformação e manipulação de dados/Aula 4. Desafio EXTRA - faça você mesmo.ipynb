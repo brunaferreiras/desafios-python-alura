{
 "cells": [
  {
   "cell_type": "markdown",
   "id": "c341d0e6",
   "metadata": {},
   "source": [
    "# <font color=#bf7c2a> **Aula 4. Dados de Tempo**"
   ]
  },
  {
   "cell_type": "markdown",
   "id": "f58770c6",
   "metadata": {},
   "source": [
    "#### <font color=#9c9c9c> Desafio **EXTRA** referente à Aula 4. \"Dados de tempo\" do curso **\"Pandas: transformação e manipulação de dados\"**, da *Alura*."
   ]
  },
  {
   "cell_type": "markdown",
   "id": "00c10c94",
   "metadata": {},
   "source": [
    "Nessa aula, aprendemos a manipular os dados temporais através do tipo datetime. Entendemos como transformar uma coluna para datetime e, depois, manipulamos esses dados. Mesmo assim, nem todos os dados do conjunto `moveis_disponiveis.json` foram tratados.\n",
    "\n",
    "Durante as aulas desse curso, descobrimos como transformar e trabalhar com valores numéricos, por exemplo, removendo valores numéricos dentro de um texto e transformando-os em um tipo numérico, como `int64` ou `float64`.\n",
    "\n",
    "Sabendo disso, nessa atividade, proponho que você faça a transformação dos dados na coluna preco do conjunto de dados `moveis_disponiveis.json` para o tipo numérico `float64`. Lembrando que, antes de fazer isso, você precisa preencher os valores vazios na coluna por um valor. Uma sugestão: substitua pela string `'0.0'`.\n",
    "\n",
    "Fique à vontade para seguir com os mesmos passos dados em aula ou, se preferir, realizar outros aprimoramentos, como a remoção de algum caractere ou de stopwords.\n",
    "\n"
   ]
  },
  {
   "cell_type": "markdown",
   "id": "30ba1cd4",
   "metadata": {},
   "source": [
    "### <font color=#c09c6f> **Carregando o banco de dados**"
   ]
  },
  {
   "cell_type": "code",
   "execution_count": null,
   "id": "3b985a7c",
   "metadata": {},
   "outputs": [],
   "source": [
    "# Importa as bibliotecas\n",
    "import pandas as pd\n",
    "import numpy as np"
   ]
  },
  {
   "cell_type": "code",
   "execution_count": null,
   "id": "df34fe2c",
   "metadata": {},
   "outputs": [],
   "source": [
    "# Carrega o banco de dados para um DataFrame\n",
    "dt_data = pd.read_json('moveis_disponiveis.json')"
   ]
  },
  {
   "cell_type": "markdown",
   "id": "96c5e9bd",
   "metadata": {},
   "source": [
    "### <font color=#c09c6f> **Convertendo a coluna `preco`**"
   ]
  },
  {
   "cell_type": "code",
   "execution_count": null,
   "id": "ff3efcbc",
   "metadata": {},
   "outputs": [],
   "source": [
    "# Retira os caracteres especiais\n",
    "dt_data['preco'] = dt_data['preco'].str.replace('[^0-9.]', '', regex=True)"
   ]
  },
  {
   "cell_type": "code",
   "execution_count": null,
   "id": "9a303860",
   "metadata": {},
   "outputs": [],
   "source": [
    "# Apara os espaços dos valores\n",
    "dt_data['preco'] = dt_data['preco'].str.strip()"
   ]
  },
  {
   "cell_type": "code",
   "execution_count": null,
   "id": "3febdbab",
   "metadata": {},
   "outputs": [],
   "source": [
    "# Preenche os campos 'None' na coluna preco\n",
    "dt_data['preco'] = dt_data['preco'].fillna('0.00')"
   ]
  },
  {
   "cell_type": "code",
   "execution_count": null,
   "id": "4da7a5b3",
   "metadata": {},
   "outputs": [],
   "source": [
    "# Converte a coluna para float64\n",
    "dt_data['preco'] = dt_data['preco'].astype(np.float64)"
   ]
  },
  {
   "cell_type": "code",
   "execution_count": null,
   "id": "c05a35b6",
   "metadata": {},
   "outputs": [],
   "source": [
    "# Exibe informações sobre os tipos das colunas\n",
    "dt_data.info()"
   ]
  },
  {
   "cell_type": "code",
   "execution_count": null,
   "id": "0a7b8484",
   "metadata": {},
   "outputs": [],
   "source": [
    "# Exibe as 5 primeiras linhas do DataFrame\n",
    "dt_data.head()"
   ]
  },
  {
   "cell_type": "markdown",
   "id": "88974cd0",
   "metadata": {},
   "source": [
    "---"
   ]
  }
 ],
 "metadata": {
  "kernelspec": {
   "display_name": "Python 3",
   "language": "python",
   "name": "python3"
  },
  "language_info": {
   "codemirror_mode": {
    "name": "ipython",
    "version": 3
   },
   "file_extension": ".py",
   "mimetype": "text/x-python",
   "name": "python",
   "nbconvert_exporter": "python",
   "pygments_lexer": "ipython3",
   "version": "3.13.2"
  }
 },
 "nbformat": 4,
 "nbformat_minor": 5
}
