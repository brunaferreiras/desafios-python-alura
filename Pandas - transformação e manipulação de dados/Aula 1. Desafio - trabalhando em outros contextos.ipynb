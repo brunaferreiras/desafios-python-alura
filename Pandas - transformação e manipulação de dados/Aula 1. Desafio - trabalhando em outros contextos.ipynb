{
 "cells": [
  {
   "cell_type": "markdown",
   "id": "a24c098b",
   "metadata": {},
   "source": [
    "# **Aula 1**"
   ]
  },
  {
   "cell_type": "markdown",
   "id": "0517888e",
   "metadata": {},
   "source": [
    "#### <font color=#9c9c9c> Desafio referente à Aula 1. \"Entendendo o problema\" do curso **\"Pandas: transformação e manipulação de dados\"**, da *Alura*."
   ]
  },
  {
   "cell_type": "markdown",
   "id": "79ab6aa5",
   "metadata": {},
   "source": [
    "Chegou a hora de pôr em prática tudo o que aprendemos durante as aulas. Preparei dois projetos extras para desenvolvermos durante o curso, para garantir que possamos praticar bastante! Para isso, vamos trabalhar com 2 novos conjuntos de dados, mas que dessa vez serão bem menores. As bases de dados estão disponíveis para download abaixo:\n",
    "\n",
    "- Projeto desafio 1: vendas online - [dados_vendas_clientes.json](https://cdn3.gnarususercontent.com.br/2928-transformacao-manipulacao-dados/dados_vendas_clientes.json);\n",
    "- Projeto desafio 2: administração de condomínios - [dados_locacao_imoveis.json](https://cdn3.gnarususercontent.com.br/2928-transformacao-manipulacao-dados/dados_locacao_imoveis.json).\n",
    "\n",
    "Em cada aula, desenvolveremos uma etapa dos projetos. Portanto, salve seu código de construção em cada desafio para que possa aplicá-lo nos desafios posteriores."
   ]
  },
  {
   "cell_type": "code",
   "execution_count": null,
   "id": "dd485e7d",
   "metadata": {},
   "outputs": [],
   "source": [
    "# Importa a biblioteca Pandas\n",
    "import pandas as pd"
   ]
  },
  {
   "cell_type": "markdown",
   "id": "4cb4cc33",
   "metadata": {},
   "source": [
    "### <font color=#c09c6f> **Etapa 1** </font>\n",
    "\n",
    "- <font color=#5f503e>**Projeto desafio 1: vendas online**</font>\n",
    "\n",
    "O objetivo desse projeto é realizar uma análise dos resultados de um evento com os clientes de uma empresa de vendas online. Foi coletado um conjunto de dados que contém os clientes que mais gastaram com produtos dentro de 5 dias de vendas, que é o período de duração do evento. Essa análise vai identificar o cliente com a maior compra na semana, que irá receber um prêmio da loja, e posteriormente, ela pode ajudar a empresa a criar novas estratégias para atrair mais clientes.\n",
    "\n",
    "A base de dados utilizada nessa análise é a [dados_vendas_clientes.json](https://cdn3.gnarususercontent.com.br/2928-transformacao-manipulacao-dados/dados_vendas_clientes.json) e contém informações importantes sobre os clientes como, o nome de cadastro do cliente, o valor total pago na compra e o dia da compra.\n",
    "\n",
    "Sabendo essas informações, o **desafio do projeto 1: vendas online** será abrir a base de dados com Pandas e aplicar o [json_normalize](https://pandas.pydata.org/docs/reference/api/pandas.json_normalize.html)."
   ]
  },
  {
   "cell_type": "code",
   "execution_count": null,
   "id": "ceea525b",
   "metadata": {},
   "outputs": [],
   "source": [
    "# Carrega e exibe estado da base de dados\n",
    "dados_vendas = pd.read_json('dados_vendas_clientes.json')\n",
    "dados_vendas.head()\n"
   ]
  },
  {
   "cell_type": "code",
   "execution_count": null,
   "id": "ce4b365f",
   "metadata": {},
   "outputs": [],
   "source": [
    "# Normaliza os dados aninhados do arquivo JSON\n",
    "dados_vendas = pd.json_normalize(dados_vendas['dados_vendas'])\n",
    "dados_vendas"
   ]
  },
  {
   "cell_type": "markdown",
   "id": "7465a472",
   "metadata": {},
   "source": [
    "- <font color=#5f503e>**Projeto desafio 2: administração de condomínios**</font>\n",
    "\n",
    "A administração de condomínios é uma tarefa que requer muita atenção e organização. Entre as diversas responsabilidades da gestão está o recebimento dos aluguéis dos locatários. Para garantir uma boa saúde financeira do empreendimento, é fundamental que esses pagamentos sejam feitos de forma regular e pontual. No entanto, sabemos que nem sempre isso acontece.\n",
    "\n",
    "Pensando nisso, proponho um desafio de tratamento de dados com o objetivo de **analisar o atraso no pagamento de aluguéis no condomínio** de alguns moradores. Disponibilizo a base de dados [dados_locacao_imoveis.json](https://cdn3.gnarususercontent.com.br/2928-transformacao-manipulacao-dados/dados_locacao_imoveis.json), que contém informações sobre o apartamento dos locatários, o dia acordado para o pagamento do aluguel, o dia da efetivação do pagamento de aluguel e o valor do aluguel.\n",
    "\n",
    "Com essas informações, o desafio do projeto 2: administração de condomínios será similar ao desafio do projeto 1, abrir a base de dados com Pandas e aplicar o [json_normalize](https://pandas.pydata.org/docs/reference/api/pandas.json_normalize.html) no DataFrame."
   ]
  },
  {
   "cell_type": "code",
   "execution_count": null,
   "id": "94e50550",
   "metadata": {},
   "outputs": [],
   "source": [
    "# Carrega e exibe o estado da base de dados\n",
    "dados_locacao = pd.read_json('dados_locacao_imoveis.json')\n",
    "dados_locacao.head()"
   ]
  },
  {
   "cell_type": "code",
   "execution_count": null,
   "id": "f6b0b6a0",
   "metadata": {},
   "outputs": [],
   "source": [
    "# Normaliza os dados aninhados no arquivo JSON\n",
    "dados_locacao = pd.json_normalize(dados_locacao['dados_locacao'])\n",
    "dados_locacao"
   ]
  },
  {
   "cell_type": "markdown",
   "id": "94d95aed",
   "metadata": {},
   "source": [
    "---"
   ]
  }
 ],
 "metadata": {
  "kernelspec": {
   "display_name": "Python 3",
   "language": "python",
   "name": "python3"
  },
  "language_info": {
   "codemirror_mode": {
    "name": "ipython",
    "version": 3
   },
   "file_extension": ".py",
   "mimetype": "text/x-python",
   "name": "python",
   "nbconvert_exporter": "python",
   "pygments_lexer": "ipython3",
   "version": "3.13.2"
  }
 },
 "nbformat": 4,
 "nbformat_minor": 5
}
