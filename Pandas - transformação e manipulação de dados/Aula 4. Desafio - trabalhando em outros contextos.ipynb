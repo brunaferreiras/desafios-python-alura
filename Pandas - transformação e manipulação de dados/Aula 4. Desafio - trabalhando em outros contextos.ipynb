{
 "cells": [
  {
   "cell_type": "markdown",
   "id": "a24c098b",
   "metadata": {},
   "source": [
    "# <font color=#bf7c2a> **Aula 1**"
   ]
  },
  {
   "cell_type": "markdown",
   "id": "0517888e",
   "metadata": {},
   "source": [
    "#### <font color=#9c9c9c> Desafio referente à Aula 1. \"Entendendo o problema\" do curso **\"Pandas: transformação e manipulação de dados\"**, da *Alura*."
   ]
  },
  {
   "cell_type": "markdown",
   "id": "79ab6aa5",
   "metadata": {},
   "source": [
    "Chegou a hora de pôr em prática tudo o que aprendemos durante as aulas. Preparei dois projetos extras para desenvolvermos durante o curso, para garantir que possamos praticar bastante! Para isso, vamos trabalhar com 2 novos conjuntos de dados, mas que dessa vez serão bem menores. As bases de dados estão disponíveis para download abaixo:\n",
    "\n",
    "- Projeto desafio 1: vendas online - [dados_vendas_clientes.json](https://cdn3.gnarususercontent.com.br/2928-transformacao-manipulacao-dados/dados_vendas_clientes.json);\n",
    "- Projeto desafio 2: administração de condomínios - [dados_locacao_imoveis.json](https://cdn3.gnarususercontent.com.br/2928-transformacao-manipulacao-dados/dados_locacao_imoveis.json).\n",
    "\n",
    "Em cada aula, desenvolveremos uma etapa dos projetos. Portanto, salve seu código de construção em cada desafio para que possa aplicá-lo nos desafios posteriores."
   ]
  },
  {
   "cell_type": "code",
   "execution_count": null,
   "id": "dd485e7d",
   "metadata": {},
   "outputs": [],
   "source": [
    "# Importa a biblioteca Pandas\n",
    "import pandas as pd"
   ]
  },
  {
   "cell_type": "markdown",
   "id": "4cb4cc33",
   "metadata": {},
   "source": [
    "### <font color=#c09c6f> **Etapa 1** </font>\n",
    "\n",
    "- <font color=#5f503e>**Projeto desafio 1: vendas online**</font>\n",
    "\n",
    "O objetivo desse projeto é realizar uma análise dos resultados de um evento com os clientes de uma empresa de vendas online. Foi coletado um conjunto de dados que contém os clientes que mais gastaram com produtos dentro de 5 dias de vendas, que é o período de duração do evento. Essa análise vai identificar o cliente com a maior compra na semana, que irá receber um prêmio da loja, e posteriormente, ela pode ajudar a empresa a criar novas estratégias para atrair mais clientes.\n",
    "\n",
    "A base de dados utilizada nessa análise é a [dados_vendas_clientes.json](https://cdn3.gnarususercontent.com.br/2928-transformacao-manipulacao-dados/dados_vendas_clientes.json) e contém informações importantes sobre os clientes como, o nome de cadastro do cliente, o valor total pago na compra e o dia da compra.\n",
    "\n",
    "Sabendo essas informações, o **desafio do projeto 1: vendas online** será abrir a base de dados com Pandas e aplicar o [json_normalize](https://pandas.pydata.org/docs/reference/api/pandas.json_normalize.html)."
   ]
  },
  {
   "cell_type": "code",
   "execution_count": null,
   "id": "ceea525b",
   "metadata": {},
   "outputs": [],
   "source": [
    "# Carrega e exibe estado da base de dados\n",
    "dados_vendas = pd.read_json('dados_vendas_clientes.json')\n",
    "dados_vendas.head()\n"
   ]
  },
  {
   "cell_type": "code",
   "execution_count": null,
   "id": "ce4b365f",
   "metadata": {},
   "outputs": [],
   "source": [
    "# Normaliza os dados aninhados do arquivo JSON\n",
    "dados_vendas = pd.json_normalize(dados_vendas['dados_vendas'])\n",
    "dados_vendas"
   ]
  },
  {
   "cell_type": "markdown",
   "id": "7465a472",
   "metadata": {},
   "source": [
    "- <font color=#5f503e>**Projeto desafio 2: administração de condomínios**</font>\n",
    "\n",
    "A administração de condomínios é uma tarefa que requer muita atenção e organização. Entre as diversas responsabilidades da gestão está o recebimento dos aluguéis dos locatários. Para garantir uma boa saúde financeira do empreendimento, é fundamental que esses pagamentos sejam feitos de forma regular e pontual. No entanto, sabemos que nem sempre isso acontece.\n",
    "\n",
    "Pensando nisso, proponho um desafio de tratamento de dados com o objetivo de **analisar o atraso no pagamento de aluguéis no condomínio** de alguns moradores. Disponibilizo a base de dados [dados_locacao_imoveis.json](https://cdn3.gnarususercontent.com.br/2928-transformacao-manipulacao-dados/dados_locacao_imoveis.json), que contém informações sobre o apartamento dos locatários, o dia acordado para o pagamento do aluguel, o dia da efetivação do pagamento de aluguel e o valor do aluguel.\n",
    "\n",
    "Com essas informações, o desafio do projeto 2: administração de condomínios será similar ao desafio do projeto 1, abrir a base de dados com Pandas e aplicar o [json_normalize](https://pandas.pydata.org/docs/reference/api/pandas.json_normalize.html) no DataFrame."
   ]
  },
  {
   "cell_type": "code",
   "execution_count": null,
   "id": "94e50550",
   "metadata": {},
   "outputs": [],
   "source": [
    "# Carrega e exibe o estado da base de dados\n",
    "dados_locacao = pd.read_json('dados_locacao_imoveis.json')\n",
    "dados_locacao.head()"
   ]
  },
  {
   "cell_type": "code",
   "execution_count": null,
   "id": "f6b0b6a0",
   "metadata": {},
   "outputs": [],
   "source": [
    "# Normaliza os dados aninhados no arquivo JSON\n",
    "dados_locacao = pd.json_normalize(dados_locacao['dados_locacao'])\n",
    "dados_locacao"
   ]
  },
  {
   "cell_type": "markdown",
   "id": "94d95aed",
   "metadata": {},
   "source": [
    "---"
   ]
  },
  {
   "cell_type": "markdown",
   "id": "dcb20f15",
   "metadata": {},
   "source": [
    "# <font color=#bf7c2a> **Aula 2**"
   ]
  },
  {
   "cell_type": "markdown",
   "id": "de6a62fc",
   "metadata": {},
   "source": [
    "#### <font color=#9c9c9c> Desafio referente à Aula 2. \"Dados numéricos\" do curso **\"Pandas: transformação e manipulação de dados\"**, da *Alura*."
   ]
  },
  {
   "cell_type": "markdown",
   "id": "0d4ed576",
   "metadata": {},
   "source": [
    "Voltemos a pôr em prática tudo o que aprendemos durante as aulas. Disponibilizei novamente os 2 novos conjuntos de dados para download abaixo:\n",
    "\n",
    "- Projeto desafio 1: vendas online - [dados_vendas_clientes.json](https://cdn3.gnarususercontent.com.br/2928-transformacao-manipulacao-dados/dados_vendas_clientes.json);\n",
    "- Projeto desafio 2: administração de condomínios - [dados_locacao_imoveis.json](https://cdn3.gnarususercontent.com.br/2928-transformacao-manipulacao-dados/dados_locacao_imoveis.json).\n",
    "\n",
    "**Lembrando:** São dois projetos de tratamento que serão construídos durante o andamento do curso. Portanto, salve seu código de construção em cada desafio para que possa aplicá-lo nos desafios posteriores."
   ]
  },
  {
   "cell_type": "markdown",
   "id": "d5320a09",
   "metadata": {},
   "source": [
    "### <font color=#c09c6f> **Etapa 2** </font>"
   ]
  },
  {
   "cell_type": "markdown",
   "id": "ce15af17",
   "metadata": {},
   "source": [
    "- <font color=#5f503e>**Projeto desafio 1: vendas online** </font>\n",
    "\n",
    "Lemos a base de dados no desafio anterior, agora podemos avançar nas transformações desses dados. Então, o novo desafio do projeto 1 será dividido em algumas metas:\n",
    "\n",
    "- Remover os dados em listas dentro do DataFrame;\n",
    "- Verificar os tipos de dados;\n",
    "- Identificar colunas numéricas;\n",
    "- Transformar a coluna numérica para o tipo numérico."
   ]
  },
  {
   "cell_type": "code",
   "execution_count": null,
   "id": "2a6b989d",
   "metadata": {},
   "outputs": [],
   "source": [
    "# Armazena as colunas em uma lista\n",
    "colunas = list(dados_vendas.columns)"
   ]
  },
  {
   "cell_type": "code",
   "execution_count": null,
   "id": "c109ce64",
   "metadata": {},
   "outputs": [],
   "source": [
    "# Retira as listas do DataFrame\n",
    "dados_vendas = dados_vendas.explode(colunas[1:])\n",
    "dados_vendas"
   ]
  },
  {
   "cell_type": "code",
   "execution_count": null,
   "id": "f12992f5",
   "metadata": {},
   "outputs": [],
   "source": [
    "# Reseta a coluna de index\n",
    "dados_vendas.reset_index(inplace=True, drop=True)\n",
    "dados_vendas.head()"
   ]
  },
  {
   "cell_type": "code",
   "execution_count": null,
   "id": "7c524f91",
   "metadata": {},
   "outputs": [],
   "source": [
    "# Verifica o tipo de dados das colunas\n",
    "dados_vendas.info()"
   ]
  },
  {
   "cell_type": "code",
   "execution_count": null,
   "id": "dab440cf",
   "metadata": {},
   "outputs": [],
   "source": [
    "# Importa a biblioteca NumPy\n",
    "import numpy as np"
   ]
  },
  {
   "cell_type": "code",
   "execution_count": null,
   "id": "8fd4e52a",
   "metadata": {},
   "outputs": [],
   "source": [
    "# Retira os caracteres 'R$'\n",
    "dados_vendas['Valor da compra'] = dados_vendas['Valor da compra'].astype(str).apply(lambda x: x.replace('R', '').replace('$', '').replace(',','.').strip())\n",
    "dados_vendas"
   ]
  },
  {
   "cell_type": "code",
   "execution_count": null,
   "id": "d40ce7cc",
   "metadata": {},
   "outputs": [],
   "source": [
    "# Coverte a coluna 'Valor da compra' para float\n",
    "dados_vendas['Valor da compra'] = dados_vendas['Valor da compra'].astype(np.float64)\n",
    "dados_vendas.head()"
   ]
  },
  {
   "cell_type": "code",
   "execution_count": null,
   "id": "af59fc75",
   "metadata": {},
   "outputs": [],
   "source": [
    "# Verifica os tipos das colunas\n",
    "dados_vendas.info()"
   ]
  },
  {
   "cell_type": "code",
   "execution_count": null,
   "id": "e58ee654",
   "metadata": {},
   "outputs": [],
   "source": [
    "# Converte a coluna 'Data de venda' para o formato de data\n",
    "dados_vendas['Data de venda'] = pd.to_datetime(dados_vendas['Data de venda'])\n",
    "dados_vendas"
   ]
  },
  {
   "cell_type": "code",
   "execution_count": null,
   "id": "218e00fa",
   "metadata": {},
   "outputs": [],
   "source": [
    "# Confere os formatos das colunas\n",
    "dados_vendas.info()"
   ]
  },
  {
   "cell_type": "markdown",
   "id": "b1164bfa",
   "metadata": {},
   "source": [
    "- <font color=#5f503e>**Projeto desafio 2: administração de condomínios**</font>\n",
    "\n",
    "Lemos a base de dados no desafio anterior, agora podemos avançar nas transformações desses dados. Então, da mesma forma que o projeto 1, o desafio do projeto 2 está listado em algumas metas:\n",
    "\n",
    "- Remover os dados em listas dentro do DataFrame;\n",
    "- Verificar os tipos de dados;\n",
    "- Identificar colunas numéricas;\n",
    "- Transformar a coluna numérica para o tipo numérico."
   ]
  },
  {
   "cell_type": "code",
   "execution_count": null,
   "id": "cbef74c3",
   "metadata": {},
   "outputs": [],
   "source": [
    "# Exibe o DataFrame de locação de imóveis\n",
    "dados_locacao"
   ]
  },
  {
   "cell_type": "code",
   "execution_count": null,
   "id": "ca0b2bdf",
   "metadata": {},
   "outputs": [],
   "source": [
    "colunas_locacao = list(dados_locacao.columns)\n",
    "colunas_locacao"
   ]
  },
  {
   "cell_type": "code",
   "execution_count": null,
   "id": "4f493772",
   "metadata": {},
   "outputs": [],
   "source": [
    "# Retira as listas das colunas do DataFrame\n",
    "dados_locacao = dados_locacao.explode(colunas_locacao[1:])\n",
    "dados_locacao"
   ]
  },
  {
   "cell_type": "code",
   "execution_count": null,
   "id": "413f2053",
   "metadata": {},
   "outputs": [],
   "source": [
    "# Reseta a coluna de index do DataFrame\n",
    "dados_locacao.reset_index(inplace=True, drop=True)\n",
    "dados_locacao"
   ]
  },
  {
   "cell_type": "code",
   "execution_count": null,
   "id": "f2938a60",
   "metadata": {},
   "outputs": [],
   "source": [
    "dados_locacao['valor_aluguel'] = dados_locacao['valor_aluguel'].apply(lambda x: x.replace('$','').replace(',','.').replace('reais','').strip())"
   ]
  },
  {
   "cell_type": "code",
   "execution_count": null,
   "id": "f3f66eb5",
   "metadata": {},
   "outputs": [],
   "source": [
    "# Converte os dados da coluna 'valor_aluguel' para float\n",
    "dados_locacao['valor_aluguel'] = dados_locacao['valor_aluguel'].astype(np.float64)"
   ]
  },
  {
   "cell_type": "code",
   "execution_count": null,
   "id": "7eebd76b",
   "metadata": {},
   "outputs": [],
   "source": [
    "# Verifica os formatos das colunas do DataFrame\n",
    "dados_locacao.info()"
   ]
  },
  {
   "cell_type": "markdown",
   "id": "d1f34d6d",
   "metadata": {},
   "source": [
    "---"
   ]
  },
  {
   "cell_type": "markdown",
   "id": "cdcddca8",
   "metadata": {},
   "source": [
    "# <font color=#bf7c2a> **Aula 3**"
   ]
  },
  {
   "cell_type": "markdown",
   "id": "0fa7d7bd",
   "metadata": {},
   "source": [
    "#### <font color=#9c9c9c> Desafio referente à Aula 3. \"Dados textuais\" do curso **\"Pandas: transformação e manipulação de dados\"**, da *Alura*."
   ]
  },
  {
   "cell_type": "markdown",
   "id": "29f71e5d",
   "metadata": {},
   "source": [
    "Voltemos a pôr em prática tudo o que aprendemos durante as aulas. Disponibilizei novamente os 2 novos conjuntos de dados para download abaixo:\n",
    "\n",
    "- Projeto desafio 1: vendas online - [dados_vendas_clientes.json](https://cdn3.gnarususercontent.com.br/2928-transformacao-manipulacao-dados/dados_vendas_clientes.json);\n",
    "- Projeto desafio 2: administração de condomínios - [dados_locacao_imoveis.json](https://cdn3.gnarususercontent.com.br/2928-transformacao-manipulacao-dados/dados_locacao_imoveis.json).\n",
    "\n",
    "**Lembrando:** São dois projetos de tratamento que serão construídos durante o andamento do curso. Portanto, salve seu código de construção em cada desafio para que possa aplicá-lo nos desafios posteriores."
   ]
  },
  {
   "cell_type": "markdown",
   "id": "028e3999",
   "metadata": {},
   "source": [
    "### <font color=#c09c6f> **Etapa 3** </font>"
   ]
  },
  {
   "cell_type": "markdown",
   "id": "3293c98f",
   "metadata": {},
   "source": [
    "- <font color=#5f503e>**Projeto desafio 1: vendas online** </font>\n",
    "\n",
    "Na etapa 2, trabalhamos na transformação dos dados numéricos. Agora, podemos trabalhar com valores textuais.\n",
    "\n",
    "Devido a uma instabilidade no site da empresa, tivemos problemas com os nomes dos clientes durante o salvamento. Isso resultou em uma coluna de nomes de clientes com uma mistura de letras, maiúsculas e minúsculas, números e outros caracteres.\n",
    "\n",
    "Sabendo disso, manipule os textos presentes na coluna `Cliente` para que seja obtido como resultado os nomes dos clientes em letras minúsculas, com a ausência de caracteres especiais ou números."
   ]
  },
  {
   "cell_type": "code",
   "execution_count": null,
   "id": "6a178f6d",
   "metadata": {},
   "outputs": [],
   "source": [
    "# Exibe a coluna \"CLiente\"\n",
    "dados_vendas['Cliente']"
   ]
  },
  {
   "cell_type": "code",
   "execution_count": null,
   "id": "e3af0f87",
   "metadata": {},
   "outputs": [],
   "source": [
    "# Coloca todas as letras da coluna em minúsculo\n",
    "dados_vendas['Cliente'] = dados_vendas['Cliente'].str.lower()"
   ]
  },
  {
   "cell_type": "code",
   "execution_count": null,
   "id": "4cddafe6",
   "metadata": {},
   "outputs": [],
   "source": [
    "# Retira os números e caracteres indesejados da coluna\n",
    "dados_vendas['Cliente'] = dados_vendas['Cliente'].str.replace('[^a-z]', ' ', regex=True)\n",
    "dados_vendas['Cliente']"
   ]
  },
  {
   "cell_type": "code",
   "execution_count": null,
   "id": "9da9e36d",
   "metadata": {},
   "outputs": [],
   "source": [
    "# Retira os espaços duplos da coluna\n",
    "dados_vendas['Cliente'] = dados_vendas['Cliente'].str.replace('  ', ' ')\n"
   ]
  },
  {
   "cell_type": "code",
   "execution_count": null,
   "id": "c30db1a4",
   "metadata": {},
   "outputs": [],
   "source": [
    "# Apara os textos da coluna\n",
    "dados_vendas['Cliente'] = dados_vendas['Cliente'].str.strip()"
   ]
  },
  {
   "cell_type": "code",
   "execution_count": null,
   "id": "5f0ebb29",
   "metadata": {},
   "outputs": [],
   "source": [
    "# Coloca os nomes em letra maiúscula\n",
    "dados_vendas['Cliente'] = dados_vendas['Cliente'].str.title()"
   ]
  },
  {
   "cell_type": "markdown",
   "id": "67849462",
   "metadata": {},
   "source": [
    "- <font color=#5f503e>**Projeto desafio 2: administração de condomínios** </font>\n",
    "\n",
    "**Na etapa 2**, trabalhamos na transformação dos dados numéricos. Agora, podemos trabalhar com valores textuais.\n",
    "\n",
    "Buscando explicar a organização da identificação dos apartamentos, durante a criação do conjunto de dados, foi adicionado o texto `(blocoAP)`. Esse texto informa que os nomes dos apartamentos estão organizados com a letra do bloco seguida do número do apartamento. No entanto, isso não traz nenhuma informação para nossos dados, sendo interessante realizar a remoção desse texto no conjunto de dados.\n",
    "\n",
    "Com isso, manipule os textos na coluna `apartamento` para remover o texto `(blocoAP)` do DataFrame."
   ]
  },
  {
   "cell_type": "code",
   "execution_count": null,
   "id": "4637bf04",
   "metadata": {},
   "outputs": [],
   "source": [
    "# Exibe a coluna \"apartamento\"\n",
    "dados_locacao['apartamento']"
   ]
  },
  {
   "cell_type": "code",
   "execution_count": null,
   "id": "36812cc2",
   "metadata": {},
   "outputs": [],
   "source": [
    "# Retira o texto \"(blocoAP)\" da coluna\n",
    "dados_locacao['apartamento'] = dados_locacao['apartamento'].str.replace('(blocoAP)', '')"
   ]
  },
  {
   "cell_type": "code",
   "execution_count": null,
   "id": "2bf1b3f1",
   "metadata": {},
   "outputs": [],
   "source": [
    "# Exibe a coluna após o tratamento\n",
    "dados_locacao['apartamento']"
   ]
  },
  {
   "cell_type": "markdown",
   "id": "45e5997c",
   "metadata": {},
   "source": [
    "---"
   ]
  },
  {
   "cell_type": "markdown",
   "id": "2d0105ba",
   "metadata": {},
   "source": [
    "# <font color=#bf7c2a> **Aula 4. Dados de Tempo**"
   ]
  },
  {
   "cell_type": "markdown",
   "id": "a886aeaf",
   "metadata": {},
   "source": [
    "#### <font color=#9c9c9c> Desafio referente à Aula 4. \"Dados de tempo\" do curso **\"Pandas: transformação e manipulação de dados\"**, da *Alura*."
   ]
  },
  {
   "cell_type": "markdown",
   "id": "2631d8ce",
   "metadata": {},
   "source": [
    "Voltemos a pôr em prática tudo o que aprendemos durante as aulas. Disponibilizei novamente os 2 novos conjuntos de dados para download abaixo:\n",
    "\n",
    "- Projeto desafio1: vendas online - [dados_vendas_clientes.json](https://cdn3.gnarususercontent.com.br/2928-transformacao-manipulacao-dados/dados_vendas_clientes.json);\n",
    "- Projeto desafio 2: administração de condomínios - [dados_locacao_imoveis.json](https://cdn3.gnarususercontent.com.br/2928-transformacao-manipulacao-dados/dados_locacao_imoveis.json).\n",
    "\n",
    "**Lembrando:** Esses dois projetos de tratamento foram construídos durante o andamento do curso. Portanto, considere os desenvolvimentos anteriores para a realização dessa etapa final."
   ]
  },
  {
   "cell_type": "markdown",
   "id": "7820af45",
   "metadata": {},
   "source": [
    "### <font color=#c09c6f> **Etapa 4** </font>"
   ]
  },
  {
   "cell_type": "markdown",
   "id": "7a376c94",
   "metadata": {},
   "source": [
    "- <font color=#5f503e>**Projeto desafio 1: vendas online** </font>"
   ]
  },
  {
   "cell_type": "markdown",
   "id": "7272a509",
   "metadata": {},
   "source": [
    "Nas etapas anteriores, já trabalhamos com vários tipos de dados, agora podemos trabalhar com os dados de tempo.\n",
    "\n",
    "Na coluna `Data de venda`, temos datas em formato 'dia/mês/ano' (`dd/mm/AAAA`). Transforme esses dados para o tipo datetime e busque uma forma de visualização de subconjunto que possa contribuir no objetivo do contexto que os dados estão inseridos.\n",
    "\n",
    "Se você não lembra o problema do projeto desafio 1, vou deixar abaixo o texto da situação para facilitar o encontro da informação:\n",
    "\n",
    "> O objetivo desse projeto é realizar uma análise dos resultados de um evento com os clientes de uma empresa de vendas online. Foi coletado um conjunto de dados que contém os clientes que mais gastaram com produtos dentro de 5 dias de vendas, que é o período de duração do evento. Essa análise vai identificar o cliente com a maior compra na semana, que irá receber um prêmio da loja, e posteriormente, ela pode ajudar a empresa a criar novas estratégias para atrair mais clientes."
   ]
  },
  {
   "cell_type": "code",
   "execution_count": null,
   "id": "7826211d",
   "metadata": {},
   "outputs": [],
   "source": [
    "# Exibe as primeiras 5 linhas do Dataframe\n",
    "dados_vendas.head()"
   ]
  },
  {
   "cell_type": "code",
   "execution_count": null,
   "id": "a199ad19",
   "metadata": {},
   "outputs": [],
   "source": [
    "# Converte a coluna 'Data de Venda' para datetime\n",
    "dados_vendas['Data de venda'] = dados_vendas['Data de venda'].dt.strftime('%d-%m-%Y')"
   ]
  },
  {
   "cell_type": "code",
   "execution_count": null,
   "id": "1385618e",
   "metadata": {},
   "outputs": [],
   "source": [
    "# Exibe os tipos das colunas do DataFrame\n",
    "dados_vendas.info()"
   ]
  },
  {
   "cell_type": "code",
   "execution_count": null,
   "id": "054a63b6",
   "metadata": {},
   "outputs": [],
   "source": [
    "# Encontra o cliente com o maior valor de compras nos 5 dias\n",
    "dados_vendas.groupby(dados_vendas['Cliente'])['Valor da compra'].sum().idxmax()"
   ]
  },
  {
   "cell_type": "markdown",
   "id": "45e0ddcd",
   "metadata": {},
   "source": [
    "- <font color=#5f503e>**Projeto desafio 2: administração de condomínios** </font>"
   ]
  },
  {
   "cell_type": "markdown",
   "id": "361a3008",
   "metadata": {},
   "source": [
    "Assim como no projeto desafio 1, trabalhamos com todas as colunas exceto as que envolvem datas.\n",
    "\n",
    "Nas colunas `datas_de_pagamento` e `datas_combinadas_pagamento`, temos datas em formato 'dia/mês/ano' (`dd/mm/AAAA`). Transforme esses dados para o tipo datetime e busque uma forma de visualização de subconjunto que possa contribuir no objetivo do contexto que os dados estão inseridos.\n",
    "\n",
    "Se você não lembra o problema do projeto desafio 2, vou deixar abaixo o texto da situação para facilitar o encontro da informação:\n",
    "\n",
    "> A administração de condomínios é uma tarefa que requer muita atenção e organização. Entre as diversas responsabilidades da gestão está o recebimento dos aluguéis dos locatários. Para garantir uma boa saúde financeira do empreendimento, é fundamental que esses pagamentos sejam feitos de forma regular e pontual. No entanto, sabemos que nem sempre isso acontece. Pensando nisso, proponho um desafio de tratamento de dados com o objetivo de analisar o atraso no pagamento de aluguéis no condomínio fictício de alguns moradores."
   ]
  },
  {
   "cell_type": "code",
   "execution_count": null,
   "id": "e7af0fbf",
   "metadata": {},
   "outputs": [],
   "source": [
    "# Exibe as primeiras 5 linhas do DataFrame\n",
    "dados_locacao.head()"
   ]
  },
  {
   "cell_type": "code",
   "execution_count": null,
   "id": "ea5d9cf4",
   "metadata": {},
   "outputs": [],
   "source": [
    "# Verifica o tipo de dados das colunas\n",
    "dados_locacao.info()"
   ]
  },
  {
   "cell_type": "code",
   "execution_count": null,
   "id": "18a1847d",
   "metadata": {},
   "outputs": [],
   "source": [
    "# Transforma as colunas em datetime\n",
    "dados_locacao['datas_combinadas_pagamento'] = pd.to_datetime(dados_locacao['datas_combinadas_pagamento'], errors='coerce')\n",
    "dados_locacao['datas_de_pagamento'] = pd.to_datetime(dados_locacao['datas_de_pagamento'], errors='coerce')"
   ]
  },
  {
   "cell_type": "code",
   "execution_count": null,
   "id": "c377755e",
   "metadata": {},
   "outputs": [],
   "source": [
    "# Verifica o tipo de dados das colunas\n",
    "dados_locacao.info()"
   ]
  },
  {
   "cell_type": "code",
   "execution_count": null,
   "id": "4e4ac336",
   "metadata": {},
   "outputs": [],
   "source": [
    "# Cria a coluna que informa a diferença entre a data combinada e a data de pagamento\n",
    "dados_locacao['dias_de_atraso_adiantamento'] = dados_locacao['datas_combinadas_pagamento'] - dados_locacao['datas_de_pagamento']"
   ]
  },
  {
   "cell_type": "code",
   "execution_count": null,
   "id": "e786cd63",
   "metadata": {},
   "outputs": [],
   "source": [
    "# Reseta a coluna de índices do DataFrame\n",
    "dados_locacao.reset_index(drop=True)"
   ]
  },
  {
   "cell_type": "code",
   "execution_count": null,
   "id": "fb3221ef",
   "metadata": {},
   "outputs": [],
   "source": [
    "# Calcula a média de dias de atraso no pagamento dos aluguéis\n",
    "dados_locacao['dias_de_atraso_adiantamento'].mean()"
   ]
  },
  {
   "cell_type": "markdown",
   "id": "f9aff92c",
   "metadata": {},
   "source": [
    "---"
   ]
  }
 ],
 "metadata": {
  "kernelspec": {
   "display_name": "Python 3",
   "language": "python",
   "name": "python3"
  },
  "language_info": {
   "codemirror_mode": {
    "name": "ipython",
    "version": 3
   },
   "file_extension": ".py",
   "mimetype": "text/x-python",
   "name": "python",
   "nbconvert_exporter": "python",
   "pygments_lexer": "ipython3",
   "version": "3.13.2"
  }
 },
 "nbformat": 4,
 "nbformat_minor": 5
}
