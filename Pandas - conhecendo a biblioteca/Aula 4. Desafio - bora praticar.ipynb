{
 "cells": [
  {
   "cell_type": "markdown",
   "id": "5ea10d24",
   "metadata": {},
   "source": [
    "#### <font color=#f1fa8c> Desafio referente à Aula 4. \"Manipulando os dados\" do curso **\"Pandas: conhecendo a biblioteca\"**, da Alura."
   ]
  },
  {
   "cell_type": "markdown",
   "id": "666eb1be",
   "metadata": {},
   "source": [
    "Para praticar os métodos aprendidos no decorrer dessa aula e também aprender novos, vamos realizar alguns tratamentos e seleções utilizando um arquivo csv diferente: alunos.csv.\n",
    "\n",
    "Esse arquivo é o mesmo utilizado para resolução dos desafios da aula 1 e 3 e possui dados referentes a alunos de um curso superior. Com base nisso, solucione os problemas propostos abaixo utilizando os conhecimentos adquiridos até aqui."
   ]
  },
  {
   "cell_type": "markdown",
   "id": "2027c91f",
   "metadata": {},
   "source": [
    "#### <font color=#f1cf8b> **Carregando os dados**"
   ]
  },
  {
   "cell_type": "code",
   "execution_count": 1,
   "id": "4d7f37db",
   "metadata": {},
   "outputs": [],
   "source": [
    "import pandas as pd"
   ]
  },
  {
   "cell_type": "code",
   "execution_count": 2,
   "id": "a3eee2c9",
   "metadata": {},
   "outputs": [],
   "source": [
    "url = 'https://raw.githubusercontent.com/alura-cursos/pandas-conhecendo-a-biblioteca/main/desafios/alunos.csv'\n",
    "# Importação e armazenamento dos dados\n",
    "dados = pd.read_csv(url)"
   ]
  },
  {
   "cell_type": "markdown",
   "id": "8703f541",
   "metadata": {},
   "source": [
    "<font color=#c1d8be>**1)**</font> Os alunos participaram de uma atividade extracurricular e ganharam pontos extras. Esses pontos extras correspondem a 40% da nota atual de cada um deles. Com base nisso, crie uma coluna chamada \"Pontos_extras\" que contenha os pontos extras de cada aluno, ou seja, 40% da nota atual deles."
   ]
  },
  {
   "cell_type": "code",
   "execution_count": null,
   "id": "e9b7bc14",
   "metadata": {},
   "outputs": [],
   "source": [
    "# Cria a coluna com 40% da nota atual dos alunos\n",
    "dados['Pontos_extras'] = dados['Notas'].apply(lambda x: x * 0.4)"
   ]
  },
  {
   "cell_type": "markdown",
   "id": "d1208f55",
   "metadata": {},
   "source": [
    "<font color=#c1d8be>**2)**</font> Crie mais uma coluna, chamada \"Notas_finais\" que possua as notas de cada aluno somada com os pontos extras."
   ]
  },
  {
   "cell_type": "code",
   "execution_count": null,
   "id": "6d593b8f",
   "metadata": {},
   "outputs": [],
   "source": [
    "# Cria a coluna que soma os pontos extras à nota de cada aluno\n",
    "dados['Notas_finais'] = dados['Notas'] + dados['Pontos_extras']"
   ]
  },
  {
   "cell_type": "markdown",
   "id": "61f1ff7f",
   "metadata": {},
   "source": [
    "<font color=#c1d8be>**3)**</font> Como houve uma pontuação extra, alguns alunos que não tinham sido aprovados antes podem ter sido aprovados agora. Com base nisso, crie uma coluna chamada \"Aprovado_final\" com os seguintes valores:\n",
    "\n",
    "- True: caso o aluno esteja aprovado (nota final deve ser maior ou igual a 6);\n",
    "- False: caso o aluno esteja reprovado (nota final deve ser menor que 6)."
   ]
  },
  {
   "cell_type": "code",
   "execution_count": null,
   "id": "85e74fa9",
   "metadata": {},
   "outputs": [],
   "source": [
    "# Cria a coluna binária para a situação de aprovação de cada aluno\n",
    "dados['Aprovado_final'] = dados['Notas_finais'].apply(lambda x: True if x >= 6.0 else False)"
   ]
  },
  {
   "cell_type": "markdown",
   "id": "bb1a4060",
   "metadata": {},
   "source": [
    "<font color=#c1d8be>**4)**</font> Faça uma seleção e verifique quais alunos não tinham sido aprovados anteriormente, mas foram aprovados após a soma dos pontos extras."
   ]
  },
  {
   "cell_type": "code",
   "execution_count": null,
   "id": "d34f2d27",
   "metadata": {},
   "outputs": [],
   "source": [
    "# Selecionando os alunos ateriormente reprovados\n",
    "dados.query('Notas < 6 & Notas_finais >= 6')"
   ]
  }
 ],
 "metadata": {
  "kernelspec": {
   "display_name": "Python 3",
   "language": "python",
   "name": "python3"
  },
  "language_info": {
   "codemirror_mode": {
    "name": "ipython",
    "version": 3
   },
   "file_extension": ".py",
   "mimetype": "text/x-python",
   "name": "python",
   "nbconvert_exporter": "python",
   "pygments_lexer": "ipython3",
   "version": "3.13.2"
  }
 },
 "nbformat": 4,
 "nbformat_minor": 5
}
