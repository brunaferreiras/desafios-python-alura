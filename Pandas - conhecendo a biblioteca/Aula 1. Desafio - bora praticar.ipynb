{
 "cells": [
  {
   "cell_type": "markdown",
   "id": "0c696dbb",
   "metadata": {},
   "source": [
    "#### <font color=#f1fa8c> Desafio referente à Aula 1. \"Conhecendo a base de dados\" do curso **\"Pandas: conhecendo a biblioteca\"**, da Alura."
   ]
  },
  {
   "cell_type": "markdown",
   "id": "8c04a9fa",
   "metadata": {},
   "source": [
    "Para praticar os métodos aprendidos no decorrer dessa aula e também aprender novos, vamos realizar algumas análises utilizando um arquivo csv diferente: [alunos.csv](https://raw.githubusercontent.com/alura-cursos/pandas-conhecendo-a-biblioteca/main/desafios/alunos.csv)."
   ]
  },
  {
   "cell_type": "markdown",
   "id": "87b03acf",
   "metadata": {},
   "source": [
    "<font color=#c1d8be>**1)**</font> Importe o arquivo `alunos.csv` e armazene seu conteúdo em um DataFrame Pandas."
   ]
  },
  {
   "cell_type": "code",
   "execution_count": 1,
   "id": "6021c80a",
   "metadata": {},
   "outputs": [],
   "source": [
    "import pandas as pd"
   ]
  },
  {
   "cell_type": "code",
   "execution_count": 4,
   "id": "864fa0a7",
   "metadata": {},
   "outputs": [],
   "source": [
    "url = 'https://raw.githubusercontent.com/alura-cursos/pandas-conhecendo-a-biblioteca/main/desafios/alunos.csv'\n",
    "# Importação e armazenamento dos dados\n",
    "dados = pd.read_csv(url)"
   ]
  },
  {
   "cell_type": "markdown",
   "id": "9cbbf3f7",
   "metadata": {},
   "source": [
    "<font color=#c1d8be>**2)**</font> Visualize as primeiras 7 linhas do DataFrame e as 5 últimas."
   ]
  },
  {
   "cell_type": "code",
   "execution_count": null,
   "id": "b18e66a2",
   "metadata": {},
   "outputs": [],
   "source": [
    "# Visualização das 5 primeiras linhas\n",
    "dados.head()"
   ]
  },
  {
   "cell_type": "code",
   "execution_count": null,
   "id": "c795d591",
   "metadata": {},
   "outputs": [],
   "source": [
    "# Visualização das últimas 7 linhas\n",
    "dados.tail(7)"
   ]
  },
  {
   "cell_type": "markdown",
   "id": "02774216",
   "metadata": {},
   "source": [
    "<font color=#c1d8be>**3)**</font> Confira a quantidade de linhas e colunas desse DataFrame."
   ]
  },
  {
   "cell_type": "code",
   "execution_count": null,
   "id": "bbe6d08d",
   "metadata": {},
   "outputs": [],
   "source": [
    "# Confere o formato dos dados\n",
    "dados.shape"
   ]
  },
  {
   "cell_type": "markdown",
   "id": "8a0e5bbe",
   "metadata": {},
   "source": [
    "<font color=#c1d8be>**4)**</font> Explore as colunas do DataFrame e analise os tipos dos dados presentes em cada coluna."
   ]
  },
  {
   "cell_type": "code",
   "execution_count": null,
   "id": "3df8a113",
   "metadata": {},
   "outputs": [],
   "source": [
    "# Explora as colunas no DataFrame\n",
    "dados.columns"
   ]
  },
  {
   "cell_type": "code",
   "execution_count": null,
   "id": "322584fe",
   "metadata": {},
   "outputs": [],
   "source": [
    "# Analisa os tipos dos dados de cada coluna\n",
    "dados.info()"
   ]
  },
  {
   "cell_type": "markdown",
   "id": "0209a89f",
   "metadata": {},
   "source": [
    "<font color=#f1cf8b> **Extra:** </font> Calcule algumas estatísticas descritivas básicas dos dados do DataFrame (média, desvio padrão, etc). \n",
    "\n",
    "<font color=#f1cf8b>_Dica_: </font> pesquise pelo método `describe`."
   ]
  },
  {
   "cell_type": "code",
   "execution_count": null,
   "id": "f11c7360",
   "metadata": {},
   "outputs": [],
   "source": [
    "dados.describe()"
   ]
  }
 ],
 "metadata": {
  "kernelspec": {
   "display_name": "Python 3",
   "language": "python",
   "name": "python3"
  },
  "language_info": {
   "codemirror_mode": {
    "name": "ipython",
    "version": 3
   },
   "file_extension": ".py",
   "mimetype": "text/x-python",
   "name": "python",
   "nbconvert_exporter": "python",
   "pygments_lexer": "ipython3",
   "version": "3.13.2"
  }
 },
 "nbformat": 4,
 "nbformat_minor": 5
}
