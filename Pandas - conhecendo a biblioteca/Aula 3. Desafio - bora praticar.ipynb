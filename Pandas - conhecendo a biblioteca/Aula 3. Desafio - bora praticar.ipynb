{
 "cells": [
  {
   "cell_type": "markdown",
   "id": "68455372",
   "metadata": {},
   "source": [
    "#### <font color=#f1fa8c> Desafio referente à Aula 3. \"Tratando e filtrando dados\" do curso **\"Pandas: conhecendo a biblioteca\"**, da Alura."
   ]
  },
  {
   "cell_type": "markdown",
   "id": "d43839f5",
   "metadata": {},
   "source": [
    "Para praticar os métodos aprendidos no decorrer dessa aula e também aprender novos, vamos realizar alguns tratamentos e seleções utilizando um arquivo csv diferente: [alunos.csv](https://raw.githubusercontent.com/alura-cursos/pandas-conhecendo-a-biblioteca/main/desafios/alunos.csv).\n",
    "\n",
    "Esse arquivo é o mesmo utilizado para resolução dos desafios da aula 1 e possui dados referentes a alunos de um curso superior.\n",
    "\n",
    "Com base nisso, solucione os problemas propostos abaixo utilizando os conhecimentos adquiridos até aqui."
   ]
  },
  {
   "cell_type": "markdown",
   "id": "16a85762",
   "metadata": {},
   "source": [
    "#### <font color=#f1cf8b> **Carregando os dados**"
   ]
  },
  {
   "cell_type": "code",
   "execution_count": 1,
   "id": "f3a5c320",
   "metadata": {},
   "outputs": [],
   "source": [
    "import pandas as pd"
   ]
  },
  {
   "cell_type": "code",
   "execution_count": 2,
   "id": "e303a3bf",
   "metadata": {},
   "outputs": [],
   "source": [
    "url = 'https://raw.githubusercontent.com/alura-cursos/pandas-conhecendo-a-biblioteca/main/desafios/alunos.csv'\n",
    "# Importação e armazenamento dos dados\n",
    "dados = pd.read_csv(url)"
   ]
  },
  {
   "cell_type": "markdown",
   "id": "f86aeeee",
   "metadata": {},
   "source": [
    "<font color=#c1d8be>**1)**</font> Verifique se a base de dados possui dados nulos e, caso tenha, realize o tratamento desses dados nulos da forma que achar mais coerente com a situação."
   ]
  },
  {
   "cell_type": "code",
   "execution_count": null,
   "id": "4dec305b",
   "metadata": {},
   "outputs": [],
   "source": [
    "# Verifica a quantidade de dados nulos no dataframe\n",
    "dados.isna().sum()"
   ]
  },
  {
   "cell_type": "code",
   "execution_count": null,
   "id": "ca6ba8a7",
   "metadata": {},
   "outputs": [],
   "source": [
    "# Remove as linhas com dados nulos do dataframe\n",
    "dados.dropna(inplace=True)"
   ]
  },
  {
   "cell_type": "markdown",
   "id": "f4e8bfeb",
   "metadata": {},
   "source": [
    "<font color=#c1d8be>**2)**</font> Os alunos \"Alice\" e \"Carlos\", não fazem mais parte da turma. Sendo assim, remova-os da base de dados."
   ]
  },
  {
   "cell_type": "code",
   "execution_count": 10,
   "id": "51890f38",
   "metadata": {},
   "outputs": [],
   "source": [
    "# Salva os índices dos valores a serem removidos\n",
    "alunos_remover = dados.query('Nome == \"Alice\" | Nome == \"Carlos\"').index"
   ]
  },
  {
   "cell_type": "code",
   "execution_count": null,
   "id": "cde731bb",
   "metadata": {},
   "outputs": [],
   "source": [
    "# Remove os registros dos dois alunos\n",
    "dados.drop(alunos_remover, axis=0, inplace=True)"
   ]
  },
  {
   "cell_type": "markdown",
   "id": "72d009f1",
   "metadata": {},
   "source": [
    "<font color=#c1d8be>**3)**</font> Aplique um filtro que selecione apenas os alunos que foram aprovados."
   ]
  },
  {
   "cell_type": "code",
   "execution_count": null,
   "id": "24915994",
   "metadata": {},
   "outputs": [],
   "source": [
    "# Filtra o dataframe exibindo somente os alunos aprovados\n",
    "selecao_aprovados = dados['Aprovado'] == True\n",
    "# Armazena a seleção de aprovados em um dataframe\n",
    "aprovados = dados[selecao_aprovados]"
   ]
  },
  {
   "cell_type": "markdown",
   "id": "58f1168f",
   "metadata": {},
   "source": [
    "<font color=#c1d8be>**4)**</font> Salve o DataFrame que possui apenas os alunos aprovados em um arquivo csv chamado \"alunos_aprovados.csv\"."
   ]
  },
  {
   "cell_type": "code",
   "execution_count": null,
   "id": "c125f7e9",
   "metadata": {},
   "outputs": [],
   "source": [
    "# Salva o dataframe para um arquivo .csv\n",
    "aprovados.to_csv('alunos_aprovados.csv', index=False)\n",
    "pd.read_csv('alunos_aprovados.csv')"
   ]
  },
  {
   "cell_type": "markdown",
   "id": "c9bfc642",
   "metadata": {},
   "source": [
    "<font color=#c1d8be>**Extra**: </font> Ao conferir as notas dos alunos aprovados, notamos que algumas notas estavam incorretas. As alunas que tiraram nota 7.0, na verdade, tinham um ponto extra que não foi contabilizado. Sendo assim, substitua as notas 7.0 da base de dados por 8.0. <font color=#c1d8be>**Dica**: </font> pesquise pelo método **replace**."
   ]
  },
  {
   "cell_type": "code",
   "execution_count": null,
   "id": "1fb56370",
   "metadata": {},
   "outputs": [],
   "source": [
    "# Substitui as notas de valor 7.0 para 8.0\n",
    "dados.replace(7.0, 8.0, inplace=False)"
   ]
  }
 ],
 "metadata": {
  "kernelspec": {
   "display_name": "Python 3",
   "language": "python",
   "name": "python3"
  },
  "language_info": {
   "codemirror_mode": {
    "name": "ipython",
    "version": 3
   },
   "file_extension": ".py",
   "mimetype": "text/x-python",
   "name": "python",
   "nbconvert_exporter": "python",
   "pygments_lexer": "ipython3",
   "version": "3.13.2"
  }
 },
 "nbformat": 4,
 "nbformat_minor": 5
}
