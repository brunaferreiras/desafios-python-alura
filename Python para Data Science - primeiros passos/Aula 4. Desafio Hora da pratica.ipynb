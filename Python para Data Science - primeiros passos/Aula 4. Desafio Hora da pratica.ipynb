{
  "cells": [
    {
      "cell_type": "markdown",
      "metadata": {
        "id": "S7Zt_i0eNdKj"
      },
      "source": [
        "<font color=#f1fa8c>  Exercícios de programação em Python referentes à Aula 4. \"Estruturas de repetição\", do curso \"Python para Data Science: primeiros passos\" da Alura."
      ]
    },
    {
      "cell_type": "markdown",
      "metadata": {
        "id": "9E1VJUUdNoPd"
      },
      "source": [
        "\n",
        "\n",
        "---\n",
        "\n"
      ]
    },
    {
      "cell_type": "markdown",
      "metadata": {
        "id": "bqIyigGQbLOs"
      },
      "source": [
        "*Vamos praticar o uso de estruturas de repetição como o while e o for a partir de algumas atividades. Agora que estamos avançando nos conteúdos, podemos tornar os desafios mais interessantes. Para isso, vamos trabalhar com projetos de código!*\n",
        "\n",
        "*Primeiro, vamos solucionar alguns problemas para aquecer e nos prepararmos para os projetos.*"
      ]
    },
    {
      "cell_type": "markdown",
      "metadata": {
        "id": "mq-LhMaQbJ4j"
      },
      "source": [
        "# <font color=#ffb86c> **Aquecendo na programação**"
      ]
    },
    {
      "cell_type": "markdown",
      "metadata": {
        "id": "j2R3d084bas1"
      },
      "source": [
        "<font color=#6272a4>**1)**</font> Escreva um programa que peça dois números inteiros e imprima todos os números inteiros entre eles."
      ]
    },
    {
      "cell_type": "code",
      "execution_count": null,
      "metadata": {
        "id": "xeOtoCupbeqa"
      },
      "outputs": [],
      "source": [
        "num1 = int(input('Insira o primeiro número inteiro: '))\n",
        "num2 = int(input('Insira o segundo número inteiro: '))\n",
        "\n",
        "if num1 < num2:\n",
        "  for contador in range(num1 + 1,num2,1):\n",
        "    print(contador)\n",
        "elif num1 > num2:\n",
        "  for contador in range(num2 + 1,num1,1):\n",
        "    print(contador)\n",
        "else:\n",
        "  print('Os valores são iguais.')"
      ]
    },
    {
      "cell_type": "markdown",
      "metadata": {
        "id": "-r6uNTASh-eu"
      },
      "source": [
        "<font color=#6272a4>**2)**</font> Escreva um programa para calcular quantos dias levará para a colônia de uma bactéria A ultrapassar ou igualar a colônia de uma bactéria B, com base nas taxas de crescimento de 3% e 1,5% respectivamente. Considere que a colônia A inicia com 4 elementos e a B com 10."
      ]
    },
    {
      "cell_type": "code",
      "execution_count": null,
      "metadata": {
        "id": "v6RyoY01iCQP"
      },
      "outputs": [],
      "source": [
        "bacteriaA = 4\n",
        "bacteriaB = 10\n",
        "contador = 1\n",
        "while bacteriaA <= bacteriaB:\n",
        "  bacteriaA *= 0.03\n",
        "  bacteriaB *= 0.015\n",
        "  contador += 1\n",
        "  print(contador)"
      ]
    },
    {
      "cell_type": "markdown",
      "metadata": {
        "id": "p1Rl2kglmDMS"
      },
      "source": [
        "<font color=#6272a4>**3)**</font> Para tratar uma quantidade de 15 dados de avaliações de pessoas usuárias de um serviço da empresa, precisamos verificar se as notas são válidas. Então, escreva um programa que vai receber a nota de 0 a 5 de todos os dados e verificar se é um valor válido. Caso seja inserido uma nota acima de 5 ou abaixo de 0, repita até que a pessoa usuária insira um valor válido."
      ]
    },
    {
      "cell_type": "code",
      "execution_count": null,
      "metadata": {
        "id": "N9k7es2ymHWG"
      },
      "outputs": [],
      "source": [
        "nota = float(input('Digite a sua nota:'))\n",
        "\n",
        "if 0 <= nota <= 5:\n",
        "  print('Obrigado por compartilhar sua nota!')\n",
        "else:\n",
        "  for contador in range(1):\n",
        "    print('Valor inválido! Insira uma nota de 0 a 5.')\n",
        "    nota = float(input('Digite a sua nota:'))"
      ]
    },
    {
      "cell_type": "markdown",
      "metadata": {
        "id": "FmdSZYs-tSSX"
      },
      "source": [
        "<font color=#6272a4>**4)**</font> Desenvolva um programa que leia um conjunto indeterminado de temperaturas em Celsius e informe a média delas. A leitura deve ser encerrada ao ser enviado o valor -273°C."
      ]
    },
    {
      "cell_type": "code",
      "execution_count": null,
      "metadata": {
        "id": "2UTjoC8FtTPG"
      },
      "outputs": [],
      "source": [
        "\n",
        "somatemp = 0\n",
        "contador = 0\n",
        "while temperatura != 'sair':\n",
        "  temperatura = float(input('Informe a temperatura em graus Celsius (ou digite \"sair\" para encerrar): '))\n",
        "  if temperatura == -273:\n",
        "    break\n",
        "  somatemp += temperatura\n",
        "  contador += 1\n",
        "  mediatemp = somatemp / contador\n",
        "  print(f'A média das temperaturas é {mediatemp}.')\n",
        "\n",
        "\n"
      ]
    },
    {
      "cell_type": "markdown",
      "metadata": {
        "id": "rRh3jWnqy3G-"
      },
      "source": [
        "<font color=#6272a4>**5)**</font> Escreva um programa que calcule o fatorial de um número inteiro fornecido pela pessoa usuária. Lembrando que o fatorial de um número inteiro é a multiplicação desse número por todos os seus antecessores até o número 1. Por exemplo, o fatorial de 5 é 5 x 4 x 3 x 2 x 1 = 120."
      ]
    },
    {
      "cell_type": "code",
      "execution_count": null,
      "metadata": {
        "id": "xWZAmDjdzBVh"
      },
      "outputs": [],
      "source": [
        "numero = int(input('Insira um número inteiro positivo: '))\n",
        "\n",
        "if numero < 0:\n",
        "  print('O fatorial não está definido para números negativos.')\n",
        "else:\n",
        "  fatorial = 1\n",
        "  for i in range(1, numero + 1):\n",
        "    fatorial *= i\n",
        "  print(f'O fatorial de {numero} é {fatorial}.')"
      ]
    },
    {
      "cell_type": "markdown",
      "metadata": {
        "id": "TjtvNAAbEJ3K"
      },
      "source": [
        "# <font color=#ffb86c>**Momento dos projetos**"
      ]
    },
    {
      "cell_type": "markdown",
      "metadata": {
        "id": "cSvO_RCBET1U"
      },
      "source": [
        "<font color=#6272a4>**6)**</font> Escreva um programa que gere a tabuada de um número inteiro de 1 a 10, de acordo com a escolha da pessoa usuária. Como exemplo, para o número 2, a tabuada deve ser mostrada no seguinte formato:\n",
        "\n",
        "Tabuada do 2:\n",
        "\n",
        "2 x 1 = 2\n",
        "\n",
        "2 x 2 = 4\n",
        "\n",
        "[...]\n",
        "\n",
        "2 x 10 = 20"
      ]
    },
    {
      "cell_type": "code",
      "execution_count": null,
      "metadata": {
        "id": "J8KKYlXuEb0g"
      },
      "outputs": [],
      "source": [
        "tabuadaint = int(input('Insira um número inteiro de 1 a 10: '))\n",
        "contador = 1\n",
        "\n",
        "if tabuadaint < 1 or tabuadaint > 10:\n",
        "  print('Valor inválido!')\n",
        "  tabuadaint = int(input('Insira um número inteiro de 1 a 10: '))\n",
        "else:\n",
        "  for contador in range(0,10):\n",
        "    contador += 1\n",
        "    resultado = tabuadaint * contador\n",
        "    print(f'{tabuadaint} X {contador} = {resultado}')"
      ]
    },
    {
      "cell_type": "markdown",
      "metadata": {
        "id": "-yTlCFNyJRjT"
      },
      "source": [
        "<font color=#6272a4>**7)**</font> Os números primos possuem várias aplicações dentro da Ciência de Dados em criptografia e segurança, por exemplo. Um número primo é aquele que é divisível apenas por um e por ele mesmo. Assim, faça um programa que peça um número inteiro e determine se ele é ou não um número primo."
      ]
    },
    {
      "cell_type": "code",
      "execution_count": null,
      "metadata": {
        "id": "co5rDom0JS0x"
      },
      "outputs": [],
      "source": [
        "inteiro = int(input('Insira um número inteiro: '))\n",
        "contador = 2\n",
        "eprimo = True\n",
        "for contador in range(2, inteiro):\n",
        "  if inteiro % contador == 0:\n",
        "    eprimo = False\n",
        "    print(f'O número {inteiro} não é primo.')\n",
        "    break\n",
        "\n",
        "if eprimo:\n",
        "  print(f'O número {inteiro} é primo.')\n",
        "\n",
        "\n"
      ]
    },
    {
      "cell_type": "markdown",
      "metadata": {
        "id": "NAP-Gy7_vqko"
      },
      "source": [
        "<font color=#6272a4>**8)**</font> Vamos entender a distribuição de idades de pensionistas de uma empresa de previdência. Escreva um programa que leia as idades de uma quantidade não informada de clientes e mostre a distribuição em intervalos de [0-25], [26-50], [51-75] e [76-100]. Encerre a entrada de dados com um número negativo."
      ]
    },
    {
      "cell_type": "code",
      "execution_count": null,
      "metadata": {
        "id": "x3Pj6KtDv1BF"
      },
      "outputs": [],
      "source": [
        "idade = 0\n",
        "contador1 = 0\n",
        "contador2 = 0\n",
        "contador3 = 0\n",
        "contador4 = 0\n",
        "\n",
        "while idade >= 0 and idade <=100:\n",
        "  idade = int(input('Digite sua idade: '))\n",
        "  if idade <= 25:\n",
        "    contador1 += 1\n",
        "  elif idade <= 50:\n",
        "    contador2 += 1\n",
        "  elif idade <= 75:\n",
        "    contador3 += 1\n",
        "  else:\n",
        "    contador4 += 1\n",
        "  total = contador1 + contador2 + contador3 + contador4\n",
        "  percent1 = contador1 / total * 100\n",
        "  percent2 = contador2 / total * 100\n",
        "  percent3 = contador3 / total * 100\n",
        "  percent4 = contador4 / total * 100\n",
        "  print(f'{percent1}%, {percent2}%, {percent3}%, {percent4}%')"
      ]
    },
    {
      "cell_type": "markdown",
      "metadata": {
        "id": "jtGanbf53bKN"
      },
      "source": [
        "<font color=#6272a4>**9)**</font> Em uma eleição para gerência em uma empresa com 20 pessoas colaboradoras, existem quatro candidatos(as). Escreva um programa que calcule o(a) vencedor(a) da eleição. A votação ocorreu da seguinte maneira:\n",
        "\n",
        "- Cada colaborador(a) votou em uma das quatro pessoas candidatas (que representamos pelos números 1, 2, 3 e 4).\n",
        "- Também foram contabilizados os votos nulos (representados pelo número 5) e os votos em branco (representados pelo número 6).\n",
        "\n",
        "Ao final da votação, o programa deve exibir o número total de votos para cada candidato(a), os nulos e os votos em branco. Além disso, deve calcular e exibir a porcentagem de votos nulos em relação ao total de votos e a porcentagem de votos em branco em relação ao total de votos."
      ]
    },
    {
      "cell_type": "code",
      "execution_count": null,
      "metadata": {
        "id": "uCKZ3GPu3ceL"
      },
      "outputs": [],
      "source": [
        "totalvotos = 20\n",
        "contador1 = 0\n",
        "contador2 = 0\n",
        "contador3 = 0\n",
        "contador4 = 0\n",
        "contador5 = 0\n",
        "contador6 = 0\n",
        "\n",
        "for i in range(1, 21):\n",
        "  voto = int(input('Vote no número do seu candidato: '))\n",
        "  if voto == 1:\n",
        "    contador1 += 1\n",
        "  elif voto == 2:\n",
        "    contador2 += 1\n",
        "  elif voto == 3:\n",
        "    contador3 += 1\n",
        "  elif voto == 4:\n",
        "    contador4 += 1\n",
        "  elif voto == 5:\n",
        "    contador5 += 1\n",
        "  elif voto == 6:\n",
        "    contador6 += 1\n",
        "  else:\n",
        "    print('Opção inválida!')\n",
        "    voto = int(input('Vote no número do seu candidato: '))\n",
        "\n",
        "candidato1 = contador1 / totalvotos * 100\n",
        "candidato2 = contador2 / totalvotos * 100\n",
        "candidato3 = contador3 / totalvotos * 100\n",
        "candidato4 = contador4 / totalvotos * 100\n",
        "nulos5 = contador5 / totalvotos * 100\n",
        "brancos6 = contador6 / totalvotos * 100\n",
        "\n",
        "print(f'Candidato 1: {contador1} votos. {candidato1}%.')\n",
        "print(f'Candidato 2: {contador2} votos. {candidato2}%.')\n",
        "print(f'Candidato 3: {contador3} votos. {candidato3}%.')\n",
        "print(f'Candidato 4: {contador4} votos. {candidato4}%.')\n",
        "print(f'Nulos: {contador5} votos. {nulos5}%')\n",
        "print(f'Brancos: {contador6} votos. {brancos6}%')"
      ]
    },
    {
      "cell_type": "markdown",
      "metadata": {
        "id": "KyiyPAqAPA12"
      },
      "source": [
        "\n",
        "\n",
        "---\n",
        "\n"
      ]
    }
  ],
  "metadata": {
    "colab": {
      "provenance": []
    },
    "kernelspec": {
      "display_name": "Python 3",
      "name": "python3"
    },
    "language_info": {
      "name": "python"
    }
  },
  "nbformat": 4,
  "nbformat_minor": 0
}
