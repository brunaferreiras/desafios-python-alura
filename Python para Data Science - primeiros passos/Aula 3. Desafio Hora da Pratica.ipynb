{
  "nbformat": 4,
  "nbformat_minor": 0,
  "metadata": {
    "colab": {
      "provenance": []
    },
    "kernelspec": {
      "name": "python3",
      "display_name": "Python 3"
    },
    "language_info": {
      "name": "python"
    }
  },
  "cells": [
    {
      "cell_type": "markdown",
      "source": [
        "<font color=#f1fa8c>Exercícios de programação em Python referentes à Aula 3. \"Estruturas Condicionais\", do curso \"Python para Data Science: primeiros passos\" da Alura."
      ],
      "metadata": {
        "id": "aS4LzuKmiZ6d"
      }
    },
    {
      "cell_type": "markdown",
      "source": [
        "\n",
        "\n",
        "---\n",
        "\n"
      ],
      "metadata": {
        "id": "TREAi_E5iyVV"
      }
    },
    {
      "cell_type": "markdown",
      "source": [
        "*Vamos praticar o uso de estruturas condicionais como o `if`, `else` e `elif` a partir de algumas atividades. Agora que estamos avançando nos conteúdos, podemos tornar os desafios mais interessantes: vamos trabalhar com projetos de código! Solucione os problemas de aquecimento para se preparar para os projetos:*\n",
        "\n"
      ],
      "metadata": {
        "id": "GCAnpMrPaW85"
      }
    },
    {
      "cell_type": "markdown",
      "source": [
        "# <font color=#ffb86c> **Aquecendo na programação**"
      ],
      "metadata": {
        "id": "ZThcY7oOhbns"
      }
    },
    {
      "cell_type": "markdown",
      "source": [
        "<font color=#ff79c6>**1)** </font> Escreva um programa que peça à pessoa usuária para fornecer dois números e exibir o número maior."
      ],
      "metadata": {
        "id": "4JuDg6vwaaMK"
      }
    },
    {
      "cell_type": "code",
      "source": [
        "num_1 = input('Digite o primeiro número: ')\n",
        "num_2 = input('Digite o segundo número: ')\n",
        "\n",
        "if num_1 > num_2:\n",
        "  print(num_1)\n",
        "else:\n",
        "  print(num_2)"
      ],
      "metadata": {
        "id": "LfEdHRIxafjW"
      },
      "execution_count": null,
      "outputs": []
    },
    {
      "cell_type": "markdown",
      "source": [
        "<font color=#ff79c6>**2)**</font> Escreva um programa que solicite o percentual de crescimento de produção de uma empresa e informe se houve um crescimento (porcentagem positiva) ou decrescimento (porcentagem negativa)."
      ],
      "metadata": {
        "id": "EHRnaeFbcEpj"
      }
    },
    {
      "cell_type": "code",
      "source": [
        "crescimento = float(input('Digite o percentual de crescimento da produção:'))\n",
        "\n",
        "if crescimento < 0:\n",
        "  print('Houve um decrescimento na produção.')\n",
        "else:\n",
        "  print('Houve um crescimento na produção.')"
      ],
      "metadata": {
        "id": "GW7QwpWocJsE"
      },
      "execution_count": null,
      "outputs": []
    },
    {
      "cell_type": "markdown",
      "source": [
        "<font color=#ff79c6>**3)**</font> Escreva um programa que determine se uma letra fornecida pela pessoa usuária é uma vogal ou consoante."
      ],
      "metadata": {
        "id": "O61cRNVHeBA9"
      }
    },
    {
      "cell_type": "code",
      "source": [
        "vogais = 'a,e,i,o,u'\n",
        "letra = input('Digite a letra: ')\n",
        "\n",
        "if letra in vogais:\n",
        "  print('A  letra é uma vogal.')\n",
        "else:\n",
        "  print('A letra é uma consoante.')"
      ],
      "metadata": {
        "id": "_BIDvsG6eCpp"
      },
      "execution_count": null,
      "outputs": []
    },
    {
      "cell_type": "markdown",
      "source": [
        "<font color=#ff79c6>**4)**</font> Escreva um programa que leia valores médios de preços de um modelo de carro por 3 anos consecutivos e exiba o valor mais alto e mais baixo entre esses três anos."
      ],
      "metadata": {
        "id": "2AfdFHI1gDOE"
      }
    },
    {
      "cell_type": "code",
      "source": [
        "preco2002 = float(input('Insira o valor médio do preço em 2002: '))\n",
        "preco2003 = float(input('Insira o valor médio do preco em 2003: '))\n",
        "preco2004 = float(input('Insira o valor médio do preço em 2004: '))\n",
        "\n",
        "if preco2002 > preco2003 and preco2002 > preco2004:\n",
        "  print(preco2002)\n",
        "elif preco2003 > preco2002 and preco2003 > preco2004:\n",
        "  print(preco2003)\n",
        "else:\n",
        "  print(preco2004)\n",
        "\n",
        "if preco2002 < preco2003 and preco2002 < preco2004:\n",
        "  print(preco2002)\n",
        "elif preco2003 < preco2002 and preco2003 < preco2004:\n",
        "  print(preco2003)\n",
        "else:\n",
        "  print(preco2004)\n"
      ],
      "metadata": {
        "id": "1k718Y0hgFmG"
      },
      "execution_count": null,
      "outputs": []
    },
    {
      "cell_type": "markdown",
      "source": [
        "<font color=#ff79c6>**5)**</font> Escreva um programa que pergunte sobre o preço de três produtos e indique qual é o produto mais barato para comprar."
      ],
      "metadata": {
        "id": "pWa1rFYxm4FT"
      }
    },
    {
      "cell_type": "code",
      "source": [
        "preco_cafe = float(input('Qual o preço do café? '))\n",
        "preco_arroz = float(input('Qual o preço do arroz? '))\n",
        "preco_feijao = float(input('Qual o preço do feijão? '))\n",
        "\n",
        "if preco_cafe < preco_arroz and preco_arroz < preco_feijao:\n",
        "  print(preco_cafe)\n",
        "elif preco_arroz < preco_cafe and preco_arroz < preco_feijao:\n",
        "  print(preco_arroz)\n",
        "else:\n",
        "  print(preco_feijao)"
      ],
      "metadata": {
        "id": "l-BRKSk2m6GE"
      },
      "execution_count": null,
      "outputs": []
    },
    {
      "cell_type": "markdown",
      "source": [
        "<font color=#ff79c6>**6)**</font> Escreva um programa que leia três números e os exiba em ordem decrescente."
      ],
      "metadata": {
        "id": "GnX91xuepHJq"
      }
    },
    {
      "cell_type": "code",
      "source": [
        "valor1 = int(input('Insira o primeiro número: '))\n",
        "valor2 = int(input('Insira o segundo número: '))\n",
        "valor3 = int(input('Insira o terceiro número: '))\n",
        "\n",
        "if valor1 > valor2 and valor1 > valor3:\n",
        "  print(valor1)\n",
        "elif valor2 > valor1 and valor2 > valor3:\n",
        "  print(valor2)\n",
        "else:\n",
        "  print(valor3)\n",
        "\n",
        "if valor1 > valor2 and valor1 < valor3 or valor1 < valor2 and valor1 > valor3:\n",
        "  print(valor1)\n",
        "elif valor2 > valor1 and valor2 < valor3 or valor2 < valor1 and valor2 > valor3:\n",
        "  print(valor2)\n",
        "else:\n",
        "  print(valor3)\n",
        "\n",
        "if valor1 < valor2 and valor1 < valor3:\n",
        "  print(valor1)\n",
        "elif valor2 < valor1 and valor2 < valor3:\n",
        "  print(valor2)\n",
        "else:\n",
        "  print(valor3)\n"
      ],
      "metadata": {
        "id": "HRZpAcRJpJNb"
      },
      "execution_count": null,
      "outputs": []
    },
    {
      "cell_type": "markdown",
      "source": [
        "<font color=#ff79c6>**7)**</font> Escreva um programa que pergunte em qual turno a pessoa usuária estuda (\"manhã\", \"tarde\" ou \"noite\") e exiba a mensagem \"Bom Dia!\", \"Boa Tarde!\", \"Boa Noite!\", ou \"Valor Inválido!\", conforme o caso."
      ],
      "metadata": {
        "id": "W_tE5r8jvzpW"
      }
    },
    {
      "cell_type": "code",
      "source": [
        "turno = input('Em qual turno você estuda? ')\n",
        "\n",
        "if turno == 'manhã':\n",
        "  print('Bom dia!')\n",
        "elif turno == 'tarde':\n",
        "  print('Boa tarde!')\n",
        "elif turno == 'noite':\n",
        "  print('Boa Noite!')\n",
        "else:\n",
        "  print('Valor inválido!')"
      ],
      "metadata": {
        "id": "vinXH_Rav1XS"
      },
      "execution_count": null,
      "outputs": []
    },
    {
      "cell_type": "markdown",
      "source": [
        "<font color=#ff79c6>**8)**</font> Escreva um programa que peça um número inteiro à pessoa usuária e determine se ele é par ou ímpar. Dica: Você pode utilizar o operador módulo %."
      ],
      "metadata": {
        "id": "r7f7kxyCxW9L"
      }
    },
    {
      "cell_type": "code",
      "source": [
        "num = int(input('Insira um número inteiro: '))\n",
        "\n",
        "if num % 2 == 0:\n",
        "  print('O número é par.')\n",
        "else:\n",
        "  print('O número é ímpar.')"
      ],
      "metadata": {
        "id": "YlLuHQq4xZL6"
      },
      "execution_count": null,
      "outputs": []
    },
    {
      "cell_type": "markdown",
      "source": [
        "<font color=#ff79c6>**9)**</font> Escreva um programa que peça um número à pessoa usuária e informe se ele é inteiro ou decimal."
      ],
      "metadata": {
        "id": "lpBde1yUyXXq"
      }
    },
    {
      "cell_type": "code",
      "source": [
        "numero = input('Digite um número: ')\n",
        "\n",
        "if '.' in numero:\n",
        "  print('O número é decimal. ')\n",
        "else:\n",
        "  print('O número é inteiro.')"
      ],
      "metadata": {
        "id": "fW1RU45nyYVB"
      },
      "execution_count": null,
      "outputs": []
    },
    {
      "cell_type": "markdown",
      "source": [
        "# <font color=ffb86c> **Momento dos projetos**"
      ],
      "metadata": {
        "id": "Yk9WX_wtj1Mj"
      }
    },
    {
      "cell_type": "markdown",
      "source": [
        "\n",
        "<font color=#ff79c6>**10)**</font> Um programa deve ser escrito para ler dois números e, em seguida, perguntar à pessoa usuária qual operação ele deseja realizar. O resultado da operação deve incluir informações sobre o número - se é par ou ímpar, positivo ou negativo e inteiro ou decimal."
      ],
      "metadata": {
        "id": "l6T0ROYO1k0i"
      }
    },
    {
      "cell_type": "code",
      "source": [
        "numero1 = float(input('Insira o primeiro número: '))\n",
        "numero2 = float(input('Insira o segundo número: '))\n",
        "operacao = input('Qual operação deseja realizar? ')\n",
        "\n",
        "adicao = numero1 + numero2\n",
        "subtracao = numero1 - numero2\n",
        "multiplicacao = numero1 * numero2\n",
        "divisao = numero1 // numero2\n",
        "\n",
        "if operacao == 'adição':\n",
        "  resultado = adicao\n",
        "  print(adicao)\n",
        "elif operacao == 'subtração':\n",
        "  resultado = subtracao\n",
        "  print(subtracao)\n",
        "elif operacao == 'multiplicação':\n",
        "  resultado = multiplicacao\n",
        "  print(multiplicacao)\n",
        "elif operacao == 'divisão':\n",
        "  resultado = divisao\n",
        "  print(divisao)\n",
        "else:\n",
        "  print('Valor inválido!')\n",
        "\n",
        "if resultado % 2 == 0:\n",
        "  print('O resultado é par.')\n",
        "else:\n",
        "  print('O resultado é ímpar.')\n",
        "\n",
        "if resultado < 0:\n",
        "  print('O resultado é negativo.')\n",
        "else:\n",
        "  print('O resultado é positivo.')\n",
        "\n",
        "if resultado - int(resultado) == 0:\n",
        "  print('O resultado é inteiro.')\n",
        "else:\n",
        "  print('O resultado é decimal.')\n"
      ],
      "metadata": {
        "id": "5mki7FYT1rol"
      },
      "execution_count": null,
      "outputs": []
    },
    {
      "cell_type": "markdown",
      "source": [
        "<font color=#ff79c6>**11)**</font> Escreva um programa que peça à pessoa usuária três números que representam os lados de um triângulo. O programa deve informar se os valores podem ser utilizados para formar um triângulo e, caso afirmativo, se ele é equilátero, isósceles ou escaleno. Tenha em mente algumas dicas:\n",
        "\n",
        "- Três lados formam um triângulo quando a soma de quaisquer dois lados for maior que o terceiro;\n",
        "- Triângulo Equilátero: três lados iguais;\n",
        "- Triângulo Isósceles: quaisquer dois lados iguais;\n",
        "- Triângulo Escaleno: três lados diferentes."
      ],
      "metadata": {
        "id": "pIoQA2FF8362"
      }
    },
    {
      "cell_type": "code",
      "source": [
        "med1  = float(input('Insira a primeira medida: '))\n",
        "med2 = float(input('Insira a segunda medida: '))\n",
        "med3 = float(input('Insira a terceira medida: '))\n",
        "\n",
        "if med1 + med2 > med3 or med2 + med3 > med1 or med1 + med3 > med2:\n",
        "  print('Os valores podem ser utilizados para formar um triângulo.')\n",
        "  if med1 == med2 == med3:\n",
        "    print('O triângulo é equilátero.')\n",
        "  elif med1 == med2 or med1 == med3 or med2 == med3:\n",
        "    print('O triângulo é isósceles.')\n",
        "  elif med1 != med2 != med3:\n",
        "    print('O triângulo é escaleno.')\n",
        "else:\n",
        "  print('Os valores não podem ser utilizados para formar um triângulo.')"
      ],
      "metadata": {
        "id": "xkjKshz185dQ"
      },
      "execution_count": null,
      "outputs": []
    },
    {
      "cell_type": "markdown",
      "source": [
        "<font color=#ff79c6>**12)**</font> Um estabelecimento está vendendo combustíveis com descontos variados. Para o etanol, se a quantidade comprada for até 15 litros, o desconto será de 2% por litro. Caso contrário, será de 4% por litro. Para o diesel, se a quantidade comprada for até 15 litros, o desconto será de 3% por litro. Caso contrário, será de 5% por litro. O preço do litro de diesel é R$ 2,00 e o preço do litro de etanol é R$ 1,70. Escreva um programa que leia a quantidade de litros vendidos e o tipo de combustível (E para etanol e D para diesel) e calcule o valor a ser pago pelo cliente. Tenha em mente algumas dicas:\n",
        "\n",
        "O do valor do desconto será a multiplicação entre preço do litro, quantidade de litros e o valor do desconto.\n",
        "O valor a ser pago por um cliente será o resultado da multiplicação do preço do litro pela quantidade de litros menos o valor de desconto resultante do cálculo."
      ],
      "metadata": {
        "id": "Rx7-NRtX7W2s"
      }
    },
    {
      "cell_type": "code",
      "source": [
        "litros = float(input('Insira a quantidade de litros de combustível: '))\n",
        "tipo = input('Especifique o tipo de combustível: ')\n",
        "precoE = 1.7\n",
        "precoD = 2\n",
        "\n",
        "if litros <= 15.0 and tipo == 'E':\n",
        "  print((precoE * litros) - (precoE * litros * 0.02))\n",
        "elif litros > 15.0 and tipo == 'E':\n",
        "  print((precoE * litros) - (precoE * litros * 0.04))\n",
        "elif litros <= 15.0 and tipo == 'D':\n",
        "  print((precoD * litros) - (precoD * litros * 0.03))\n",
        "elif litros > 15.0 and tipo == 'D':\n",
        "  print((precoD * litros) - (precoD * litros * 0.05))\n",
        "else:\n",
        "  print('Valor inválido!')\n"
      ],
      "metadata": {
        "id": "CeJHuhZT7X-j"
      },
      "execution_count": null,
      "outputs": []
    },
    {
      "cell_type": "markdown",
      "source": [
        "<font color=#ff79c6>**13)**</font> Em uma empresa de venda de imóveis você precisa criar um código que analise os dados de vendas anuais para ajudar a diretoria na tomada de decisão. O código precisa coletar os dados de quantidade de venda durante os anos de 2022 e 2023 e fazer um cálculo de variação percentual. A partir do valor da variação, deve ser enviada às seguintes sugestões:\n",
        "\n",
        "Para variação acima de 20%: bonificação para o time de vendas.\n",
        "Para variação entre 2% e 20%: pequena bonificação para time de vendas.\n",
        "Para variação entre 2% e -10%: planejamento de políticas de incentivo às vendas.\n",
        "Para bonificações abaixo de -10%: corte de gastos.\n"
      ],
      "metadata": {
        "id": "636c7FnvBRwo"
      }
    },
    {
      "cell_type": "code",
      "source": [
        "vendas2022 = float(input('Insira o volume de vendas em 2022: '))\n",
        "vendas2023 = float(input('Insira o volume de vendas em 2023: '))\n",
        "\n",
        "variacao = ((vendas2023 - vendas2022)/(vendas2022)) * 100\n",
        "\n",
        "if variacao > 20.0:\n",
        "  print('Bonificação para o time de vendas.')\n",
        "elif 2.0 < variacao <= 20.0:\n",
        "  print('Pequena bonificação para o time de vendas.')\n",
        "elif -10.0 <= variacao <= 2.0:\n",
        "  print('Planejamento de políticas de incentivo às vendas.')\n",
        "elif variacao < -10.0:\n",
        "  print('Corte de gastos.')\n",
        "else:\n",
        "  print('Valor inválido!')"
      ],
      "metadata": {
        "id": "n39RS3jYBXLF"
      },
      "execution_count": null,
      "outputs": []
    },
    {
      "cell_type": "markdown",
      "source": [
        "*Caso precise de ajuda, opções de solução das atividades estarão disponíveis na seção “Opinião da pessoa instrutora”.*"
      ],
      "metadata": {
        "id": "A1HgV8dHkbKH"
      }
    },
    {
      "cell_type": "markdown",
      "source": [
        "\n",
        "\n",
        "---\n",
        "\n"
      ],
      "metadata": {
        "id": "TR7D3BQUkekl"
      }
    }
  ]
}