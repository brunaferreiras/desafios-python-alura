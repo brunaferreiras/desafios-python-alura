{
  "nbformat": 4,
  "nbformat_minor": 0,
  "metadata": {
    "colab": {
      "provenance": []
    },
    "kernelspec": {
      "name": "python3",
      "display_name": "Python 3"
    },
    "language_info": {
      "name": "python"
    }
  },
  "cells": [
    {
      "cell_type": "markdown",
      "source": [
        "<font color=#f1fa8c>Exercícios de programação em Python referentes à Aula 1. \"Manipulando dados em Python\", do curso \"Python para Data Science: primeiros passos\" da Alura."
      ],
      "metadata": {
        "id": "3umgI_2xZDCs"
      }
    },
    {
      "cell_type": "markdown",
      "source": [
        "\n",
        "\n",
        "---\n",
        "\n"
      ],
      "metadata": {
        "id": "vlMY6jwUZe3A"
      }
    },
    {
      "cell_type": "markdown",
      "source": [
        "*Vamos praticar o uso de vários tipos de variáveis e da função `input` a partir de algumas atividades. Solucione os problemas propostos em código.*"
      ],
      "metadata": {
        "id": "eLWFqIbyZg4Y"
      }
    },
    {
      "cell_type": "markdown",
      "source": [
        "\n",
        "\n",
        "\n",
        "# <font color=#ffb86c> **Coleta e amostragem de dados**"
      ],
      "metadata": {
        "id": "p9CvWdPj2Vv-"
      }
    },
    {
      "cell_type": "markdown",
      "source": [
        "<font color=#bd93f9> **1.** </font> Crie um programa que solicite à pessoa usuária digitar seu nome, e imprima “Olá, [nome]!”."
      ],
      "metadata": {
        "id": "BUdTbK0p21Kt"
      }
    },
    {
      "cell_type": "code",
      "source": [
        "nome = input('Digite seu nome: ')\n",
        "print(\"Olá, %s!\" %(nome))"
      ],
      "metadata": {
        "colab": {
          "base_uri": "https://localhost:8080/"
        },
        "id": "EjTOzL2d3Wxs",
        "outputId": "43d9ff81-c798-409b-dfd6-c1175192c23b"
      },
      "execution_count": null,
      "outputs": [
        {
          "output_type": "stream",
          "name": "stdout",
          "text": [
            "Digite seu nome: Bruna\n",
            "Olá, Bruna!\n"
          ]
        }
      ]
    },
    {
      "cell_type": "markdown",
      "source": [
        "<font color=#bd93f9> **2.**</font> Crie um programa que solicite à pessoa usuária digitar seu nome e idade, e imprima “Olá, [nome], você tem [idade] anos.”."
      ],
      "metadata": {
        "id": "0vEMxFje5kft"
      }
    },
    {
      "cell_type": "code",
      "source": [
        "nome = input('Digite seu nome: ')\n",
        "idade = input('Digite sua idade: ')\n",
        "print('Olá, {}, você tem {} anos.' .format(nome, idade))"
      ],
      "metadata": {
        "colab": {
          "base_uri": "https://localhost:8080/"
        },
        "id": "GK0D1ooS5ouS",
        "outputId": "b216a682-61d3-43b7-9911-d8d7723be13d"
      },
      "execution_count": null,
      "outputs": [
        {
          "output_type": "stream",
          "name": "stdout",
          "text": [
            "Digite seu nome: Bruna\n",
            "Digite sua idade: 32\n",
            "Olá, Bruna, você tem 32 anos.\n"
          ]
        }
      ]
    },
    {
      "cell_type": "markdown",
      "source": [
        "<font color=#bd93f9>**3.**</font> Crie um programa que solicite à pessoa usuária digitar seu nome, idade e altura em metros, e imprima “Olá, [nome], você tem [idade] anos e mede [altura] metros!”."
      ],
      "metadata": {
        "id": "Wq60caO579zV"
      }
    },
    {
      "cell_type": "code",
      "source": [
        "nome = input('Digite seu nome: ')\n",
        "idade = input('Digite sua idade: ')\n",
        "altura = input('Digite sua altura: ')\n",
        "print('Olá, %s, você tem %s anos e mede %s metros!' %(nome, idade, altura))"
      ],
      "metadata": {
        "colab": {
          "base_uri": "https://localhost:8080/"
        },
        "id": "Tbqey9MT8AO9",
        "outputId": "ab10df84-a77b-408f-eff1-3f7aa3e40d89"
      },
      "execution_count": null,
      "outputs": [
        {
          "output_type": "stream",
          "name": "stdout",
          "text": [
            "Digite seu nome: Bruna\n",
            "Digite sua idade: 32\n",
            "Digite sua altura: 1.64\n",
            "Olá, Bruna, você tem 32 anos e mede 1.64 metros!\n"
          ]
        }
      ]
    },
    {
      "cell_type": "markdown",
      "source": [
        "# <font color=#ffb86c> **Calculadora com operadores**"
      ],
      "metadata": {
        "id": "Dc9G2PnP91e8"
      }
    },
    {
      "cell_type": "markdown",
      "source": [
        "<font color=#bd93f9>**1.**</font> Crie um programa que solicite dois valores numéricos à pessoa usuária e imprima a soma dos dois valores."
      ],
      "metadata": {
        "id": "R75kKhSo98Fm"
      }
    },
    {
      "cell_type": "code",
      "source": [
        "valor1 = input('Digite o primeiro valor: ')\n",
        "valor2 = input('Digite o segundo valor: ')\n",
        "print(int(valor1) + int(valor2))"
      ],
      "metadata": {
        "colab": {
          "base_uri": "https://localhost:8080/"
        },
        "id": "LyzRMLm3-BgP",
        "outputId": "584413c9-88e7-49ae-dac4-039a3338d07e"
      },
      "execution_count": null,
      "outputs": [
        {
          "output_type": "stream",
          "name": "stdout",
          "text": [
            "Digite o primeiro valor: 8\n",
            "Digite o segundo valor: 3\n",
            "11\n"
          ]
        }
      ]
    },
    {
      "cell_type": "markdown",
      "source": [
        "<font color=#bd93f9>**2.**</font> Crie um programa que solicite três valores numéricos à pessoa usuária e imprima a soma dos três valores."
      ],
      "metadata": {
        "id": "D1DlKygk_TuN"
      }
    },
    {
      "cell_type": "code",
      "source": [
        "valor1 = input('Digite o primeiro valor: ')\n",
        "valor2 = input('Digite o segundo valor: ')\n",
        "valor3 = input('Digite o terceiro valor: ')\n",
        "print(int(valor1) + int(valor2) + int(valor3))"
      ],
      "metadata": {
        "colab": {
          "base_uri": "https://localhost:8080/"
        },
        "id": "xXMniISq_Xr_",
        "outputId": "02819735-3443-498a-83e5-48de7f4ac58a"
      },
      "execution_count": null,
      "outputs": [
        {
          "output_type": "stream",
          "name": "stdout",
          "text": [
            "Digite o primeiro valor: 2\n",
            "Digite o segundo valor: 9\n",
            "Digite o terceiro valor: 24\n",
            "35\n"
          ]
        }
      ]
    },
    {
      "cell_type": "markdown",
      "source": [
        "<font color=#bd93f9> **3.** </font> Crie um programa que solicite dois valores numéricos à pessoa usuária e imprima a subtração do primeiro pelo o segundo valor."
      ],
      "metadata": {
        "id": "daZPEPc_ArHL"
      }
    },
    {
      "cell_type": "code",
      "source": [
        "valor1 = input('Digite o primeiro valor: ')\n",
        "valor2 = input('Digite o segundo valor: ')\n",
        "print(int(valor1) - int(valor2))"
      ],
      "metadata": {
        "colab": {
          "base_uri": "https://localhost:8080/"
        },
        "id": "gZJvl8ZkAwH8",
        "outputId": "4abab7f3-1e54-443f-da68-1878129560f8"
      },
      "execution_count": null,
      "outputs": [
        {
          "output_type": "stream",
          "name": "stdout",
          "text": [
            "Digite o primeiro valor: 3\n",
            "Digite o segundo valor: 8\n",
            "-5\n"
          ]
        }
      ]
    },
    {
      "cell_type": "markdown",
      "source": [
        "<font color=#bd93f9> **4.**</font> Crie um programa que solicite dois valores numéricos à pessoa usuária e imprima a multiplicação dos dois valores."
      ],
      "metadata": {
        "id": "F1IDZ96-BvG-"
      }
    },
    {
      "cell_type": "code",
      "source": [
        "valor1 = input('Digite o primeiro valor: ')\n",
        "\n",
        "valor2 = input('Digite o segundo valor: ')\n",
        "\n",
        "print(int(valor1) * int(valor2))"
      ],
      "metadata": {
        "colab": {
          "base_uri": "https://localhost:8080/"
        },
        "id": "RhOkS4sfBwAP",
        "outputId": "b8e52a0d-9053-4fea-8007-4e8c9ee1066c"
      },
      "execution_count": null,
      "outputs": [
        {
          "output_type": "stream",
          "name": "stdout",
          "text": [
            "Digite o primeiro valor: 9\n",
            "Digite o segundo valor: 10\n",
            "90\n"
          ]
        }
      ]
    },
    {
      "cell_type": "markdown",
      "source": [
        "<font color=#bd93f9>**5.**</font> Crie um programa que solicite dois valores numéricos, um numerador e um denominador, e realize a divisão entre os dois valores. Deixe claro que o valor do denominador não pode ser `0`."
      ],
      "metadata": {
        "id": "FZmpkNYKCfBh"
      }
    },
    {
      "cell_type": "code",
      "source": [
        "numerador = input('Digite um numerador: ')\n",
        "denominador = input('Digite um denominador diferente de 0: ')\n",
        "print(int(numerador) / int(denominador))"
      ],
      "metadata": {
        "colab": {
          "base_uri": "https://localhost:8080/"
        },
        "id": "-WhzpJofCiQi",
        "outputId": "d997d836-65f0-4fa8-edbe-ca16e302160a"
      },
      "execution_count": null,
      "outputs": [
        {
          "output_type": "stream",
          "name": "stdout",
          "text": [
            "Digite um numerador: 10\n",
            "Digite um denominador diferente de 0: 5\n",
            "2.0\n"
          ]
        }
      ]
    },
    {
      "cell_type": "markdown",
      "source": [
        "<font color=#bd93f9>**6.**</font> Crie um programa que solicite dois valores numéricos, um operador e uma potência, e realize a exponenciação entre esses dois valores."
      ],
      "metadata": {
        "id": "Fzgd4z4ADu1R"
      }
    },
    {
      "cell_type": "code",
      "source": [
        "operador = input('Digite um operador: ')\n",
        "potencia = input('Digite uma potência: ')\n",
        "print(int(operador) ** int(potencia))"
      ],
      "metadata": {
        "colab": {
          "base_uri": "https://localhost:8080/"
        },
        "id": "vU-PoiKdDw1k",
        "outputId": "319df2f3-e9c0-47d5-8e24-9c794a66e129"
      },
      "execution_count": null,
      "outputs": [
        {
          "output_type": "stream",
          "name": "stdout",
          "text": [
            "Digite um operador: 2\n",
            "Digite uma potência: 3\n",
            "8\n"
          ]
        }
      ]
    },
    {
      "cell_type": "markdown",
      "source": [
        "<font color=#bd93f9>**7.** </font> Crie um programa que solicite dois valores numéricos, um numerador e um denominador e realize a divisão inteira entre os dois valores. Deixe claro que o valor do denominador não pode ser `0`."
      ],
      "metadata": {
        "id": "n91t8V-vErKu"
      }
    },
    {
      "cell_type": "code",
      "source": [
        "numerador = input('Digite um numerador: ')\n",
        "\n",
        "denominador = input('Digite um denominador diferente de 0: ')\n",
        "\n",
        "print(int(numerador) // int(denominador))"
      ],
      "metadata": {
        "colab": {
          "base_uri": "https://localhost:8080/"
        },
        "id": "gFCGJ_FWEtUO",
        "outputId": "96a33029-6c38-4735-8cd4-9411e7e236e2"
      },
      "execution_count": null,
      "outputs": [
        {
          "output_type": "stream",
          "name": "stdout",
          "text": [
            "Digite um numerador: 7\n",
            "Digite um denominador diferente de 0: 2\n",
            "3\n"
          ]
        }
      ]
    },
    {
      "cell_type": "markdown",
      "source": [
        "<font color=#bd93f9>**8.**</font> Crie um programa que solicite dois valores numéricos, um numerador e um denominador, e retorne o resto da divisão entre os dois valores. Deixe claro que o valor do denominador não pode ser `0`."
      ],
      "metadata": {
        "id": "r55kMvc8FefX"
      }
    },
    {
      "cell_type": "code",
      "source": [
        "numerador = input('Digite um numerador: ')\n",
        "\n",
        "denominador = input('Digite um denominador diferente de 0: ')\n",
        "\n",
        "print(int(numerador) % int(denominador))"
      ],
      "metadata": {
        "colab": {
          "base_uri": "https://localhost:8080/"
        },
        "id": "tN5oX3TxFfvH",
        "outputId": "7b088269-c5bb-4422-d77d-7f48ffdfbd86"
      },
      "execution_count": null,
      "outputs": [
        {
          "output_type": "stream",
          "name": "stdout",
          "text": [
            "Digite um numerador: 7\n",
            "Digite um denominador diferente de 0: 2\n",
            "1\n"
          ]
        }
      ]
    },
    {
      "cell_type": "markdown",
      "source": [
        "<font color=#bd93f9>**9.**</font> Crie um código que solicita 3 notas de um estudante e imprima a média das notas."
      ],
      "metadata": {
        "id": "d-9gm_FmGHzA"
      }
    },
    {
      "cell_type": "code",
      "source": [
        "nota1 = input('Digite a primeira nota: ')\n",
        "nota2 = input('Digite a segunda nota: ')\n",
        "nota3 = input('Digite a terceira nota: ')\n",
        "print((int(nota1) + int(nota2) + int(nota3))/3)"
      ],
      "metadata": {
        "colab": {
          "base_uri": "https://localhost:8080/"
        },
        "id": "ITXEysO5GKe5",
        "outputId": "55e904bc-77ab-412d-839a-39797d48f340"
      },
      "execution_count": null,
      "outputs": [
        {
          "output_type": "stream",
          "name": "stdout",
          "text": [
            "Digite a primeira nota: 8\n",
            "Digite a segunda nota: 9\n",
            "Digite a terceira nota: 6\n",
            "7.666666666666667\n"
          ]
        }
      ]
    },
    {
      "cell_type": "markdown",
      "source": [
        "<font color=#bd93f9>**10.**</font> Crie um código que calcule e imprima a média ponderada dos números 5, 12, 20 e 15 com pesos respectivamente iguais a 1, 2, 3 e 4."
      ],
      "metadata": {
        "id": "JAVzG5RBHwUR"
      }
    },
    {
      "cell_type": "code",
      "source": [
        "x1 = 5\n",
        "x2 = 12\n",
        "x3 = 20\n",
        "x4 = 15\n",
        "p1 = 1\n",
        "p2 = 2\n",
        "p3 = 3\n",
        "p4 = 4\n",
        "print((x1*p1 + x2*p2 + x3*p3 +x4*p4)/(p1 + p2 + p3 + p4))"
      ],
      "metadata": {
        "colab": {
          "base_uri": "https://localhost:8080/"
        },
        "id": "qbUrdZFvH2Oz",
        "outputId": "9d54f89e-caa2-47f7-f16d-899a087b7cdb"
      },
      "execution_count": null,
      "outputs": [
        {
          "output_type": "stream",
          "name": "stdout",
          "text": [
            "14.9\n"
          ]
        }
      ]
    },
    {
      "cell_type": "markdown",
      "source": [
        "# <font color=#ffb86c> **Editando textos**"
      ],
      "metadata": {
        "id": "yS4-jX5-JNRL"
      }
    },
    {
      "cell_type": "markdown",
      "source": [
        "<font color=#bd93f9>**1.**</font> Crie uma variável chamada “`frase`” e atribua a ela uma string de sua escolha. Em seguida, imprima a frase na tela."
      ],
      "metadata": {
        "id": "bLoXG-NPJusV"
      }
    },
    {
      "cell_type": "code",
      "source": [
        "frase = 'Um homem que sabe de onde vem e para onde vai saberá cooperar com seus companheiros seres humanos.'\n",
        "print(frase)"
      ],
      "metadata": {
        "colab": {
          "base_uri": "https://localhost:8080/"
        },
        "id": "3K1drfdDJwhH",
        "outputId": "86639244-c59c-449c-b3eb-dfe3307d93ec"
      },
      "execution_count": null,
      "outputs": [
        {
          "output_type": "stream",
          "name": "stdout",
          "text": [
            "Um homem que sabe de onde vem e para onde vai saberá cooperar com seus companheiros seres humanos.\n"
          ]
        }
      ]
    },
    {
      "cell_type": "markdown",
      "source": [
        "<font color=#bd93f9>**2.**</font> Crie um código que solicite uma frase e depois imprima a frase na tela."
      ],
      "metadata": {
        "id": "W9o6yqEPKQti"
      }
    },
    {
      "cell_type": "code",
      "source": [
        "frase = input('Digite sua frase: ')\n",
        "print(frase)"
      ],
      "metadata": {
        "colab": {
          "base_uri": "https://localhost:8080/"
        },
        "id": "7MKlcXBeKRe4",
        "outputId": "0bc878f2-3cb9-4429-d9ef-239c0ab5d964"
      },
      "execution_count": null,
      "outputs": [
        {
          "output_type": "stream",
          "name": "stdout",
          "text": [
            "Digite sua frase: Até cortar os próprios defeitos pode ser perigoso. Nunca se sabe qual é o defeito que sustenta nosso edifício inteiro.\n",
            "Até cortar os próprios defeitos pode ser perigoso. Nunca se sabe qual é o defeito que sustenta nosso edifício inteiro.\n"
          ]
        }
      ]
    },
    {
      "cell_type": "markdown",
      "source": [
        "<font color=#bd93f9>**3.**</font> Crie um código que solicite uma frase à pessoa usuária e imprima a mesma\n",
        "\n",
        "---\n",
        "\n",
        "frase digitada mas com todas as letras maiúsculas."
      ],
      "metadata": {
        "id": "Tdeq3pReNApa"
      }
    },
    {
      "cell_type": "code",
      "source": [
        "frase = input('Digite sua frase: ')\n",
        "print(frase.upper())"
      ],
      "metadata": {
        "colab": {
          "base_uri": "https://localhost:8080/"
        },
        "id": "FTfHB2noNBbC",
        "outputId": "b84f6566-934a-47c5-bd1b-887146aadaa7"
      },
      "execution_count": null,
      "outputs": [
        {
          "output_type": "stream",
          "name": "stdout",
          "text": [
            "Digite sua frase: Que ninguém se engane, só se consegue a simplicidade através de muito trabalho.\n",
            "QUE NINGUÉM SE ENGANE, SÓ SE CONSEGUE A SIMPLICIDADE ATRAVÉS DE MUITO TRABALHO.\n"
          ]
        }
      ]
    },
    {
      "cell_type": "markdown",
      "source": [
        "<font color=#bd93f9>**4.**</font> Crie um código que solicite uma frase à pessoa usuária e imprima a mesma frase digitada mas com todas as letras minúsculas."
      ],
      "metadata": {
        "id": "VuPLgi2AN0Of"
      }
    },
    {
      "cell_type": "code",
      "source": [
        "frase = input('Digite sua frase: ')\n",
        "\n",
        "print(frase.lower())"
      ],
      "metadata": {
        "colab": {
          "base_uri": "https://localhost:8080/"
        },
        "id": "9bAMiDoCN1Mk",
        "outputId": "96de668f-57da-4836-cb59-42f4088adb56"
      },
      "execution_count": null,
      "outputs": [
        {
          "output_type": "stream",
          "name": "stdout",
          "text": [
            "Digite sua frase: Enquanto eu tiver perguntas e não houver resposta continuarei a escrever.\n",
            "enquanto eu tiver perguntas e não houver resposta continuarei a escrever.\n"
          ]
        }
      ]
    },
    {
      "cell_type": "markdown",
      "source": [
        "<font color=#bd93f9>**5.**</font> Crie uma variável chamada “`frase`” e atribua a ela uma string de sua escolha. Em seguida, imprima a frase sem espaços em branco no início e no fim."
      ],
      "metadata": {
        "id": "t7zGamk5OZ1x"
      }
    },
    {
      "cell_type": "code",
      "source": [
        "frase = input('Digite sua frase: ')\n",
        "print(frase.strip())"
      ],
      "metadata": {
        "colab": {
          "base_uri": "https://localhost:8080/"
        },
        "id": "qi5Ln-59Oa4w",
        "outputId": "117322d8-70b3-41dd-d3c7-4a6b0faaee4a"
      },
      "execution_count": null,
      "outputs": [
        {
          "output_type": "stream",
          "name": "stdout",
          "text": [
            "Digite sua frase:  Mas já que se há de escrever, que ao menos não se esmaguem com palavras as entrelinhas. \n",
            "Mas já que se há de escrever, que ao menos não se esmaguem com palavras as entrelinhas.\n"
          ]
        }
      ]
    },
    {
      "cell_type": "markdown",
      "source": [
        "<font color=#bd93f9>**6.**</font> Crie um código que solicite uma frase à pessoa usuária e imprima a mesma frase sem espaços em branco no início e no fim."
      ],
      "metadata": {
        "id": "8mAiIMGxPeOg"
      }
    },
    {
      "cell_type": "code",
      "source": [
        "frase = input('Digite sua frase: ')\n",
        "\n",
        "print(frase.strip())"
      ],
      "metadata": {
        "colab": {
          "base_uri": "https://localhost:8080/"
        },
        "id": "ro-NHhWCPfpp",
        "outputId": "da805326-fc8f-474f-8078-046d10546296"
      },
      "execution_count": null,
      "outputs": [
        {
          "output_type": "stream",
          "name": "stdout",
          "text": [
            "Digite sua frase:  Ela acreditava em anjo e, porque acreditava, eles existiam. \n",
            "Ela acreditava em anjo e, porque acreditava, eles existiam.\n"
          ]
        }
      ]
    },
    {
      "cell_type": "markdown",
      "source": [
        "<font color=#bd93f9>**7.**</font> Crie um código que solicite uma frase à pessoa usuária e imprima a mesma frase sem espaços em branco no início e no fim e em letras minúsculas."
      ],
      "metadata": {
        "id": "VEIqmVs-QOvn"
      }
    },
    {
      "cell_type": "code",
      "source": [
        "frase = input('Digite sua frase: ')\n",
        "print(frase.lower().strip())"
      ],
      "metadata": {
        "colab": {
          "base_uri": "https://localhost:8080/"
        },
        "id": "Yb8q9l_sQQAE",
        "outputId": "09b9b1c4-3a8c-4cc4-b106-3968e3fa3d09"
      },
      "execution_count": null,
      "outputs": [
        {
          "output_type": "stream",
          "name": "stdout",
          "text": [
            "Digite sua frase:  Liberdade é pouco. O que desejo ainda não tem nome. \n",
            "liberdade é pouco. o que desejo ainda não tem nome.\n"
          ]
        }
      ]
    },
    {
      "cell_type": "markdown",
      "source": [
        "\n",
        "<font color=#bd93f9>**8.**</font> Crie um código que solicite uma frase à pessoa usuária e imprima a mesma frase com todas as vogais “`e`” trocadas pela letra “`f`”."
      ],
      "metadata": {
        "id": "RPMTVY4oRexe"
      }
    },
    {
      "cell_type": "code",
      "source": [
        "frase = input('Digite sua frase: ')\n",
        "print(frase.replace('e','f'))"
      ],
      "metadata": {
        "colab": {
          "base_uri": "https://localhost:8080/"
        },
        "id": "Ve8PvV4uRfkr",
        "outputId": "6068b723-3ef9-40a4-eaed-e3a52ab78133"
      },
      "execution_count": null,
      "outputs": [
        {
          "output_type": "stream",
          "name": "stdout",
          "text": [
            "Digite sua frase: E o que o ser humano mais aspira é tornar-se ser humano.\n",
            "E o quf o sfr humano mais aspira é tornar-sf sfr humano.\n"
          ]
        }
      ]
    },
    {
      "cell_type": "markdown",
      "source": [
        "<font color=#bd93f9>**9.**</font> Crie um código que solicite uma frase à pessoa usuária e imprima a mesma frase com todas as vogais “`a`” trocadas pela caractere “`@`”."
      ],
      "metadata": {
        "id": "tS_sMc1tSQZS"
      }
    },
    {
      "cell_type": "code",
      "source": [
        "frase = input('Digite sua frase: ')\n",
        "print(frase.replace('a','@'))"
      ],
      "metadata": {
        "colab": {
          "base_uri": "https://localhost:8080/"
        },
        "id": "uMIlmvkcSRyB",
        "outputId": "e3424a5a-ac04-4717-d203-f2d3d95022ad"
      },
      "execution_count": null,
      "outputs": [
        {
          "output_type": "stream",
          "name": "stdout",
          "text": [
            "Digite sua frase: Passei a vida tentando corrigir os erros que cometi na minha ânsia de acertar.\n",
            "P@ssei @ vid@ tent@ndo corrigir os erros que cometi n@ minh@ ânsi@ de @cert@r.\n"
          ]
        }
      ]
    },
    {
      "cell_type": "markdown",
      "source": [
        "<font color=#bd93f9>**10.**</font> Crie um código que solicite uma frase à pessoa usuária e imprima a mesma frase com todas as consoantes “`s`” trocadas pelo caractere “`$`”."
      ],
      "metadata": {
        "id": "EchKqqq-S0_q"
      }
    },
    {
      "cell_type": "code",
      "source": [
        "frase = input('Digite sua frase: ')\n",
        "print(frase.replace('s','$'))"
      ],
      "metadata": {
        "colab": {
          "base_uri": "https://localhost:8080/"
        },
        "id": "zfRGjkh7S2MQ",
        "outputId": "896475a3-08ef-4ef2-ea09-3a22a2fa6a5a"
      },
      "execution_count": null,
      "outputs": [
        {
          "output_type": "stream",
          "name": "stdout",
          "text": [
            "Digite sua frase: É difícil perder-se. É tão difícil que provavelmente arrumarei depressa um modo de me achar, mesmo que achar-me seja de novo a mentira de que vivo.\n",
            "É difícil perder-$e. É tão difícil que provavelmente arrumarei depre$$a um modo de me achar, me$mo que achar-me $eja de novo a mentira de que vivo.\n"
          ]
        }
      ]
    }
  ]
}