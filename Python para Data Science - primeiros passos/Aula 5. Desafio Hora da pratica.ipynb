{
  "nbformat": 4,
  "nbformat_minor": 0,
  "metadata": {
    "colab": {
      "provenance": []
    },
    "kernelspec": {
      "name": "python3",
      "display_name": "Python 3"
    },
    "language_info": {
      "name": "python"
    }
  },
  "cells": [
    {
      "cell_type": "markdown",
      "source": [
        "<font color=#f1fa8c>  Exercícios de programação em Python referentes à Aula 5. \"Estruturas de dados\", do curso \"Python para Data Science: primeiros passos\" da Alura."
      ],
      "metadata": {
        "id": "CEsg5qDzRITN"
      }
    },
    {
      "cell_type": "markdown",
      "source": [
        "\n",
        "\n",
        "---\n",
        "\n"
      ],
      "metadata": {
        "id": "v8defZDWRUQJ"
      }
    },
    {
      "cell_type": "markdown",
      "source": [
        "*Vamos praticar o uso de estruturas de dados, como as listas e os dicionários, a partir de algumas atividades. Agora que estamos avançando nos conteúdos, podemos tornar os desafios mais interessantes. Para isso, vamos trabalhar com projetos de código!*\n",
        "\n",
        "*Primeiro, vamos solucionar alguns problemas para aquecer e nos prepararmos para os projetos.*"
      ],
      "metadata": {
        "id": "y2oMskDt-dQn"
      }
    },
    {
      "cell_type": "markdown",
      "source": [
        "# <font color=#ffb86c> **Aquecendo na programação**"
      ],
      "metadata": {
        "id": "hR5-hGbe-nKl"
      }
    },
    {
      "cell_type": "markdown",
      "source": [
        "<font color=#ff79c6>**1)**</font> Faça um programa que tenha a seguinte lista contendo os valores de gastos de uma empresa de papel `[2172.54, 3701.35, 3518.09, 3456.61, 3249.38, 2840.82, 3891.45, 3075.26, 2317.64, 3219.08]`. Com esses valores, faça um programa que calcule a média de gastos.\n",
        "\n",
        "<font color=#f1fa8c>***Dica:***</font> use as funções built-in [`sum()`](https://docs.python.org/3/library/functions.html#sum) e [`len()`](https://docs.python.org/3/library/functions.html#len)."
      ],
      "metadata": {
        "id": "R_TpCQlR-y8W"
      }
    },
    {
      "cell_type": "code",
      "source": [
        "gastos = [2172.54, 3701.35, 3518.09, 3456.61, 3249.38, 2840.82, 3891.45, 3075.26, 2317.64, 3219.08]\n",
        "media = sum(gastos)/len(gastos)\n",
        "media"
      ],
      "metadata": {
        "id": "K_OQIF1x-0oj"
      },
      "execution_count": null,
      "outputs": []
    },
    {
      "cell_type": "markdown",
      "source": [
        "<font color=#ff79c6>**2)**</font> Com os mesmos dados da questão anterior, defina quantas compras foram realizadas acima de 3000 reais e calcule a porcentagem quanto ao total de compras."
      ],
      "metadata": {
        "id": "3lSXtHgO-13U"
      }
    },
    {
      "cell_type": "code",
      "source": [
        "contador = 0\n",
        "gastos = [2172.54, 3701.35, 3518.09, 3456.61, 3249.38, 2840.82, 3891.45, 3075.26, 2317.64, 3219.08]\n",
        "\n",
        "for elemento in gastos:\n",
        "    if elemento > 3000:\n",
        "        contador += 1\n",
        "\n",
        "print(f'O número de compras acima de R$3000 é {contador}.')\n",
        "percent = (contador / len(gastos)) * 100\n",
        "print(f'O percentual de compras acima de R$3000 é {percent:.2f}%')"
      ],
      "metadata": {
        "id": "Mt20YznTVKsu"
      },
      "execution_count": null,
      "outputs": []
    },
    {
      "cell_type": "markdown",
      "source": [
        "<font color=#ff79c6>**3)**</font> Faça um código que colete em uma lista 5 números inteiros quaisquer e imprima a lista. Exemplo: `[1,4,7,2,4]`."
      ],
      "metadata": {
        "id": "3LChhm9l-5xF"
      }
    },
    {
      "cell_type": "code",
      "source": [
        "listaint = []\n",
        "for i in range(1,6):\n",
        "  item = input('Insira um número inteiro: ')\n",
        "  listaint.append(item)\n",
        "\n",
        "print(listaint)"
      ],
      "metadata": {
        "id": "z2zgEjok-_uX"
      },
      "execution_count": null,
      "outputs": []
    },
    {
      "cell_type": "markdown",
      "source": [
        "<font color=#ff79c6>**4)**</font> Colete novamente 5 inteiros e imprima a lista em ordem inversa à enviada."
      ],
      "metadata": {
        "id": "_zX2XkLI_BcZ"
      }
    },
    {
      "cell_type": "code",
      "source": [
        "listaint = []\n",
        "for i in range(1,6):\n",
        "  item = int(input('Insira um número inteiro: '))\n",
        "  listaint.append(item)\n",
        "\n",
        "print(listaint[: :-1])"
      ],
      "metadata": {
        "id": "2gLIHF0r_EVN"
      },
      "execution_count": null,
      "outputs": []
    },
    {
      "cell_type": "markdown",
      "source": [
        "<font color=#ff79c6>**5)**</font> Faça um programa que, ao inserir um número qualquer, cria uma lista contendo todos os números primos entre 1 e o número digitado."
      ],
      "metadata": {
        "id": "VUhRybw8_FQw"
      }
    },
    {
      "cell_type": "code",
      "source": [
        "inteiro = int(input('Insira um número inteiro: '))\n",
        "eprimo = True\n",
        "primos = []\n",
        "\n",
        "for  numero in range(2, inteiro):\n",
        "  for contador in range(2, numero):\n",
        "    if numero % contador == 0:\n",
        "      eprimo = False\n",
        "  if eprimo:\n",
        "    primos.append(numero)\n",
        "  eprimo = True\n",
        "\n",
        "print(primos)\n",
        "\n",
        "\n",
        "\n"
      ],
      "metadata": {
        "id": "gfoV7J65_IBB"
      },
      "execution_count": null,
      "outputs": []
    },
    {
      "cell_type": "markdown",
      "source": [
        "<font color=#ff79c6>**6)**</font> Escreva um programa que peça uma data informando o dia, mês e ano e determine se ela é válida para uma análise."
      ],
      "metadata": {
        "id": "OWF_3u4Z_JTp"
      }
    },
    {
      "cell_type": "code",
      "source": [
        "data = input('Insira a data no formato DD/MM/AAAA: ')\n",
        "datalista = data.split('/')\n",
        "dia = int(datalista[0])\n",
        "mes = int(datalista[1])\n",
        "ano = int(datalista[2])\n",
        "\n",
        "meses31 = [1, 3, 5, 7, 8, 10, 12]\n",
        "meses30 = [4, 6, 9, 11]\n",
        "mes28 = [2]\n",
        "\n",
        "bissexto = []\n",
        "\n",
        "for elemento in range(1900, 2026, 4):\n",
        "  if elemento % 4 == 0:\n",
        "    if elemento % 100 == 0:\n",
        "      if elemento % 400 == 0:\n",
        "        bissexto.append(elemento)\n",
        "    else:\n",
        "      bissexto.append(elemento)\n",
        "\n",
        "\n",
        "if ano >= 1900 and ano <= 2025:\n",
        "  if mes < 1 or mes > 12:\n",
        "    print('Data inválida!')\n",
        "  else:\n",
        "    if dia >= 1 and dia <= 31:\n",
        "      if mes in mes28 and 1 <= dia <= 29:\n",
        "        if ano in bissexto:\n",
        "          print('Data Válida!')\n",
        "        else:\n",
        "          print('Data inválida!')\n",
        "      if mes in mes28 and 1 <= dia <= 28:\n",
        "        print('Data válida!')\n",
        "      if mes in meses30 and 1 <= dia <=30:\n",
        "        print('Data válida!')\n",
        "      if mes in meses31 and 1 <= dia <= 31:\n",
        "        print('Data válida!')\n",
        "    else:\n",
        "      print('Data inválida!')\n",
        "else:\n",
        "  print('Data inválida!')\n"
      ],
      "metadata": {
        "id": "FhVDjNAo_MCa"
      },
      "execution_count": null,
      "outputs": []
    },
    {
      "cell_type": "markdown",
      "source": [
        "\n",
        "\n",
        "---\n",
        "\n"
      ],
      "metadata": {
        "id": "ECTWETccTfs_"
      }
    },
    {
      "cell_type": "markdown",
      "source": [
        "# <font color=#ffb86c>**Momento dos projetos**"
      ],
      "metadata": {
        "id": "BEClVjVV_N6O"
      }
    },
    {
      "cell_type": "markdown",
      "source": [
        "<font color=#ff79c6>**7)**</font> Para um estudo envolvendo o nível de multiplicação de bactérias em uma colônia, foi coletado o número de bactérias por dia (em milhares) e pode ser observado a seguir: `[1.2, 2.1, 3.3, 5.0, 7.8, 11.3, 16.6, 25.1, 37.8, 56.9]`. Tendo esses valores, faça um código que gere uma lista contendo o percentual de crescimento de bactérias por dia, comparando o número de bactérias em cada dia com o número de bactérias do dia anterior. Dica: para calcular o percentual de crescimento usamos a seguinte equação: `100 * (amostra_atual - amostra_passada) / (amostra_passada)`."
      ],
      "metadata": {
        "id": "fv3xrVsx_bfk"
      }
    },
    {
      "cell_type": "code",
      "source": [
        "nbac = [1.2, 2.1, 3.3, 5.0, 7.8, 11.3, 16.6, 25.1, 37.8, 56.9]\n",
        "n = 1\n",
        "percentilista = []\n",
        "for n in range(1, 10):\n",
        "  percent = (100 * (nbac[n] - nbac[n - 1])) / (nbac[n - 1])\n",
        "  percentilista.append(percent)\n",
        "\n",
        "print(percentilista)\n",
        "\n"
      ],
      "metadata": {
        "id": "5uY7dBy6_dJ5"
      },
      "execution_count": null,
      "outputs": []
    },
    {
      "cell_type": "markdown",
      "source": [
        "<font color=#ff79c6>**8)**</font> Para uma seleção de produtos alimentícios, precisamos separar o conjunto de IDs dados por números inteiros sabendo que os produtos com ID par são doces e os com ID ímpar são amargos. Monte um código que colete 10 IDs. Depois, calcule e mostre a quantidade de produtos doces e amargos."
      ],
      "metadata": {
        "id": "zSbpi0YO_eph"
      }
    },
    {
      "cell_type": "code",
      "source": [
        "doces = []\n",
        "amargos = []\n",
        "\n",
        "for i in range(1, 11):\n",
        "  id = int(input('Insira o ID do produto: '))\n",
        "  if id % 2 == 0:\n",
        "    doces.append(id)\n",
        "  else:\n",
        "    amargos.append(id)\n",
        "\n",
        "docesqtd = len(doces)\n",
        "amargosqtd = len(amargos)\n",
        "\n",
        "print(f'Foram inseridos {docesqtd} produtos doces e {amargosqtd} produtos amargos.')"
      ],
      "metadata": {
        "id": "ur4Q-0I5_hpB"
      },
      "execution_count": null,
      "outputs": []
    },
    {
      "cell_type": "markdown",
      "source": [
        "<font color=#ff79c6>**9)** </font>Desenvolva um programa que informa a nota de um(a) aluno(a) de acordo com suas respostas. Ele deve pedir a resposta desse(a) aluno(a) para cada questão e é preciso verificar se a resposta foi igual ao gabarito. Cada questão vale um ponto e existem as alternativas A, B, C ou D."
      ],
      "metadata": {
        "id": "fdChpong_ipH"
      }
    },
    {
      "cell_type": "markdown",
      "source": [
        "Gabarito da prova:\n",
        "\n",
        "01 - D\n",
        "\n",
        "02 - A\n",
        "\n",
        "03 - C\n",
        "\n",
        "04 - B\n",
        "\n",
        "05 - A\n",
        "\n",
        "06 - D\n",
        "\n",
        "07 - C\n",
        "\n",
        "08 - C\n",
        "\n",
        "09 - A\n",
        "\n",
        "10 - B\n"
      ],
      "metadata": {
        "id": "nqpPqC8N_ppr"
      }
    },
    {
      "cell_type": "code",
      "source": [
        "gabarito = {1:'D', 2:'A', 3:'C', 4:'B', 5:'A', 6:'D', 7:'C', 8:'C', 9:'A', 10:'B'}\n",
        "respostas = {1:'', 2:'', 3: '', 4:'', 5:'', 6:'', 7:'', 8:'', 9:'', 10:''}\n",
        "listresult = []\n",
        "n = 1\n",
        "for n in range(1, 11):\n",
        "  resposta = input(f'Insira sua resposta para a questão {n} ')\n",
        "  respostas[n] = resposta\n",
        "\n",
        "for n in range (1, 11):\n",
        "  if gabarito[n] == respostas[n]:\n",
        "    listaresult.append(1)\n",
        "  else:\n",
        "    listaresult.append(0)\n",
        "\n",
        "resultado = sum(listaresult)\n",
        "print(f'Sua nota na prova é {resultado}. ')\n"
      ],
      "metadata": {
        "id": "VT3dA7m5_1rJ"
      },
      "execution_count": null,
      "outputs": []
    },
    {
      "cell_type": "markdown",
      "source": [
        "<font color=#ff79c6>**10)**</font> Um instituto de meteorologia deseja fazer um estudo de temperatura média de cada mês do ano. Para isso, você precisa fazer um código que colete e armazene essas temperaturas médias em uma lista. Depois, calcule a média anual das temperaturas e mostre todas as temperaturas acima da média anual e em que mês elas ocorreram, mostrando os meses por extenso (Janeiro, Fevereiro, etc.)."
      ],
      "metadata": {
        "id": "IS4gSp1Y_3rG"
      }
    },
    {
      "cell_type": "code",
      "source": [
        "meses = ['Janeiro', 'Fevereiro', 'Março', 'Abril', 'Maio', 'Junho', 'Julho', 'Agosto', 'Setembro', 'Outubro', 'Novembro', 'Dezembro']\n",
        "temperaturas = []\n",
        "acimadamedia = []\n",
        "\n",
        "for i in range(0, 12):\n",
        "  temp = float(input(f'Insira a temperatura média de {meses[i]}: '))\n",
        "  temperaturas.append(temp)\n",
        "\n",
        "mediatemp = sum(temperaturas) / len(temperaturas)\n",
        "\n",
        "for n in range(0, 12):\n",
        "  if temperaturas[n] > mediatemp:\n",
        "    acimadamedia.append(meses[n])\n",
        "\n",
        "print('A média anual de temperaturas é %.2f graus Celsius.'%(mediatemp))\n",
        "print(f'Os meses com temperatura média acima da temperatura média anual são {acimadamedia}.')\n",
        "\n"
      ],
      "metadata": {
        "id": "8IuPrnBJ_9BR"
      },
      "execution_count": null,
      "outputs": []
    },
    {
      "cell_type": "markdown",
      "source": [
        "<font color=#ff79c6>**11)**</font> Uma empresa de e-commerce está interessada em analisar as vendas dos seus produtos. Os dados das vendas foram armazenados em um dicionário:"
      ],
      "metadata": {
        "id": "R8kxw-CS_95S"
      }
    },
    {
      "cell_type": "markdown",
      "source": [
        "{'Produto A': 300, 'Produto B': 80, 'Produto C': 60,\n",
        " 'Produto D': 200, 'Produto E': 250, 'Produto F': 30}\n"
      ],
      "metadata": {
        "id": "MREWdkvCADRx"
      }
    },
    {
      "cell_type": "markdown",
      "source": [
        "Escreva um código que calcule o total de vendas e o produto mais vendido."
      ],
      "metadata": {
        "id": "GvMl-hUuAITx"
      }
    },
    {
      "cell_type": "code",
      "source": [
        "vendas = {'Produto A': 300, 'Produto B': 80, 'Produto C': 60,\n",
        "  'Produto D': 200, 'Produto E': 250, 'Produto F': 30}\n",
        "\n",
        "vendastotal = sum(vendas.values())\n",
        "print(f'O total de vendas foi {vendastotal}.')\n",
        "\n",
        "for valor in vendas.values():\n",
        "  if vendas['Produto A'] >= valor:\n",
        "    vendasmax = vendas['Produto A']\n",
        "  else:\n",
        "    vendasmax = valor\n",
        "\n",
        "for chave, valor in vendas.items():\n",
        "  if valor == vendasmax:\n",
        "    produtomax = chave\n",
        "    print(f'O produto mais vendido foi o {produtomax}, totalizando {vendasmax}.')\n",
        "\n",
        "\n",
        "\n"
      ],
      "metadata": {
        "id": "CT8la4b3ACSV"
      },
      "execution_count": null,
      "outputs": []
    },
    {
      "cell_type": "markdown",
      "source": [
        "<font color=#ff79c6>**12)**</font> Uma pesquisa de mercado foi feita para decidir qual design de marca infantil mais agrada as crianças. A pesquisa foi feita e o votos computados podem ser observados abaixo:"
      ],
      "metadata": {
        "id": "cuAcQO4IAN9u"
      }
    },
    {
      "cell_type": "markdown",
      "source": [
        "\n",
        "Tabela de votos da marca\n",
        "\n",
        "Design 1 - 1334 votos\n",
        "\n",
        "Design 2 - 982 votos\n",
        "\n",
        "Design 3 - 1751 votos\n",
        "\n",
        "Design 4 - 210 votos\n",
        "\n",
        "Design 5 - 1811 votos\n",
        "\n"
      ],
      "metadata": {
        "id": "R7dg23VRAWSA"
      }
    },
    {
      "cell_type": "markdown",
      "source": [
        "Adapte os dados fornecidos para uma estrutura de dicionário. A partir dele, informe o design vencedor e a porcentagem de votos recebidos."
      ],
      "metadata": {
        "id": "8cnguPOJAhcE"
      }
    },
    {
      "cell_type": "code",
      "source": [
        "votos = {'Design 1': 1334,\n",
        "         'Design 2': 982,\n",
        "         'Design 3': 1751,\n",
        "         'Design 4': 210,\n",
        "         'Design 5': 1811}\n",
        "soma = 0\n",
        "for valor in votos.values():\n",
        "  soma +=  valor\n",
        "  if votos['Design 1'] > valor:\n",
        "    votosvenc = votos['Design 1']\n",
        "  else:\n",
        "    votosvenc = valor\n",
        "\n",
        "for chave, valor in votos.items():\n",
        "  if valor == votosvenc:\n",
        "    vencedor = chave\n",
        "\n",
        "percent = 100 * votosvenc / soma\n",
        "\n",
        "print('O vencedor da votação é o %s com %.2f%% dos votos.' % (vencedor, percent))\n"
      ],
      "metadata": {
        "id": "pAIwXIqpARIl"
      },
      "execution_count": null,
      "outputs": []
    },
    {
      "cell_type": "markdown",
      "source": [
        "<font color=#ff79c6>**13)**</font> As pessoas colaboradoras de um setor da empresa que você trabalha vão receber um abono correspondente a 10% do salário devido ao ótimo desempenho do time. O setor financeiro solicitou sua ajuda para a verificação das consequências financeiras que esse abono irá gerar nos recursos. Assim, foi encaminhada para você uma lista com os salários que receberão o abono: `[1172, 1644, 2617, 5130, 5532, 6341, 6650, 7238, 7685, 7782, 7903]`. O abono de cada colaborador(a) não pode ser inferior a 200. Em código, transforme cada um dos salários em chaves de um dicionário e o abono de cada salário no elemento. Depois, informe o total de gastos com o abono, quantos(as) colaboradores(as) receberam o abono mínimo e qual o maior valor de abono fornecido."
      ],
      "metadata": {
        "id": "vAbe_p_bAmbF"
      }
    },
    {
      "cell_type": "code",
      "source": [
        "salarios = [1172, 1644, 2617, 5130, 5532, 6341, 6650, 7238, 7685, 7782, 7903]\n",
        "saleabo = {}\n",
        "\n",
        "for salario in salarios:\n",
        "  saleabo[salario] = salario * 0.1\n",
        "\n",
        "for chave, valor in saleabo.items():\n",
        "  if valor < 200:\n",
        "    saleabo[chave] = 200\n",
        "\n",
        "totalabono = sum(saleabo.values())\n",
        "\n",
        "n_abono = 0\n",
        "\n",
        "for valor in saleabo.values():\n",
        "  if valor == 200:\n",
        "    n_abono += 1\n",
        "\n",
        "for valor in saleabo.values():\n",
        "  if saleabo[1172] > valor:\n",
        "    abonomax = saleabo[1172]\n",
        "  else:\n",
        "    abonomax = valor\n",
        "\n",
        "print(f'O total de gastos com o abono foi de R${totalabono}.')\n",
        "print(f'Dos trabalhadores que receberam o abono, {n_abono} receberam o abono mínimo.')\n",
        "print('O maior valor pago de abono foi R$%.2f.' % (abonomax))\n"
      ],
      "metadata": {
        "id": "AIi4yi2eAoSb"
      },
      "execution_count": null,
      "outputs": []
    },
    {
      "cell_type": "markdown",
      "source": [
        "<font color=#ff79c6>**14)**</font> Uma equipe de cientistas de dados está estudando a diversidade biológica em uma floresta. A equipe fez a coleta de informações sobre o número de espécies de plantas e animais em cada área dessa floresta e armazenou essas informações em um dicionário. Nele, a chave descreve a área dos dados e os valores nas listas correspondem às espécies de plantas e animais nas áreas, respectivamente."
      ],
      "metadata": {
        "id": "picD_KLfAqOx"
      }
    },
    {
      "cell_type": "markdown",
      "source": [
        "{'Área Norte': [2819, 7236],\n",
        "\n",
        " 'Área Leste': [1440, 9492],\n",
        "\n",
        " 'Área Sul': [5969, 7496],\n",
        "\n",
        " 'Área Oeste': [14446, 49688],\n",
        "\n",
        " 'Área Centro': [22558, 45148]}\n"
      ],
      "metadata": {
        "id": "t_CFvZmdAxSw"
      }
    },
    {
      "cell_type": "markdown",
      "source": [
        "Escreva um código para calcular a média de espécies por área e identificar a área com a maior diversidade biológica. Dica: use as funções built-in [`sum()`](https://docs.python.org/3/library/functions.html#sum) e [`len()`](https://docs.python.org/3/library/functions.html#len)."
      ],
      "metadata": {
        "id": "XIGiYVVCA7X1"
      }
    },
    {
      "cell_type": "code",
      "source": [
        "especies = {'Área Norte': [2819, 7236],\n",
        "              'Área Leste': [1440, 9492],\n",
        "              'Área Sul': [5969, 7496],\n",
        "              'Área Oeste': [14446, 49688],\n",
        "              'Área Centro': [22558, 45148]}\n",
        "\n",
        "medias = {}\n",
        "\n",
        "for chave, valor in especies.items():\n",
        "  medias[chave] = sum(valor) / len(valor)\n",
        "\n",
        "for chave, valor in medias.items():\n",
        "  if medias['Área Norte'] > valor:\n",
        "    maior = medias['Área Norte']\n",
        "    areamaior = chave\n",
        "  else:\n",
        "    maior = valor\n",
        "    areamaior = chave\n",
        "\n",
        "print(f'A área com maior diversidade biológica é: {areamaior}.')"
      ],
      "metadata": {
        "id": "jzQiFasvAuNW"
      },
      "execution_count": null,
      "outputs": []
    },
    {
      "cell_type": "markdown",
      "source": [
        "<font color=#ff79c6>**15)**</font> O setor de RH da sua empresa te pediu uma ajuda para analisar as idades de colaboradores(as) de 4 setores da empresa. Para isso, foram fornecidos os seguintes dados:\n"
      ],
      "metadata": {
        "id": "0wA8EyQWBCkJ"
      }
    },
    {
      "cell_type": "markdown",
      "source": [
        "{'Setor A': [22, 26, 30, 30, 35, 38, 40, 56, 57, 65],\n",
        "\n",
        " 'Setor B': [22, 24, 26, 33, 41, 49, 50, 54, 60, 64],\n",
        "\n",
        " 'Setor C': [23, 26, 26, 29, 34, 35, 36, 41, 52, 56],\n",
        "\n",
        " 'Setor D': [19, 20, 25, 27, 34, 39, 42, 44, 50, 65]}\n"
      ],
      "metadata": {
        "id": "0E2w_oOOBHjP"
      }
    },
    {
      "cell_type": "markdown",
      "source": [
        "Sabendo que cada setor tem 10 colaboradores(as), construa um código que calcule a média de idade de cada setor, a idade média geral entre todos os setores e quantas pessoas estão acima da idade média geral."
      ],
      "metadata": {
        "id": "AJUJUAj2BSdQ"
      }
    },
    {
      "cell_type": "code",
      "source": [
        "idades = {'Setor A': [22, 26, 30, 30, 35, 38, 40, 56, 57, 65],\n",
        "          'Setor B': [22, 24, 26, 33, 41, 49, 50, 54, 60, 64],\n",
        "          'Setor C': [23, 26, 26, 29, 34, 35, 36, 41, 52, 56],\n",
        "          'Setor D': [19, 20, 25, 27, 34, 39, 42, 44, 50, 65]}\n",
        "medias = {}\n",
        "soma = 0\n",
        "colabs = 0\n",
        "acimadamed = 0\n",
        "\n",
        "for chave, valor in idades.items():\n",
        "  medias[chave] = sum(valor) / len(valor)\n",
        "  soma += sum(valor)\n",
        "  colabs += len(valor)\n",
        "\n",
        "mediageral = soma / colabs\n",
        "\n",
        "for valor in idades.values():\n",
        "  for i in valor:\n",
        "    if i > mediageral:\n",
        "      acimadamed += 1\n",
        "\n",
        "print(medias)\n",
        "print(f'A média de idades em todos os setores é {mediageral} anos.')\n",
        "print(f'O número de pessoas com idade acima da média geral é igual a {acimadamed}.')"
      ],
      "metadata": {
        "id": "11MPnQcsBDeM"
      },
      "execution_count": null,
      "outputs": []
    },
    {
      "cell_type": "markdown",
      "source": [
        "\n",
        "\n",
        "---\n",
        "\n"
      ],
      "metadata": {
        "id": "SXT100vHTaAV"
      }
    }
  ]
}