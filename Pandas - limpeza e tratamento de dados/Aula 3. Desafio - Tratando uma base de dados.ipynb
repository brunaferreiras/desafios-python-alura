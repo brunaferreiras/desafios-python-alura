{
 "cells": [
  {
   "cell_type": "markdown",
   "id": "097c511d",
   "metadata": {},
   "source": [
    "# <font color=#f2b16d>**Aula 3. Utilizando dados duplicados e nulos**"
   ]
  },
  {
   "cell_type": "markdown",
   "id": "5464c34e",
   "metadata": {},
   "source": [
    "#### <font color=d0e0e3> Desafio referente à Aula 3. \"Utilizando dados duplicados e nulos\" do curso **\"Pandas: limpeza e tratamento de dados\"**, da *Alura*."
   ]
  },
  {
   "cell_type": "markdown",
   "id": "8f98acd7",
   "metadata": {},
   "source": [
    "Para facilitar a análise dos dados de cadastro de cursos de uma plataforma, você recebeu um [arquivo chamado cursos_cadastrados.json](https://cdn3.gnarususercontent.com.br/2929-pandas/cursos_cadastrados.json). Você foi informado que esses dados podem apresentar problemas que podem prejudicar a análise e interpretação correta dos dados.\n",
    "\n",
    "Para resolver isso, foi solicitado que você identifique e remova as amostras que apresentam os seguintes problemas:\n",
    "\n",
    "- Valores nulos: são valores ausentes em algumas das colunas que devem ser preenchidos para que a análise seja correta.\n",
    "- Duplicatas: registros iguais que podem prejudicar a análise dos dados, já que estão representando a mesma informação.\n",
    "- Strings vazias: valores de texto que não apresentam nenhum conteúdo escrito, o que pode dificultar a análise de dados, principalmente se a coluna tiver muitos valores assim.\n",
    "- Conversão de tipos: algumas colunas do arquivo podem estar no tipo de dados errado, como texto em vez de número, o que pode prejudicar a análise. Nesse caso você deve realizar a conversão para o tipo correto de cada coluna.\n",
    "\n",
    "Dentro desse contexto, você precisará de uma abordagem sistemática para limpar os dados. Assim, como isso pode ser feito?\n",
    "\n",
    "Lembrando que o conteúdo de **cursos_cadastrados.json** é:\n",
    "\n",
    "```json\n",
    "[\n",
    "    {\n",
    "        \"curso\": \"Introdução à programação\",\n",
    "        \"categoria\": \"Programação\",\n",
    "        \"carga_horaria\": \"20 horas\",\n",
    "        \"concluintes\": 100,\n",
    "        \"data_inicio\": \"2022-01-01\",\n",
    "        \"data_conclusao\": \"2022-01-20\",\n",
    "        \"descricao\": \"Curso introdutório à programação com Python\",\n",
    "        \"preco\": \"99.90\",\n",
    "        \"instrutor\": {\n",
    "            \"nome\": \"João Silva\",\n",
    "            \"email\": \"joao.silva@emailaleatorio.com\",\n",
    "            \"telefone\": \"(11) 9999-9999\"\n",
    "        }\n",
    "    },\n",
    "    {\n",
    "        \"curso\": \"Excel para iniciantes\",\n",
    "        \"categoria\": \"Produtividade\",\n",
    "        \"carga_horaria\": null,\n",
    "        \"concluintes\": null,\n",
    "        \"data_inicio\": null,\n",
    "        \"data_conclusao\": null,\n",
    "        \"descricao\": null,\n",
    "        \"preco\": null,\n",
    "        \"instrutor\": {\n",
    "            \"nome\": \"Maria Oliveira\",\n",
    "            \"email\": \"maria.oliveira@emailaleatorio.com\",\n",
    "            \"telefone\": \"(11) 8888-8888\"\n",
    "        }\n",
    "    },\n",
    "    {\n",
    "        \"curso\": \"Marketing digital para negócios\",\n",
    "        \"categoria\": \"Marketing\",\n",
    "        \"carga_horaria\": \"30 horas\",\n",
    "        \"concluintes\": 75,\n",
    "        \"data_inicio\": \"2022-03-01\",\n",
    "        \"data_conclusao\": \"2022-03-31\",\n",
    "        \"descricao\": \"Curso introdutório em marketing\",\n",
    "        \"preco\": 89.90,\n",
    "        \"instrutor\": {\n",
    "            \"nome\": \"Ana Santos\",\n",
    "            \"email\": \"ana.santos@emailaleatorio.com\",\n",
    "            \"telefone\": \"(11) 7777-7777\"\n",
    "        }\n",
    "    },\n",
    "    {\n",
    "        \"curso\": \"Inteligência artificial\",\n",
    "        \"categoria\": \"Programação\",\n",
    "        \"carga_horaria\": \"40 horas\",\n",
    "        \"concluintes\": \"\",\n",
    "        \"data_inicio\": \"2022-04-01\",\n",
    "        \"data_conclusao\": \"\",\n",
    "        \"descricao\": \"Curso avançado sobre inteligência artificial com Python\",\n",
    "        \"preco\": 129.90,\n",
    "        \"instrutor\": {\n",
    "            \"nome\": \"\",\n",
    "            \"email\": \"contato@emailaleatorio.com\",\n",
    "            \"telefone\": \"\"\n",
    "        }\n",
    "    },\n",
    "    {\n",
    "        \"curso\": \"Inglês para negócios\",\n",
    "        \"categoria\": \"Idiomas\",\n",
    "        \"carga_horaria\": \"20 horas\",\n",
    "        \"concluintes\": 30,\n",
    "        \"data_inicio\": \"\",\n",
    "        \"data_conclusao\": \"\",\n",
    "        \"descricao\": \"Curso de inglês para negócios\",\n",
    "        \"preco\": 69.90,\n",
    "        \"instrutor\": {\n",
    "            \"nome\": \"John Smith\",\n",
    "            \"email\": \"\",\n",
    "            \"telefone\": \"\"\n",
    "        }\n",
    "    },\n",
    "    {\n",
    "        \"curso\": \"Introdução à programação\",\n",
    "        \"categoria\": \"Programação\",\n",
    "        \"carga_horaria\": \"20 horas\",\n",
    "        \"concluintes\": 100,\n",
    "        \"data_inicio\": \"2022-01-01\",\n",
    "        \"data_conclusao\": \"2022-01-20\",\n",
    "        \"descricao\": \"Curso introdutório à programação com Python\",\n",
    "        \"preco\": \"99.90\",\n",
    "        \"instrutor\": {\n",
    "            \"nome\": \"João Silva\",\n",
    "            \"email\": \"joao.silva@emailaleatorio.com\",\n",
    "            \"telefone\": \"(11) 9999-9999\"\n",
    "        }\n",
    "    }\n",
    "]\n",
    "```\n"
   ]
  },
  {
   "cell_type": "markdown",
   "id": "748099c3",
   "metadata": {},
   "source": [
    "## <font color=#93c47d> **Carregando e normalizando os dados**"
   ]
  },
  {
   "cell_type": "code",
   "execution_count": null,
   "id": "08455339",
   "metadata": {},
   "outputs": [],
   "source": [
    "# Importa as bibliotecas Pandas, Numpy e JSON\n",
    "import pandas as pd\n",
    "import numpy as np\n",
    "import json"
   ]
  },
  {
   "cell_type": "code",
   "execution_count": null,
   "id": "1f25061c",
   "metadata": {},
   "outputs": [],
   "source": [
    "# Lê o arquivo JSON com os dados brutos\n",
    "with open('cursos_cadastrados.json', 'r', encoding='utf-8') as f:\n",
    "    cursos_bruto = json.load(f)"
   ]
  },
  {
   "cell_type": "code",
   "execution_count": null,
   "id": "82751f45",
   "metadata": {},
   "outputs": [],
   "source": [
    "# Normaliza os dados brutos em um DataFrame\n",
    "dados_cursos = pd.json_normalize(cursos_bruto)"
   ]
  },
  {
   "cell_type": "markdown",
   "id": "6c2f3e23",
   "metadata": {},
   "source": [
    "## <font color=#93c47d> **Removendo dados duplicados**"
   ]
  },
  {
   "cell_type": "code",
   "execution_count": null,
   "id": "2bc643a8",
   "metadata": {},
   "outputs": [],
   "source": [
    "# Verifica quais linhas estão duplicadas\n",
    "dados_cursos.duplicated()"
   ]
  },
  {
   "cell_type": "code",
   "execution_count": null,
   "id": "fe044ce6",
   "metadata": {},
   "outputs": [],
   "source": [
    "# Verifica o número de linhas duplicadas\n",
    "dados_cursos.duplicated().sum()"
   ]
  },
  {
   "cell_type": "code",
   "execution_count": null,
   "id": "213c4812",
   "metadata": {},
   "outputs": [],
   "source": [
    "# Remove a linha duplicada no DataFrame\n",
    "dados_cursos.drop_duplicates(inplace=True)"
   ]
  },
  {
   "cell_type": "code",
   "execution_count": null,
   "id": "b11051a8",
   "metadata": {},
   "outputs": [],
   "source": [
    "# Confere se a linha duplicada foi removida\n",
    "dados_cursos.duplicated().sum()"
   ]
  },
  {
   "cell_type": "markdown",
   "id": "dac91e22",
   "metadata": {},
   "source": [
    "## <font color=#93c47d> **Removendo strings vazias**"
   ]
  },
  {
   "cell_type": "code",
   "execution_count": null,
   "id": "f60cbbfb",
   "metadata": {},
   "outputs": [],
   "source": [
    "# Identificando os valores únicos das colunas e as colunas com strings vazias\n",
    "for col in dados_cursos.columns:\n",
    "    print(f\"Coluna: {col}\")\n",
    "    print(dados_cursos[col].unique())\n",
    "    print(\"-\" * 30)"
   ]
  },
  {
   "cell_type": "code",
   "execution_count": null,
   "id": "d8cab454",
   "metadata": {},
   "outputs": [],
   "source": [
    "# Retirando as amostras com strings vazias na coluna 'concluintes' \n",
    "dados_cursos = dados_cursos[dados_cursos['concluintes'] != '']"
   ]
  },
  {
   "cell_type": "code",
   "execution_count": null,
   "id": "ed3a5559",
   "metadata": {},
   "outputs": [],
   "source": [
    "# Retirando as amostras com strings vazias na coluna 'data_inicio' \n",
    "dados_cursos = dados_cursos[dados_cursos['data_inicio']!= '']"
   ]
  },
  {
   "cell_type": "code",
   "execution_count": null,
   "id": "5f0435b4",
   "metadata": {},
   "outputs": [],
   "source": [
    "# Retirando as amostras com strings vazias na coluna 'data_conclusao' \n",
    "dados_cursos = dados_cursos[dados_cursos['data_conclusao'] != '']"
   ]
  },
  {
   "cell_type": "markdown",
   "id": "0684af1d",
   "metadata": {},
   "source": [
    "## <font color=#93c47d> **Tratando dados nulos**"
   ]
  },
  {
   "cell_type": "code",
   "execution_count": null,
   "id": "914ab10b",
   "metadata": {},
   "outputs": [],
   "source": [
    "# Verifica a presença de dados nulos no DataFrame\n",
    "dados_cursos.isna()"
   ]
  },
  {
   "cell_type": "code",
   "execution_count": null,
   "id": "3cc8661d",
   "metadata": {},
   "outputs": [],
   "source": [
    "# Verifica a quantidade de dados nulos por coluna no DataFrame\n",
    "dados_cursos.isna().sum()"
   ]
  },
  {
   "cell_type": "code",
   "execution_count": null,
   "id": "63573ec8",
   "metadata": {},
   "outputs": [],
   "source": [
    "# Remove a linha que possui dados nulos\n",
    "dados_cursos.dropna(inplace=True)"
   ]
  },
  {
   "cell_type": "code",
   "execution_count": null,
   "id": "8f6b80cf",
   "metadata": {},
   "outputs": [],
   "source": [
    "# Reseta o index do DataFrame\n",
    "dados_cursos = dados_cursos.reset_index(drop=True)"
   ]
  },
  {
   "cell_type": "markdown",
   "id": "0391ffe6",
   "metadata": {},
   "source": [
    "## <font color=#93c47d> **Alterando os tipos das colunas**"
   ]
  },
  {
   "cell_type": "code",
   "execution_count": null,
   "id": "0b1eefce",
   "metadata": {},
   "outputs": [],
   "source": [
    "# Visualiza o DataFrame\n",
    "dados_cursos"
   ]
  },
  {
   "cell_type": "code",
   "execution_count": null,
   "id": "dbd36518",
   "metadata": {},
   "outputs": [],
   "source": [
    "# Verifica os tipos das colunas\n",
    "dados_cursos.info()"
   ]
  },
  {
   "cell_type": "code",
   "execution_count": null,
   "id": "3da9546a",
   "metadata": {},
   "outputs": [],
   "source": [
    "# Transforma a coluna 'concluintes' em int64\n",
    "dados_cursos['concluintes'] = dados_cursos['concluintes'].astype(np.int64)"
   ]
  },
  {
   "cell_type": "code",
   "execution_count": null,
   "id": "65e418e9",
   "metadata": {},
   "outputs": [],
   "source": [
    "# Transforma a coluna 'data_inicio' em datetime\n",
    "dados_cursos['data_inicio'] = pd.to_datetime(dados_cursos['data_inicio'])"
   ]
  },
  {
   "cell_type": "code",
   "execution_count": null,
   "id": "9bf19497",
   "metadata": {},
   "outputs": [],
   "source": [
    "# Transforma a coluna 'data_conclusao' em datetime\n",
    "dados_cursos['data_conclusao'] = pd.to_datetime(dados_cursos['data_conclusao'])"
   ]
  },
  {
   "cell_type": "code",
   "execution_count": null,
   "id": "a45a7a3f",
   "metadata": {},
   "outputs": [],
   "source": [
    "# Transforma a coluna preco em float64\n",
    "dados_cursos['preco'] = dados_cursos['preco'].astype(np.float64)"
   ]
  },
  {
   "cell_type": "code",
   "execution_count": null,
   "id": "4ae0a1d2",
   "metadata": {},
   "outputs": [],
   "source": [
    "# Confere a transformação dos tipos das colunas\n",
    "dados_cursos.info()"
   ]
  },
  {
   "cell_type": "markdown",
   "id": "08a650b0",
   "metadata": {},
   "source": [
    "---"
   ]
  }
 ],
 "metadata": {
  "kernelspec": {
   "display_name": "Python 3",
   "language": "python",
   "name": "python3"
  },
  "language_info": {
   "codemirror_mode": {
    "name": "ipython",
    "version": 3
   },
   "file_extension": ".py",
   "mimetype": "text/x-python",
   "name": "python",
   "nbconvert_exporter": "python",
   "pygments_lexer": "ipython3",
   "version": "3.13.2"
  }
 },
 "nbformat": 4,
 "nbformat_minor": 5
}
