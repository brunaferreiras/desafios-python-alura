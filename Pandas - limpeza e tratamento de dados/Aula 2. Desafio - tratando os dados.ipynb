{
 "cells": [
  {
   "cell_type": "markdown",
   "id": "116f8b01",
   "metadata": {},
   "source": [
    "# <font color=#f2b16d>**Aula 2. Transformação inicial dos dados**"
   ]
  },
  {
   "cell_type": "markdown",
   "id": "6b6f06e4",
   "metadata": {},
   "source": [
    "#### <font color=d0e0e3> Desafio referente à Aula 2. \"Transformação inicial dos dados\" do curso **\"Pandas: limpeza e tratamento de dados\"**, da *Alura*."
   ]
  },
  {
   "cell_type": "markdown",
   "id": "f5c9d438",
   "metadata": {},
   "source": [
    "Você recebeu e fez o [download o arquivo JSON chamado “dados.json”](https://cdn3.gnarususercontent.com.br/2929-pandas/dados.json) que possui o seguinte conteúdo:\n",
    "\n",
    "```json\n",
    "{\n",
    "  \"pessoas\": [\n",
    "    {\n",
    "      \"nome\": \"João\",\n",
    "      \"idade\": \"25\",\n",
    "      \"endereco\": {\n",
    "        \"rua\": \"Rua A\",\n",
    "        \"numero\": 123,\n",
    "        \"cidade\": \"São Paulo\"\n",
    "      },\n",
    "      \"telefones\": [\n",
    "        \"11 1111-1111\",\n",
    "        \"11 2222-2222\"\n",
    "      ]\n",
    "    },\n",
    "    {\n",
    "      \"nome\": \"Maria\",\n",
    "      \"idade\": 30,\n",
    "      \"endereco\": {\n",
    "        \"rua\": \"\",\n",
    "        \"numero\": 456,\n",
    "        \"cidade\": \"Rio de Janeiro\"\n",
    "      },\n",
    "      \"telefones\": [\n",
    "        \"21 3333-3333\"\n",
    "      ]\n",
    "    }\n",
    "  ]\n",
    "}\n",
    "```\n",
    "\n",
    "Sua tarefa é realizar alguns tratamentos e deixar esse arquivo JSON como um Pandas DataFrame, sem dados vazios e com a tipagem das colunas de forma correta. Como isso pode ser feito?"
   ]
  },
  {
   "cell_type": "code",
   "execution_count": null,
   "id": "e7475255",
   "metadata": {},
   "outputs": [],
   "source": [
    "# Importa as bibliotecas Pandas e JSON\n",
    "import pandas as pd\n",
    "import json\n"
   ]
  },
  {
   "cell_type": "code",
   "execution_count": null,
   "id": "ed12131d",
   "metadata": {},
   "outputs": [],
   "source": [
    "# Lê e carrega os dados do arquivo JSON\n",
    "dados = pd.read_json('dados.json')"
   ]
  },
  {
   "cell_type": "code",
   "execution_count": null,
   "id": "16fc80b6",
   "metadata": {},
   "outputs": [],
   "source": [
    "# Normaliza os dados do DataFrame\n",
    "dados_normal = pd.json_normalize(dados['pessoas'])\n",
    "dados_normal"
   ]
  },
  {
   "cell_type": "code",
   "execution_count": null,
   "id": "afb0c5f4",
   "metadata": {},
   "outputs": [],
   "source": [
    "# Verifica informações sobre cada coluna do DataFrame, incluindo seus tipos\n",
    "dados_normal.info()"
   ]
  },
  {
   "cell_type": "code",
   "execution_count": null,
   "id": "29c9c6f7",
   "metadata": {},
   "outputs": [],
   "source": [
    "# Altera o tipo da coluna idade\n",
    "dados_normal['idade'] = dados_normal['idade'].astype(int)"
   ]
  },
  {
   "cell_type": "code",
   "execution_count": null,
   "id": "c4f954b2",
   "metadata": {},
   "outputs": [],
   "source": [
    "# Confere a alteração no tipo da coluna\n",
    "dados_normal.info()"
   ]
  },
  {
   "cell_type": "code",
   "execution_count": null,
   "id": "b10274f9",
   "metadata": {},
   "outputs": [],
   "source": [
    "# Retira a linha com informação faltante\n",
    "dados_sem_vazio = dados_normal[dados_normal['endereco.rua'] != ''].copy()"
   ]
  },
  {
   "cell_type": "markdown",
   "id": "54b47c65",
   "metadata": {},
   "source": [
    "---"
   ]
  }
 ],
 "metadata": {
  "kernelspec": {
   "display_name": "Python 3",
   "language": "python",
   "name": "python3"
  },
  "language_info": {
   "codemirror_mode": {
    "name": "ipython",
    "version": 3
   },
   "file_extension": ".py",
   "mimetype": "text/x-python",
   "name": "python",
   "nbconvert_exporter": "python",
   "pygments_lexer": "ipython3",
   "version": "3.13.2"
  }
 },
 "nbformat": 4,
 "nbformat_minor": 5
}
