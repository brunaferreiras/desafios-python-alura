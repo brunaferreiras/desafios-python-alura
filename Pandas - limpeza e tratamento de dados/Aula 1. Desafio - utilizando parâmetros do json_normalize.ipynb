{
 "cells": [
  {
   "cell_type": "markdown",
   "id": "57e43304",
   "metadata": {},
   "source": [
    "# <font color=#f2b16d>**Aula 1. Conhecendo os dados**"
   ]
  },
  {
   "cell_type": "markdown",
   "id": "93ac3437",
   "metadata": {},
   "source": [
    "#### <font color=d0e0e3> Desafio referente à Aula 1. \"Conhecendo os dados\" do curso **\"Pandas: limpeza e tratamento de dados\"**, da *Alura*."
   ]
  },
  {
   "cell_type": "markdown",
   "id": "bacfffd2",
   "metadata": {},
   "source": [
    "Ao normalizar o objeto JSON durante a aula passamos simplesmente `pd.json_normalize(<dados>)` mas o método `json_normalize` possui diversos parâmetros para trabalhar com estruturas de dados mais complexas.\n",
    "\n",
    "Você recebeu a tarefa de normalizar o seguinte arquivo JSON chamado [“informacoes.json”](https://cdn3.gnarususercontent.com.br/2929-pandas/informacoes.json) referente a algumas informações de identificação de um cliente. O arquivo possui o seguinte conteúdo:\n",
    "\n",
    "```json\n",
    "{\n",
    "  \"nome\": \"João\",\n",
    "  \"idade\": 28,\n",
    "  \"enderecos\": [\n",
    "    {\n",
    "      \"tipo\": \"casa\",\n",
    "      \"rua\": \"Rua A\",\n",
    "      \"numero\": 123,\n",
    "      \"cidade\": \"São Paulo\"\n",
    "    },\n",
    "    {\n",
    "      \"tipo\": \"trabalho\",\n",
    "      \"rua\": \"Rua B\",\n",
    "      \"numero\": 456,\n",
    "      \"cidade\": \"Rio de Janeiro\"\n",
    "    }\n",
    "  ]\n",
    "}\n",
    "```\n",
    "O resultado final deve ser um Pandas DataFrame que possui a seguinte estrutura:\n",
    "\n",
    "| tipo      | rua   | numero | cidade        | idade | nome |\n",
    "|-----------|-------|--------|---------------|-------|------|\n",
    "| casa      | Rua A | 123    | São Paulo     | 28    | João |\n",
    "| trabalho  | Rua B | 456    | Rio de Janeiro| 28    | João |\n",
    "\n",
    "Como podemos fazer isso?"
   ]
  },
  {
   "cell_type": "code",
   "execution_count": null,
   "id": "c84954e1",
   "metadata": {},
   "outputs": [],
   "source": [
    "# Importação das bibliotecas\n",
    "import pandas as pd\n",
    "import json"
   ]
  },
  {
   "cell_type": "code",
   "execution_count": null,
   "id": "3bb9c332",
   "metadata": {},
   "outputs": [],
   "source": [
    "# Carrega os dados do arquivo JSON bruto\n",
    "with open('informacoes.json') as f:\n",
    "    informacoes_bruto = json.load(f)"
   ]
  },
  {
   "cell_type": "code",
   "execution_count": null,
   "id": "f0f0507b",
   "metadata": {},
   "outputs": [],
   "source": [
    "# Normaliza os dados brutos carregando para um DataFrame\n",
    "informacoes_normal = pd.json_normalize(informacoes_bruto, record_path='enderecos', meta=['idade','nome'])\n",
    "informacoes_normal"
   ]
  },
  {
   "cell_type": "markdown",
   "id": "f0626198",
   "metadata": {},
   "source": [
    "---"
   ]
  }
 ],
 "metadata": {
  "kernelspec": {
   "display_name": "Python 3",
   "language": "python",
   "name": "python3"
  },
  "language_info": {
   "codemirror_mode": {
    "name": "ipython",
    "version": 3
   },
   "file_extension": ".py",
   "mimetype": "text/x-python",
   "name": "python",
   "nbconvert_exporter": "python",
   "pygments_lexer": "ipython3",
   "version": "3.13.2"
  }
 },
 "nbformat": 4,
 "nbformat_minor": 5
}
